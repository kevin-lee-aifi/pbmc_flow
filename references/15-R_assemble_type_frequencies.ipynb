{
 "cells": [
  {
   "cell_type": "markdown",
   "id": "203e853d-5079-4ed9-8407-b20e4f2829cb",
   "metadata": {},
   "source": [
    "# Assemble cell type frequencies\n",
    "\n",
    "In this notebook, we read our scRNA-seq data and clinical labs, and use these to produce frequencies and proportions of cell types at each of our cell type labeling levels for each sample.\n",
    "\n",
    "These results are combined with sample-specific metadata to enable downstream analysis and comparisons.\n",
    "\n",
    "In addition to computing counts/frequency and fraction of total cells per sample, we use the Absolute Lymphocyte Counts from Clinical Blood Counts performed on the same blood draws to estimate absolute cell counts for each sample. This is done by computing the ratio between the lymphocyte counts in the scRNA-seq data and the ALC to get an Absolute count per RNA count correction factor, and then multiplying this ratio by the number of cells observed for each cell type:\n",
    "\n",
    "$$C_{type} = N_{type} * {{ALC}\\over N_{Tcells} + N_{Bcells} + N_{NKcells}}$$\n",
    "\n",
    "$ALC$: Absolute lymphocyte count  \n",
    "$C_{type}$: Estimated absolute count for a specific type  \n",
    "$N_{type}$: count of cells of a specific type in scRNA-seq sample  \n",
    "$N_{Tcells} + N_{Bcells} + N_{NKcells}$: count of lymphocytes in scRNA-seq sample\n",
    "\n",
    "## Output format\n",
    "Outputs include the following columns:  \n",
    "\n",
    "**Sample Metadata columns**  \n",
    "`cohort.cohortGuid`: Cohort ID (BR1 or BR2)  \n",
    "`subject.subjectGuid`: Subject ID  \n",
    "`subject.biologicalSex`: Subject Sex (Female or Male)  \n",
    "`subject.cmv`: Subject CMV Status (Negative or Positive)  \n",
    "`subject.bmi`: Subject BMI (integer)  \n",
    "`subject.race`: Subject race  \n",
    "`subject.ethnicity`: Subject ethnicity  \n",
    "`subject.birthYear`: Subject Birth Year  \n",
    "`subject.ageAtFirstDraw`: Subject Age at earliest blood draw in study  \n",
    "`sample.sampleKitGuid`: Sample Kit ID  \n",
    "`sample.visitName`: Sample Visit Name  \n",
    "`sample.drawDate`: Sample Draw Date (Year-Month)  \n",
    "`sample.subjectAgeAtDraw`: Subject age at time of draw, based on year of Draw Date and Birth Year  \n",
    "`specimen.specimenGuid`: Specimen ID (pbmc_sample_id in .h5 files)  \n",
    "  \n",
    "**Frequency-related columns**  \n",
    "(for AIFI_L1 as an example; AIFI_L1 is replaced with AIFI_L2 and AIFI_L3 for those levels)  \n",
    "\n",
    "`AIFI_L1`: Cell Type assignment  \n",
    "`AIFI_L1_count`: Count of cells within this sample with cell type assignment  \n",
    "`total_cells`: Total cells within this sample  \n",
    "`scrna.lymphocyte_count`: Sum of T, NK, and B cells  \n",
    "`bc.lymphocyte_count`: Absolute Lymphocyte Count (ALC) from clinical Blood Counts (bc.)  \n",
    "`alc_ratio`: ALC per scRNA Lymphocyte Count  \n",
    "`AIFI_L1_frac_total`: Fraction of cells with cell type assignment divided by Total cells for this sample  \n",
    "`AIFI_L1_alc`: ALC estimate for this cell type assignment  \n",
    "`AIFI_L1_clr`: Centered Log Ratio computed using AIFI_L1_frac_total for all types within this sample  \n"
   ]
  },
  {
   "cell_type": "code",
   "execution_count": 1,
   "id": "f3fb6659-adf0-4611-a42e-b3fb57cb713b",
   "metadata": {},
   "outputs": [],
   "source": [
    "quiet_library <- function(...) { suppressPackageStartupMessages(library(...)) }\n",
    "\n",
    "quiet_library(hise)\n",
    "quiet_library(data.table)\n",
    "quiet_library(dplyr)"
   ]
  },
  {
   "cell_type": "markdown",
   "id": "ed631fa5-50da-44fb-809d-616e992ba446",
   "metadata": {},
   "source": [
    "CLR Transformation function from Mansi Singh"
   ]
  },
  {
   "cell_type": "code",
   "execution_count": 2,
   "id": "c885d988-df92-420d-ac01-4d07a8472eb8",
   "metadata": {},
   "outputs": [],
   "source": [
    "clr_transform <- function(x) {\n",
    "  if (length(x) == 0) {\n",
    "    return(NA)  # return NA for empty vectors\n",
    "  }\n",
    "  geom_mean <- exp(mean(log(x)))\n",
    "  return(log(x / geom_mean))\n",
    "}"
   ]
  },
  {
   "cell_type": "markdown",
   "id": "58f88ab3-a249-4c90-a32a-3f854075d3aa",
   "metadata": {},
   "source": [
    "## Retrieve clinical lab results"
   ]
  },
  {
   "cell_type": "code",
   "execution_count": 3,
   "id": "2833ddde-ef52-432a-ac90-641cf452bff8",
   "metadata": {},
   "outputs": [],
   "source": [
    "labs_uuid <- \"bd618af8-99e2-45f8-bed8-655348d4cfeb\"\n",
    "res <- cacheFiles(list(labs_uuid))"
   ]
  },
  {
   "cell_type": "code",
   "execution_count": 4,
   "id": "9c5a2119-9547-4a3d-8544-22c4738c72ca",
   "metadata": {},
   "outputs": [],
   "source": [
    "labs_file <- \"cache/bd618af8-99e2-45f8-bed8-655348d4cfeb/diha_assembled_labs_2024-04-09.csv\"\n",
    "labs <- read.csv(labs_file)"
   ]
  },
  {
   "cell_type": "code",
   "execution_count": 5,
   "id": "509fb7c2-0fe4-46c5-a310-8f634a4ac6c5",
   "metadata": {},
   "outputs": [],
   "source": [
    "alc <- labs %>%\n",
    "  select(sample.sampleKitGuid, bc.lymphocyte_count)"
   ]
  },
  {
   "cell_type": "markdown",
   "id": "ef79f60f-51ee-409f-836e-eed18a0b0664",
   "metadata": {},
   "source": [
    "## Retrieve labeled cell metadata"
   ]
  },
  {
   "cell_type": "code",
   "execution_count": 6,
   "id": "f8f5a54a-7513-4c09-b6af-29b06986c962",
   "metadata": {},
   "outputs": [],
   "source": [
    "meta_uuid <- \"4a4d94b0-3a15-4403-b0f4-fe22204741e4\"\n",
    "res <- cacheFiles(list(meta_uuid))"
   ]
  },
  {
   "cell_type": "code",
   "execution_count": 7,
   "id": "2e909af7-0bbf-466a-aa70-31876c571736",
   "metadata": {},
   "outputs": [],
   "source": [
    "meta_file <- \"cache/4a4d94b0-3a15-4403-b0f4-fe22204741e4/diha_all_cell_meta_2024-05-05.csv\"\n",
    "meta <- fread(meta_file)\n",
    "meta <- as.data.frame(meta)"
   ]
  },
  {
   "cell_type": "code",
   "execution_count": 8,
   "id": "69006543-97a1-4ef9-a9cb-7e20a81ff860",
   "metadata": {},
   "outputs": [
    {
     "data": {
      "text/html": [
       "13795227"
      ],
      "text/latex": [
       "13795227"
      ],
      "text/markdown": [
       "13795227"
      ],
      "text/plain": [
       "[1] 13795227"
      ]
     },
     "metadata": {},
     "output_type": "display_data"
    }
   ],
   "source": [
    "nrow(meta)"
   ]
  },
  {
   "cell_type": "code",
   "execution_count": 9,
   "id": "08ceb3ab-05d8-4092-944e-b238460ee147",
   "metadata": {},
   "outputs": [],
   "source": [
    "sample_meta <- meta %>%\n",
    "  select(starts_with(\"cohort\"),\n",
    "         starts_with(\"subject\"),\n",
    "         starts_with(\"sample\"),\n",
    "         starts_with(\"specimen\")) %>%\n",
    "  unique()"
   ]
  },
  {
   "cell_type": "code",
   "execution_count": 10,
   "id": "59fd993e-ad14-4a76-9d33-8274c37f638b",
   "metadata": {},
   "outputs": [
    {
     "data": {
      "text/html": [
       "868"
      ],
      "text/latex": [
       "868"
      ],
      "text/markdown": [
       "868"
      ],
      "text/plain": [
       "[1] 868"
      ]
     },
     "metadata": {},
     "output_type": "display_data"
    }
   ],
   "source": [
    "nrow(sample_meta)"
   ]
  },
  {
   "cell_type": "code",
   "execution_count": 11,
   "id": "6b455fb0-8333-4214-8f15-3e21416536af",
   "metadata": {},
   "outputs": [],
   "source": [
    "sample_cols <- names(sample_meta)"
   ]
  },
  {
   "cell_type": "markdown",
   "id": "66670e79-2e50-4bcd-84d8-ed8719856a3c",
   "metadata": {},
   "source": [
    "## Compute lymphocyte counts per sample"
   ]
  },
  {
   "cell_type": "code",
   "execution_count": 12,
   "id": "72dd7d9e-a4ed-4b30-abe4-fea15dac24d6",
   "metadata": {},
   "outputs": [
    {
     "data": {
      "text/html": [
       "<style>\n",
       ".list-inline {list-style: none; margin:0; padding: 0}\n",
       ".list-inline>li {display: inline-block}\n",
       ".list-inline>li:not(:last-child)::after {content: \"\\00b7\"; padding: 0 .5ex}\n",
       "</style>\n",
       "<ol class=list-inline><li>'B cell'</li><li>'T cell'</li><li>'NK cell'</li><li>'ILC'</li><li>'DC'</li><li>'Monocyte'</li><li>'Progenitor cell'</li><li>'Erythrocyte'</li><li>'Platelet'</li></ol>\n"
      ],
      "text/latex": [
       "\\begin{enumerate*}\n",
       "\\item 'B cell'\n",
       "\\item 'T cell'\n",
       "\\item 'NK cell'\n",
       "\\item 'ILC'\n",
       "\\item 'DC'\n",
       "\\item 'Monocyte'\n",
       "\\item 'Progenitor cell'\n",
       "\\item 'Erythrocyte'\n",
       "\\item 'Platelet'\n",
       "\\end{enumerate*}\n"
      ],
      "text/markdown": [
       "1. 'B cell'\n",
       "2. 'T cell'\n",
       "3. 'NK cell'\n",
       "4. 'ILC'\n",
       "5. 'DC'\n",
       "6. 'Monocyte'\n",
       "7. 'Progenitor cell'\n",
       "8. 'Erythrocyte'\n",
       "9. 'Platelet'\n",
       "\n",
       "\n"
      ],
      "text/plain": [
       "[1] \"B cell\"          \"T cell\"          \"NK cell\"         \"ILC\"            \n",
       "[5] \"DC\"              \"Monocyte\"        \"Progenitor cell\" \"Erythrocyte\"    \n",
       "[9] \"Platelet\"       "
      ]
     },
     "metadata": {},
     "output_type": "display_data"
    }
   ],
   "source": [
    "l1_types <- unique(meta$AIFI_L1)\n",
    "l1_types"
   ]
  },
  {
   "cell_type": "code",
   "execution_count": 13,
   "id": "17f26f0f-b6b6-4e38-a550-0fc9b30ca53d",
   "metadata": {},
   "outputs": [
    {
     "name": "stderr",
     "output_type": "stream",
     "text": [
      "\u001b[1m\u001b[22m`summarise()` has grouped output by 'sample.sampleKitGuid'. You can override\n",
      "using the `.groups` argument.\n"
     ]
    }
   ],
   "source": [
    "lc_l1_types <- c(\"B cell\", \"NK cell\", \"T cell\")\n",
    "sample_lc <- meta %>%\n",
    "  group_by(sample.sampleKitGuid) %>%\n",
    "  mutate(total_cells = n()) %>%\n",
    "  filter(AIFI_L1 %in% lc_l1_types) %>%\n",
    "  group_by(sample.sampleKitGuid, total_cells) %>%\n",
    "  summarise(scrna.lymphocyte_count = n(),\n",
    "            .groups = \"keep\")"
   ]
  },
  {
   "cell_type": "code",
   "execution_count": 14,
   "id": "7bca4d44-f2d8-4b03-bcee-8bdd55522f23",
   "metadata": {},
   "outputs": [
    {
     "name": "stderr",
     "output_type": "stream",
     "text": [
      "\u001b[1m\u001b[22mJoining with `by = join_by(sample.sampleKitGuid)`\n"
     ]
    }
   ],
   "source": [
    "sample_lc <- sample_lc %>%\n",
    "  left_join(alc, by = \"sample.sampleKitGuid\")"
   ]
  },
  {
   "cell_type": "code",
   "execution_count": 15,
   "id": "eb2a65f6-6b5e-4e88-bbed-5775579aec9e",
   "metadata": {},
   "outputs": [],
   "source": [
    "sample_lc <- sample_lc %>%\n",
    "  mutate(alc_ratio = bc.lymphocyte_count / scrna.lymphocyte_count)"
   ]
  },
  {
   "cell_type": "code",
   "execution_count": 16,
   "id": "f2783903-362f-44a2-8c91-545a95cec4f3",
   "metadata": {},
   "outputs": [
    {
     "data": {
      "text/html": [
       "<table class=\"dataframe\">\n",
       "<caption>A grouped_df: 6 × 5</caption>\n",
       "<thead>\n",
       "\t<tr><th scope=col>sample.sampleKitGuid</th><th scope=col>total_cells</th><th scope=col>scrna.lymphocyte_count</th><th scope=col>bc.lymphocyte_count</th><th scope=col>alc_ratio</th></tr>\n",
       "\t<tr><th scope=col>&lt;chr&gt;</th><th scope=col>&lt;int&gt;</th><th scope=col>&lt;int&gt;</th><th scope=col>&lt;int&gt;</th><th scope=col>&lt;dbl&gt;</th></tr>\n",
       "</thead>\n",
       "<tbody>\n",
       "\t<tr><td>KT00001</td><td>18231</td><td>13903</td><td>1337</td><td>0.09616630</td></tr>\n",
       "\t<tr><td>KT00002</td><td>17766</td><td>13888</td><td>2173</td><td>0.15646601</td></tr>\n",
       "\t<tr><td>KT00003</td><td>18788</td><td>15012</td><td>1861</td><td>0.12396749</td></tr>\n",
       "\t<tr><td>KT00004</td><td>16849</td><td>14648</td><td>1444</td><td>0.09858001</td></tr>\n",
       "\t<tr><td>KT00006</td><td>17550</td><td>10503</td><td>1406</td><td>0.13386651</td></tr>\n",
       "\t<tr><td>KT00007</td><td>16526</td><td>13906</td><td>1824</td><td>0.13116640</td></tr>\n",
       "</tbody>\n",
       "</table>\n"
      ],
      "text/latex": [
       "A grouped\\_df: 6 × 5\n",
       "\\begin{tabular}{lllll}\n",
       " sample.sampleKitGuid & total\\_cells & scrna.lymphocyte\\_count & bc.lymphocyte\\_count & alc\\_ratio\\\\\n",
       " <chr> & <int> & <int> & <int> & <dbl>\\\\\n",
       "\\hline\n",
       "\t KT00001 & 18231 & 13903 & 1337 & 0.09616630\\\\\n",
       "\t KT00002 & 17766 & 13888 & 2173 & 0.15646601\\\\\n",
       "\t KT00003 & 18788 & 15012 & 1861 & 0.12396749\\\\\n",
       "\t KT00004 & 16849 & 14648 & 1444 & 0.09858001\\\\\n",
       "\t KT00006 & 17550 & 10503 & 1406 & 0.13386651\\\\\n",
       "\t KT00007 & 16526 & 13906 & 1824 & 0.13116640\\\\\n",
       "\\end{tabular}\n"
      ],
      "text/markdown": [
       "\n",
       "A grouped_df: 6 × 5\n",
       "\n",
       "| sample.sampleKitGuid &lt;chr&gt; | total_cells &lt;int&gt; | scrna.lymphocyte_count &lt;int&gt; | bc.lymphocyte_count &lt;int&gt; | alc_ratio &lt;dbl&gt; |\n",
       "|---|---|---|---|---|\n",
       "| KT00001 | 18231 | 13903 | 1337 | 0.09616630 |\n",
       "| KT00002 | 17766 | 13888 | 2173 | 0.15646601 |\n",
       "| KT00003 | 18788 | 15012 | 1861 | 0.12396749 |\n",
       "| KT00004 | 16849 | 14648 | 1444 | 0.09858001 |\n",
       "| KT00006 | 17550 | 10503 | 1406 | 0.13386651 |\n",
       "| KT00007 | 16526 | 13906 | 1824 | 0.13116640 |\n",
       "\n"
      ],
      "text/plain": [
       "  sample.sampleKitGuid total_cells scrna.lymphocyte_count bc.lymphocyte_count\n",
       "1 KT00001              18231       13903                  1337               \n",
       "2 KT00002              17766       13888                  2173               \n",
       "3 KT00003              18788       15012                  1861               \n",
       "4 KT00004              16849       14648                  1444               \n",
       "5 KT00006              17550       10503                  1406               \n",
       "6 KT00007              16526       13906                  1824               \n",
       "  alc_ratio \n",
       "1 0.09616630\n",
       "2 0.15646601\n",
       "3 0.12396749\n",
       "4 0.09858001\n",
       "5 0.13386651\n",
       "6 0.13116640"
      ]
     },
     "metadata": {},
     "output_type": "display_data"
    }
   ],
   "source": [
    "head(sample_lc)"
   ]
  },
  {
   "cell_type": "markdown",
   "id": "d3142665-bfb0-4f50-9405-6e9e62744855",
   "metadata": {},
   "source": [
    "## Assemble cell type counts"
   ]
  },
  {
   "cell_type": "markdown",
   "id": "c345ac41-7f3b-42ee-adf9-7cd54ae1e903",
   "metadata": {},
   "source": [
    "### L1"
   ]
  },
  {
   "cell_type": "code",
   "execution_count": 17,
   "id": "faceaf02-e74b-4a40-b884-1bc4f5c1b83b",
   "metadata": {},
   "outputs": [
    {
     "name": "stderr",
     "output_type": "stream",
     "text": [
      "\u001b[1m\u001b[22mJoining with `by = join_by(sample.sampleKitGuid)`\n"
     ]
    }
   ],
   "source": [
    "l1_counts <- meta %>%\n",
    "  # Count each type per sample\n",
    "    group_by(sample.sampleKitGuid, AIFI_L1) %>%\n",
    "    summarise(AIFI_L1_count = n(), .groups = \"keep\") %>%\n",
    "  # Add ALC and total sample counts for use below\n",
    "    left_join(sample_lc, by = \"sample.sampleKitGuid\") %>%\n",
    "  # Compute fractions of total cells per sample\n",
    "    mutate(AIFI_L1_frac_total = AIFI_L1_count / total_cells) %>%\n",
    "  # Compute LC estimate\n",
    "    mutate(AIFI_L1_alc = AIFI_L1_count * alc_ratio) %>%\n",
    "  # Regroup by sample and compute CLR for fractions\n",
    "    group_by(sample.sampleKitGuid) %>%\n",
    "    mutate(AIFI_L1_clr = clr_transform(AIFI_L1_count / total_cells))"
   ]
  },
  {
   "cell_type": "code",
   "execution_count": 18,
   "id": "1be78c35-d5f0-4153-b653-7734dfa1752c",
   "metadata": {},
   "outputs": [
    {
     "data": {
      "text/html": [
       "<table class=\"dataframe\">\n",
       "<caption>A grouped_df: 6 × 10</caption>\n",
       "<thead>\n",
       "\t<tr><th scope=col>sample.sampleKitGuid</th><th scope=col>AIFI_L1</th><th scope=col>AIFI_L1_count</th><th scope=col>total_cells</th><th scope=col>scrna.lymphocyte_count</th><th scope=col>bc.lymphocyte_count</th><th scope=col>alc_ratio</th><th scope=col>AIFI_L1_frac_total</th><th scope=col>AIFI_L1_alc</th><th scope=col>AIFI_L1_clr</th></tr>\n",
       "\t<tr><th scope=col>&lt;chr&gt;</th><th scope=col>&lt;chr&gt;</th><th scope=col>&lt;int&gt;</th><th scope=col>&lt;int&gt;</th><th scope=col>&lt;int&gt;</th><th scope=col>&lt;int&gt;</th><th scope=col>&lt;dbl&gt;</th><th scope=col>&lt;dbl&gt;</th><th scope=col>&lt;dbl&gt;</th><th scope=col>&lt;dbl&gt;</th></tr>\n",
       "</thead>\n",
       "<tbody>\n",
       "\t<tr><td>KT00001</td><td>B cell     </td><td>1781</td><td>18231</td><td>13903</td><td>1337</td><td>0.0961663</td><td>0.0976907465</td><td>171.2721715</td><td> 2.0880254</td></tr>\n",
       "\t<tr><td>KT00001</td><td>DC         </td><td> 246</td><td>18231</td><td>13903</td><td>1337</td><td>0.0961663</td><td>0.0134935001</td><td> 23.6569086</td><td> 0.1084267</td></tr>\n",
       "\t<tr><td>KT00001</td><td>Erythrocyte</td><td>  15</td><td>18231</td><td>13903</td><td>1337</td><td>0.0961663</td><td>0.0008227744</td><td>  1.4424944</td><td>-2.6888546</td></tr>\n",
       "\t<tr><td>KT00001</td><td>ILC        </td><td>   8</td><td>18231</td><td>13903</td><td>1337</td><td>0.0961663</td><td>0.0004388130</td><td>  0.7693304</td><td>-3.3174633</td></tr>\n",
       "\t<tr><td>KT00001</td><td>Monocyte   </td><td>4004</td><td>18231</td><td>13903</td><td>1337</td><td>0.0961663</td><td>0.2196259119</td><td>385.0498454</td><td> 2.8981443</td></tr>\n",
       "\t<tr><td>KT00001</td><td>NK cell    </td><td>1202</td><td>18231</td><td>13903</td><td>1337</td><td>0.0961663</td><td>0.0659316549</td><td>115.5918866</td><td> 1.6948373</td></tr>\n",
       "</tbody>\n",
       "</table>\n"
      ],
      "text/latex": [
       "A grouped\\_df: 6 × 10\n",
       "\\begin{tabular}{llllllllll}\n",
       " sample.sampleKitGuid & AIFI\\_L1 & AIFI\\_L1\\_count & total\\_cells & scrna.lymphocyte\\_count & bc.lymphocyte\\_count & alc\\_ratio & AIFI\\_L1\\_frac\\_total & AIFI\\_L1\\_alc & AIFI\\_L1\\_clr\\\\\n",
       " <chr> & <chr> & <int> & <int> & <int> & <int> & <dbl> & <dbl> & <dbl> & <dbl>\\\\\n",
       "\\hline\n",
       "\t KT00001 & B cell      & 1781 & 18231 & 13903 & 1337 & 0.0961663 & 0.0976907465 & 171.2721715 &  2.0880254\\\\\n",
       "\t KT00001 & DC          &  246 & 18231 & 13903 & 1337 & 0.0961663 & 0.0134935001 &  23.6569086 &  0.1084267\\\\\n",
       "\t KT00001 & Erythrocyte &   15 & 18231 & 13903 & 1337 & 0.0961663 & 0.0008227744 &   1.4424944 & -2.6888546\\\\\n",
       "\t KT00001 & ILC         &    8 & 18231 & 13903 & 1337 & 0.0961663 & 0.0004388130 &   0.7693304 & -3.3174633\\\\\n",
       "\t KT00001 & Monocyte    & 4004 & 18231 & 13903 & 1337 & 0.0961663 & 0.2196259119 & 385.0498454 &  2.8981443\\\\\n",
       "\t KT00001 & NK cell     & 1202 & 18231 & 13903 & 1337 & 0.0961663 & 0.0659316549 & 115.5918866 &  1.6948373\\\\\n",
       "\\end{tabular}\n"
      ],
      "text/markdown": [
       "\n",
       "A grouped_df: 6 × 10\n",
       "\n",
       "| sample.sampleKitGuid &lt;chr&gt; | AIFI_L1 &lt;chr&gt; | AIFI_L1_count &lt;int&gt; | total_cells &lt;int&gt; | scrna.lymphocyte_count &lt;int&gt; | bc.lymphocyte_count &lt;int&gt; | alc_ratio &lt;dbl&gt; | AIFI_L1_frac_total &lt;dbl&gt; | AIFI_L1_alc &lt;dbl&gt; | AIFI_L1_clr &lt;dbl&gt; |\n",
       "|---|---|---|---|---|---|---|---|---|---|\n",
       "| KT00001 | B cell      | 1781 | 18231 | 13903 | 1337 | 0.0961663 | 0.0976907465 | 171.2721715 |  2.0880254 |\n",
       "| KT00001 | DC          |  246 | 18231 | 13903 | 1337 | 0.0961663 | 0.0134935001 |  23.6569086 |  0.1084267 |\n",
       "| KT00001 | Erythrocyte |   15 | 18231 | 13903 | 1337 | 0.0961663 | 0.0008227744 |   1.4424944 | -2.6888546 |\n",
       "| KT00001 | ILC         |    8 | 18231 | 13903 | 1337 | 0.0961663 | 0.0004388130 |   0.7693304 | -3.3174633 |\n",
       "| KT00001 | Monocyte    | 4004 | 18231 | 13903 | 1337 | 0.0961663 | 0.2196259119 | 385.0498454 |  2.8981443 |\n",
       "| KT00001 | NK cell     | 1202 | 18231 | 13903 | 1337 | 0.0961663 | 0.0659316549 | 115.5918866 |  1.6948373 |\n",
       "\n"
      ],
      "text/plain": [
       "  sample.sampleKitGuid AIFI_L1     AIFI_L1_count total_cells\n",
       "1 KT00001              B cell      1781          18231      \n",
       "2 KT00001              DC           246          18231      \n",
       "3 KT00001              Erythrocyte   15          18231      \n",
       "4 KT00001              ILC            8          18231      \n",
       "5 KT00001              Monocyte    4004          18231      \n",
       "6 KT00001              NK cell     1202          18231      \n",
       "  scrna.lymphocyte_count bc.lymphocyte_count alc_ratio AIFI_L1_frac_total\n",
       "1 13903                  1337                0.0961663 0.0976907465      \n",
       "2 13903                  1337                0.0961663 0.0134935001      \n",
       "3 13903                  1337                0.0961663 0.0008227744      \n",
       "4 13903                  1337                0.0961663 0.0004388130      \n",
       "5 13903                  1337                0.0961663 0.2196259119      \n",
       "6 13903                  1337                0.0961663 0.0659316549      \n",
       "  AIFI_L1_alc AIFI_L1_clr\n",
       "1 171.2721715  2.0880254 \n",
       "2  23.6569086  0.1084267 \n",
       "3   1.4424944 -2.6888546 \n",
       "4   0.7693304 -3.3174633 \n",
       "5 385.0498454  2.8981443 \n",
       "6 115.5918866  1.6948373 "
      ]
     },
     "metadata": {},
     "output_type": "display_data"
    }
   ],
   "source": [
    "head(l1_counts)"
   ]
  },
  {
   "cell_type": "markdown",
   "id": "22ebecde-c3d4-49fe-8070-83d655ff5240",
   "metadata": {},
   "source": [
    "Add sample metadata and arrange columns"
   ]
  },
  {
   "cell_type": "code",
   "execution_count": 19,
   "id": "fafc2444-260d-4558-9d24-386837687b04",
   "metadata": {},
   "outputs": [],
   "source": [
    "l1_counts <- l1_counts %>%\n",
    "  left_join(sample_meta, by = \"sample.sampleKitGuid\") %>%\n",
    "  select(one_of(sample_cols), everything())"
   ]
  },
  {
   "cell_type": "code",
   "execution_count": 20,
   "id": "5a9d592a-8836-4ff1-a894-1c7c1a1a3e47",
   "metadata": {},
   "outputs": [
    {
     "data": {
      "text/html": [
       "<table class=\"dataframe\">\n",
       "<caption>A grouped_df: 6 × 23</caption>\n",
       "<thead>\n",
       "\t<tr><th scope=col>cohort.cohortGuid</th><th scope=col>subject.subjectGuid</th><th scope=col>subject.biologicalSex</th><th scope=col>subject.cmv</th><th scope=col>subject.bmi</th><th scope=col>subject.race</th><th scope=col>subject.ethnicity</th><th scope=col>subject.birthYear</th><th scope=col>subject.ageAtFirstDraw</th><th scope=col>sample.sampleKitGuid</th><th scope=col>⋯</th><th scope=col>specimen.specimenGuid</th><th scope=col>AIFI_L1</th><th scope=col>AIFI_L1_count</th><th scope=col>total_cells</th><th scope=col>scrna.lymphocyte_count</th><th scope=col>bc.lymphocyte_count</th><th scope=col>alc_ratio</th><th scope=col>AIFI_L1_frac_total</th><th scope=col>AIFI_L1_alc</th><th scope=col>AIFI_L1_clr</th></tr>\n",
       "\t<tr><th scope=col>&lt;chr&gt;</th><th scope=col>&lt;chr&gt;</th><th scope=col>&lt;chr&gt;</th><th scope=col>&lt;chr&gt;</th><th scope=col>&lt;dbl&gt;</th><th scope=col>&lt;chr&gt;</th><th scope=col>&lt;chr&gt;</th><th scope=col>&lt;int&gt;</th><th scope=col>&lt;int&gt;</th><th scope=col>&lt;chr&gt;</th><th scope=col>⋯</th><th scope=col>&lt;chr&gt;</th><th scope=col>&lt;chr&gt;</th><th scope=col>&lt;int&gt;</th><th scope=col>&lt;int&gt;</th><th scope=col>&lt;int&gt;</th><th scope=col>&lt;int&gt;</th><th scope=col>&lt;dbl&gt;</th><th scope=col>&lt;dbl&gt;</th><th scope=col>&lt;dbl&gt;</th><th scope=col>&lt;dbl&gt;</th></tr>\n",
       "</thead>\n",
       "<tbody>\n",
       "\t<tr><td>BR1</td><td>BR1001</td><td>Female</td><td>Negative</td><td>23</td><td>Caucasian</td><td>Non-Hispanic origin</td><td>1987</td><td>32</td><td>KT00001</td><td>⋯</td><td>PB00001-01</td><td>B cell     </td><td>1781</td><td>18231</td><td>13903</td><td>1337</td><td>0.0961663</td><td>0.0976907465</td><td>171.2721715</td><td> 2.0880254</td></tr>\n",
       "\t<tr><td>BR1</td><td>BR1001</td><td>Female</td><td>Negative</td><td>23</td><td>Caucasian</td><td>Non-Hispanic origin</td><td>1987</td><td>32</td><td>KT00001</td><td>⋯</td><td>PB00001-01</td><td>DC         </td><td> 246</td><td>18231</td><td>13903</td><td>1337</td><td>0.0961663</td><td>0.0134935001</td><td> 23.6569086</td><td> 0.1084267</td></tr>\n",
       "\t<tr><td>BR1</td><td>BR1001</td><td>Female</td><td>Negative</td><td>23</td><td>Caucasian</td><td>Non-Hispanic origin</td><td>1987</td><td>32</td><td>KT00001</td><td>⋯</td><td>PB00001-01</td><td>Erythrocyte</td><td>  15</td><td>18231</td><td>13903</td><td>1337</td><td>0.0961663</td><td>0.0008227744</td><td>  1.4424944</td><td>-2.6888546</td></tr>\n",
       "\t<tr><td>BR1</td><td>BR1001</td><td>Female</td><td>Negative</td><td>23</td><td>Caucasian</td><td>Non-Hispanic origin</td><td>1987</td><td>32</td><td>KT00001</td><td>⋯</td><td>PB00001-01</td><td>ILC        </td><td>   8</td><td>18231</td><td>13903</td><td>1337</td><td>0.0961663</td><td>0.0004388130</td><td>  0.7693304</td><td>-3.3174633</td></tr>\n",
       "\t<tr><td>BR1</td><td>BR1001</td><td>Female</td><td>Negative</td><td>23</td><td>Caucasian</td><td>Non-Hispanic origin</td><td>1987</td><td>32</td><td>KT00001</td><td>⋯</td><td>PB00001-01</td><td>Monocyte   </td><td>4004</td><td>18231</td><td>13903</td><td>1337</td><td>0.0961663</td><td>0.2196259119</td><td>385.0498454</td><td> 2.8981443</td></tr>\n",
       "\t<tr><td>BR1</td><td>BR1001</td><td>Female</td><td>Negative</td><td>23</td><td>Caucasian</td><td>Non-Hispanic origin</td><td>1987</td><td>32</td><td>KT00001</td><td>⋯</td><td>PB00001-01</td><td>NK cell    </td><td>1202</td><td>18231</td><td>13903</td><td>1337</td><td>0.0961663</td><td>0.0659316549</td><td>115.5918866</td><td> 1.6948373</td></tr>\n",
       "</tbody>\n",
       "</table>\n"
      ],
      "text/latex": [
       "A grouped\\_df: 6 × 23\n",
       "\\begin{tabular}{lllllllllllllllllllll}\n",
       " cohort.cohortGuid & subject.subjectGuid & subject.biologicalSex & subject.cmv & subject.bmi & subject.race & subject.ethnicity & subject.birthYear & subject.ageAtFirstDraw & sample.sampleKitGuid & ⋯ & specimen.specimenGuid & AIFI\\_L1 & AIFI\\_L1\\_count & total\\_cells & scrna.lymphocyte\\_count & bc.lymphocyte\\_count & alc\\_ratio & AIFI\\_L1\\_frac\\_total & AIFI\\_L1\\_alc & AIFI\\_L1\\_clr\\\\\n",
       " <chr> & <chr> & <chr> & <chr> & <dbl> & <chr> & <chr> & <int> & <int> & <chr> & ⋯ & <chr> & <chr> & <int> & <int> & <int> & <int> & <dbl> & <dbl> & <dbl> & <dbl>\\\\\n",
       "\\hline\n",
       "\t BR1 & BR1001 & Female & Negative & 23 & Caucasian & Non-Hispanic origin & 1987 & 32 & KT00001 & ⋯ & PB00001-01 & B cell      & 1781 & 18231 & 13903 & 1337 & 0.0961663 & 0.0976907465 & 171.2721715 &  2.0880254\\\\\n",
       "\t BR1 & BR1001 & Female & Negative & 23 & Caucasian & Non-Hispanic origin & 1987 & 32 & KT00001 & ⋯ & PB00001-01 & DC          &  246 & 18231 & 13903 & 1337 & 0.0961663 & 0.0134935001 &  23.6569086 &  0.1084267\\\\\n",
       "\t BR1 & BR1001 & Female & Negative & 23 & Caucasian & Non-Hispanic origin & 1987 & 32 & KT00001 & ⋯ & PB00001-01 & Erythrocyte &   15 & 18231 & 13903 & 1337 & 0.0961663 & 0.0008227744 &   1.4424944 & -2.6888546\\\\\n",
       "\t BR1 & BR1001 & Female & Negative & 23 & Caucasian & Non-Hispanic origin & 1987 & 32 & KT00001 & ⋯ & PB00001-01 & ILC         &    8 & 18231 & 13903 & 1337 & 0.0961663 & 0.0004388130 &   0.7693304 & -3.3174633\\\\\n",
       "\t BR1 & BR1001 & Female & Negative & 23 & Caucasian & Non-Hispanic origin & 1987 & 32 & KT00001 & ⋯ & PB00001-01 & Monocyte    & 4004 & 18231 & 13903 & 1337 & 0.0961663 & 0.2196259119 & 385.0498454 &  2.8981443\\\\\n",
       "\t BR1 & BR1001 & Female & Negative & 23 & Caucasian & Non-Hispanic origin & 1987 & 32 & KT00001 & ⋯ & PB00001-01 & NK cell     & 1202 & 18231 & 13903 & 1337 & 0.0961663 & 0.0659316549 & 115.5918866 &  1.6948373\\\\\n",
       "\\end{tabular}\n"
      ],
      "text/markdown": [
       "\n",
       "A grouped_df: 6 × 23\n",
       "\n",
       "| cohort.cohortGuid &lt;chr&gt; | subject.subjectGuid &lt;chr&gt; | subject.biologicalSex &lt;chr&gt; | subject.cmv &lt;chr&gt; | subject.bmi &lt;dbl&gt; | subject.race &lt;chr&gt; | subject.ethnicity &lt;chr&gt; | subject.birthYear &lt;int&gt; | subject.ageAtFirstDraw &lt;int&gt; | sample.sampleKitGuid &lt;chr&gt; | ⋯ ⋯ | specimen.specimenGuid &lt;chr&gt; | AIFI_L1 &lt;chr&gt; | AIFI_L1_count &lt;int&gt; | total_cells &lt;int&gt; | scrna.lymphocyte_count &lt;int&gt; | bc.lymphocyte_count &lt;int&gt; | alc_ratio &lt;dbl&gt; | AIFI_L1_frac_total &lt;dbl&gt; | AIFI_L1_alc &lt;dbl&gt; | AIFI_L1_clr &lt;dbl&gt; |\n",
       "|---|---|---|---|---|---|---|---|---|---|---|---|---|---|---|---|---|---|---|---|---|\n",
       "| BR1 | BR1001 | Female | Negative | 23 | Caucasian | Non-Hispanic origin | 1987 | 32 | KT00001 | ⋯ | PB00001-01 | B cell      | 1781 | 18231 | 13903 | 1337 | 0.0961663 | 0.0976907465 | 171.2721715 |  2.0880254 |\n",
       "| BR1 | BR1001 | Female | Negative | 23 | Caucasian | Non-Hispanic origin | 1987 | 32 | KT00001 | ⋯ | PB00001-01 | DC          |  246 | 18231 | 13903 | 1337 | 0.0961663 | 0.0134935001 |  23.6569086 |  0.1084267 |\n",
       "| BR1 | BR1001 | Female | Negative | 23 | Caucasian | Non-Hispanic origin | 1987 | 32 | KT00001 | ⋯ | PB00001-01 | Erythrocyte |   15 | 18231 | 13903 | 1337 | 0.0961663 | 0.0008227744 |   1.4424944 | -2.6888546 |\n",
       "| BR1 | BR1001 | Female | Negative | 23 | Caucasian | Non-Hispanic origin | 1987 | 32 | KT00001 | ⋯ | PB00001-01 | ILC         |    8 | 18231 | 13903 | 1337 | 0.0961663 | 0.0004388130 |   0.7693304 | -3.3174633 |\n",
       "| BR1 | BR1001 | Female | Negative | 23 | Caucasian | Non-Hispanic origin | 1987 | 32 | KT00001 | ⋯ | PB00001-01 | Monocyte    | 4004 | 18231 | 13903 | 1337 | 0.0961663 | 0.2196259119 | 385.0498454 |  2.8981443 |\n",
       "| BR1 | BR1001 | Female | Negative | 23 | Caucasian | Non-Hispanic origin | 1987 | 32 | KT00001 | ⋯ | PB00001-01 | NK cell     | 1202 | 18231 | 13903 | 1337 | 0.0961663 | 0.0659316549 | 115.5918866 |  1.6948373 |\n",
       "\n"
      ],
      "text/plain": [
       "  cohort.cohortGuid subject.subjectGuid subject.biologicalSex subject.cmv\n",
       "1 BR1               BR1001              Female                Negative   \n",
       "2 BR1               BR1001              Female                Negative   \n",
       "3 BR1               BR1001              Female                Negative   \n",
       "4 BR1               BR1001              Female                Negative   \n",
       "5 BR1               BR1001              Female                Negative   \n",
       "6 BR1               BR1001              Female                Negative   \n",
       "  subject.bmi subject.race subject.ethnicity   subject.birthYear\n",
       "1 23          Caucasian    Non-Hispanic origin 1987             \n",
       "2 23          Caucasian    Non-Hispanic origin 1987             \n",
       "3 23          Caucasian    Non-Hispanic origin 1987             \n",
       "4 23          Caucasian    Non-Hispanic origin 1987             \n",
       "5 23          Caucasian    Non-Hispanic origin 1987             \n",
       "6 23          Caucasian    Non-Hispanic origin 1987             \n",
       "  subject.ageAtFirstDraw sample.sampleKitGuid ⋯ specimen.specimenGuid\n",
       "1 32                     KT00001              ⋯ PB00001-01           \n",
       "2 32                     KT00001              ⋯ PB00001-01           \n",
       "3 32                     KT00001              ⋯ PB00001-01           \n",
       "4 32                     KT00001              ⋯ PB00001-01           \n",
       "5 32                     KT00001              ⋯ PB00001-01           \n",
       "6 32                     KT00001              ⋯ PB00001-01           \n",
       "  AIFI_L1     AIFI_L1_count total_cells scrna.lymphocyte_count\n",
       "1 B cell      1781          18231       13903                 \n",
       "2 DC           246          18231       13903                 \n",
       "3 Erythrocyte   15          18231       13903                 \n",
       "4 ILC            8          18231       13903                 \n",
       "5 Monocyte    4004          18231       13903                 \n",
       "6 NK cell     1202          18231       13903                 \n",
       "  bc.lymphocyte_count alc_ratio AIFI_L1_frac_total AIFI_L1_alc AIFI_L1_clr\n",
       "1 1337                0.0961663 0.0976907465       171.2721715  2.0880254 \n",
       "2 1337                0.0961663 0.0134935001        23.6569086  0.1084267 \n",
       "3 1337                0.0961663 0.0008227744         1.4424944 -2.6888546 \n",
       "4 1337                0.0961663 0.0004388130         0.7693304 -3.3174633 \n",
       "5 1337                0.0961663 0.2196259119       385.0498454  2.8981443 \n",
       "6 1337                0.0961663 0.0659316549       115.5918866  1.6948373 "
      ]
     },
     "metadata": {},
     "output_type": "display_data"
    }
   ],
   "source": [
    "head(l1_counts)"
   ]
  },
  {
   "cell_type": "markdown",
   "id": "725fd81c-ad81-4174-9880-285e30f98b40",
   "metadata": {},
   "source": [
    "Save counts"
   ]
  },
  {
   "cell_type": "code",
   "execution_count": 21,
   "id": "e36b53d4-c086-42fa-86c7-9ff09a29d88b",
   "metadata": {},
   "outputs": [],
   "source": [
    "l1_file <- paste0(\"output/diha_AIFI_L1_frequencies_\",Sys.Date(),\".csv\")"
   ]
  },
  {
   "cell_type": "code",
   "execution_count": 22,
   "id": "d196f567-7fa3-4d2d-b6b2-9588a0d0b052",
   "metadata": {},
   "outputs": [],
   "source": [
    "write.csv(l1_counts, l1_file,\n",
    "          row.names = FALSE, quote = FALSE)"
   ]
  },
  {
   "cell_type": "markdown",
   "id": "dcf13617-711a-45b5-8795-8b9aa1b96b5b",
   "metadata": {},
   "source": [
    "### L2"
   ]
  },
  {
   "cell_type": "code",
   "execution_count": 23,
   "id": "c1167849-557e-4f5f-8b2e-ce986cc0bb36",
   "metadata": {},
   "outputs": [
    {
     "name": "stderr",
     "output_type": "stream",
     "text": [
      "\u001b[1m\u001b[22mJoining with `by = join_by(sample.sampleKitGuid)`\n"
     ]
    }
   ],
   "source": [
    "l2_counts <- meta %>%\n",
    "  # Count each type per sample\n",
    "    group_by(sample.sampleKitGuid, AIFI_L1, AIFI_L2) %>%\n",
    "    summarise(AIFI_L2_count = n(), .groups = \"keep\") %>%\n",
    "  # Add ALC and total sample counts for use below\n",
    "    left_join(sample_lc, by = \"sample.sampleKitGuid\") %>%\n",
    "  # Compute fractions of total cells per sample\n",
    "    mutate(AIFI_L2_frac_total = AIFI_L2_count / total_cells) %>%\n",
    "  # Compute LC estimate\n",
    "    mutate(AIFI_L2_alc = AIFI_L2_count * alc_ratio) %>%\n",
    "  # Regroup by sample and compute CLR for fractions\n",
    "    group_by(sample.sampleKitGuid) %>%\n",
    "    mutate(AIFI_L2_clr = clr_transform(AIFI_L2_count / total_cells))"
   ]
  },
  {
   "cell_type": "markdown",
   "id": "6a816e50-04d9-4ca0-b517-6bd947a00ffb",
   "metadata": {},
   "source": [
    "Add sample metadata and arrange columns"
   ]
  },
  {
   "cell_type": "code",
   "execution_count": 24,
   "id": "33f35ccc-e6ee-42ce-84d2-f2a6e917496c",
   "metadata": {},
   "outputs": [],
   "source": [
    "l2_counts <- l2_counts %>%\n",
    "  left_join(sample_meta, by = \"sample.sampleKitGuid\") %>%\n",
    "  select(one_of(sample_cols), everything())"
   ]
  },
  {
   "cell_type": "code",
   "execution_count": 25,
   "id": "5c06d3d1-2f94-4c4a-b0bd-15112224bd1a",
   "metadata": {},
   "outputs": [
    {
     "data": {
      "text/html": [
       "<table class=\"dataframe\">\n",
       "<caption>A grouped_df: 6 × 24</caption>\n",
       "<thead>\n",
       "\t<tr><th scope=col>cohort.cohortGuid</th><th scope=col>subject.subjectGuid</th><th scope=col>subject.biologicalSex</th><th scope=col>subject.cmv</th><th scope=col>subject.bmi</th><th scope=col>subject.race</th><th scope=col>subject.ethnicity</th><th scope=col>subject.birthYear</th><th scope=col>subject.ageAtFirstDraw</th><th scope=col>sample.sampleKitGuid</th><th scope=col>⋯</th><th scope=col>AIFI_L1</th><th scope=col>AIFI_L2</th><th scope=col>AIFI_L2_count</th><th scope=col>total_cells</th><th scope=col>scrna.lymphocyte_count</th><th scope=col>bc.lymphocyte_count</th><th scope=col>alc_ratio</th><th scope=col>AIFI_L2_frac_total</th><th scope=col>AIFI_L2_alc</th><th scope=col>AIFI_L2_clr</th></tr>\n",
       "\t<tr><th scope=col>&lt;chr&gt;</th><th scope=col>&lt;chr&gt;</th><th scope=col>&lt;chr&gt;</th><th scope=col>&lt;chr&gt;</th><th scope=col>&lt;dbl&gt;</th><th scope=col>&lt;chr&gt;</th><th scope=col>&lt;chr&gt;</th><th scope=col>&lt;int&gt;</th><th scope=col>&lt;int&gt;</th><th scope=col>&lt;chr&gt;</th><th scope=col>⋯</th><th scope=col>&lt;chr&gt;</th><th scope=col>&lt;chr&gt;</th><th scope=col>&lt;int&gt;</th><th scope=col>&lt;int&gt;</th><th scope=col>&lt;int&gt;</th><th scope=col>&lt;int&gt;</th><th scope=col>&lt;dbl&gt;</th><th scope=col>&lt;dbl&gt;</th><th scope=col>&lt;dbl&gt;</th><th scope=col>&lt;dbl&gt;</th></tr>\n",
       "</thead>\n",
       "<tbody>\n",
       "\t<tr><td>BR1</td><td>BR1001</td><td>Female</td><td>Negative</td><td>23</td><td>Caucasian</td><td>Non-Hispanic origin</td><td>1987</td><td>32</td><td>KT00001</td><td>⋯</td><td>B cell</td><td>Effector B cell    </td><td>  97</td><td>18231</td><td>13903</td><td>1337</td><td>0.0961663</td><td>0.0053206078</td><td>  9.3281306</td><td>-0.410271740</td></tr>\n",
       "\t<tr><td>BR1</td><td>BR1001</td><td>Female</td><td>Negative</td><td>23</td><td>Caucasian</td><td>Non-Hispanic origin</td><td>1987</td><td>32</td><td>KT00001</td><td>⋯</td><td>B cell</td><td>Memory B cell      </td><td> 381</td><td>18231</td><td>13903</td><td>1337</td><td>0.0961663</td><td>0.0208984696</td><td> 36.6393584</td><td> 0.957816657</td></tr>\n",
       "\t<tr><td>BR1</td><td>BR1001</td><td>Female</td><td>Negative</td><td>23</td><td>Caucasian</td><td>Non-Hispanic origin</td><td>1987</td><td>32</td><td>KT00001</td><td>⋯</td><td>B cell</td><td>Naive B cell       </td><td>1140</td><td>18231</td><td>13903</td><td>1337</td><td>0.0961663</td><td>0.0625308540</td><td>109.6295764</td><td> 2.053800823</td></tr>\n",
       "\t<tr><td>BR1</td><td>BR1001</td><td>Female</td><td>Negative</td><td>23</td><td>Caucasian</td><td>Non-Hispanic origin</td><td>1987</td><td>32</td><td>KT00001</td><td>⋯</td><td>B cell</td><td>Plasma cell        </td><td>  18</td><td>18231</td><td>13903</td><td>1337</td><td>0.0961663</td><td>0.0009873293</td><td>  1.7309933</td><td>-2.094610961</td></tr>\n",
       "\t<tr><td>BR1</td><td>BR1001</td><td>Female</td><td>Negative</td><td>23</td><td>Caucasian</td><td>Non-Hispanic origin</td><td>1987</td><td>32</td><td>KT00001</td><td>⋯</td><td>B cell</td><td>Transitional B cell</td><td> 145</td><td>18231</td><td>13903</td><td>1337</td><td>0.0961663</td><td>0.0079534858</td><td> 13.9441128</td><td>-0.008248976</td></tr>\n",
       "\t<tr><td>BR1</td><td>BR1001</td><td>Female</td><td>Negative</td><td>23</td><td>Caucasian</td><td>Non-Hispanic origin</td><td>1987</td><td>32</td><td>KT00001</td><td>⋯</td><td>DC    </td><td>ASDC               </td><td>   7</td><td>18231</td><td>13903</td><td>1337</td><td>0.0961663</td><td>0.0003839614</td><td>  0.6731641</td><td>-3.039072570</td></tr>\n",
       "</tbody>\n",
       "</table>\n"
      ],
      "text/latex": [
       "A grouped\\_df: 6 × 24\n",
       "\\begin{tabular}{lllllllllllllllllllll}\n",
       " cohort.cohortGuid & subject.subjectGuid & subject.biologicalSex & subject.cmv & subject.bmi & subject.race & subject.ethnicity & subject.birthYear & subject.ageAtFirstDraw & sample.sampleKitGuid & ⋯ & AIFI\\_L1 & AIFI\\_L2 & AIFI\\_L2\\_count & total\\_cells & scrna.lymphocyte\\_count & bc.lymphocyte\\_count & alc\\_ratio & AIFI\\_L2\\_frac\\_total & AIFI\\_L2\\_alc & AIFI\\_L2\\_clr\\\\\n",
       " <chr> & <chr> & <chr> & <chr> & <dbl> & <chr> & <chr> & <int> & <int> & <chr> & ⋯ & <chr> & <chr> & <int> & <int> & <int> & <int> & <dbl> & <dbl> & <dbl> & <dbl>\\\\\n",
       "\\hline\n",
       "\t BR1 & BR1001 & Female & Negative & 23 & Caucasian & Non-Hispanic origin & 1987 & 32 & KT00001 & ⋯ & B cell & Effector B cell     &   97 & 18231 & 13903 & 1337 & 0.0961663 & 0.0053206078 &   9.3281306 & -0.410271740\\\\\n",
       "\t BR1 & BR1001 & Female & Negative & 23 & Caucasian & Non-Hispanic origin & 1987 & 32 & KT00001 & ⋯ & B cell & Memory B cell       &  381 & 18231 & 13903 & 1337 & 0.0961663 & 0.0208984696 &  36.6393584 &  0.957816657\\\\\n",
       "\t BR1 & BR1001 & Female & Negative & 23 & Caucasian & Non-Hispanic origin & 1987 & 32 & KT00001 & ⋯ & B cell & Naive B cell        & 1140 & 18231 & 13903 & 1337 & 0.0961663 & 0.0625308540 & 109.6295764 &  2.053800823\\\\\n",
       "\t BR1 & BR1001 & Female & Negative & 23 & Caucasian & Non-Hispanic origin & 1987 & 32 & KT00001 & ⋯ & B cell & Plasma cell         &   18 & 18231 & 13903 & 1337 & 0.0961663 & 0.0009873293 &   1.7309933 & -2.094610961\\\\\n",
       "\t BR1 & BR1001 & Female & Negative & 23 & Caucasian & Non-Hispanic origin & 1987 & 32 & KT00001 & ⋯ & B cell & Transitional B cell &  145 & 18231 & 13903 & 1337 & 0.0961663 & 0.0079534858 &  13.9441128 & -0.008248976\\\\\n",
       "\t BR1 & BR1001 & Female & Negative & 23 & Caucasian & Non-Hispanic origin & 1987 & 32 & KT00001 & ⋯ & DC     & ASDC                &    7 & 18231 & 13903 & 1337 & 0.0961663 & 0.0003839614 &   0.6731641 & -3.039072570\\\\\n",
       "\\end{tabular}\n"
      ],
      "text/markdown": [
       "\n",
       "A grouped_df: 6 × 24\n",
       "\n",
       "| cohort.cohortGuid &lt;chr&gt; | subject.subjectGuid &lt;chr&gt; | subject.biologicalSex &lt;chr&gt; | subject.cmv &lt;chr&gt; | subject.bmi &lt;dbl&gt; | subject.race &lt;chr&gt; | subject.ethnicity &lt;chr&gt; | subject.birthYear &lt;int&gt; | subject.ageAtFirstDraw &lt;int&gt; | sample.sampleKitGuid &lt;chr&gt; | ⋯ ⋯ | AIFI_L1 &lt;chr&gt; | AIFI_L2 &lt;chr&gt; | AIFI_L2_count &lt;int&gt; | total_cells &lt;int&gt; | scrna.lymphocyte_count &lt;int&gt; | bc.lymphocyte_count &lt;int&gt; | alc_ratio &lt;dbl&gt; | AIFI_L2_frac_total &lt;dbl&gt; | AIFI_L2_alc &lt;dbl&gt; | AIFI_L2_clr &lt;dbl&gt; |\n",
       "|---|---|---|---|---|---|---|---|---|---|---|---|---|---|---|---|---|---|---|---|---|\n",
       "| BR1 | BR1001 | Female | Negative | 23 | Caucasian | Non-Hispanic origin | 1987 | 32 | KT00001 | ⋯ | B cell | Effector B cell     |   97 | 18231 | 13903 | 1337 | 0.0961663 | 0.0053206078 |   9.3281306 | -0.410271740 |\n",
       "| BR1 | BR1001 | Female | Negative | 23 | Caucasian | Non-Hispanic origin | 1987 | 32 | KT00001 | ⋯ | B cell | Memory B cell       |  381 | 18231 | 13903 | 1337 | 0.0961663 | 0.0208984696 |  36.6393584 |  0.957816657 |\n",
       "| BR1 | BR1001 | Female | Negative | 23 | Caucasian | Non-Hispanic origin | 1987 | 32 | KT00001 | ⋯ | B cell | Naive B cell        | 1140 | 18231 | 13903 | 1337 | 0.0961663 | 0.0625308540 | 109.6295764 |  2.053800823 |\n",
       "| BR1 | BR1001 | Female | Negative | 23 | Caucasian | Non-Hispanic origin | 1987 | 32 | KT00001 | ⋯ | B cell | Plasma cell         |   18 | 18231 | 13903 | 1337 | 0.0961663 | 0.0009873293 |   1.7309933 | -2.094610961 |\n",
       "| BR1 | BR1001 | Female | Negative | 23 | Caucasian | Non-Hispanic origin | 1987 | 32 | KT00001 | ⋯ | B cell | Transitional B cell |  145 | 18231 | 13903 | 1337 | 0.0961663 | 0.0079534858 |  13.9441128 | -0.008248976 |\n",
       "| BR1 | BR1001 | Female | Negative | 23 | Caucasian | Non-Hispanic origin | 1987 | 32 | KT00001 | ⋯ | DC     | ASDC                |    7 | 18231 | 13903 | 1337 | 0.0961663 | 0.0003839614 |   0.6731641 | -3.039072570 |\n",
       "\n"
      ],
      "text/plain": [
       "  cohort.cohortGuid subject.subjectGuid subject.biologicalSex subject.cmv\n",
       "1 BR1               BR1001              Female                Negative   \n",
       "2 BR1               BR1001              Female                Negative   \n",
       "3 BR1               BR1001              Female                Negative   \n",
       "4 BR1               BR1001              Female                Negative   \n",
       "5 BR1               BR1001              Female                Negative   \n",
       "6 BR1               BR1001              Female                Negative   \n",
       "  subject.bmi subject.race subject.ethnicity   subject.birthYear\n",
       "1 23          Caucasian    Non-Hispanic origin 1987             \n",
       "2 23          Caucasian    Non-Hispanic origin 1987             \n",
       "3 23          Caucasian    Non-Hispanic origin 1987             \n",
       "4 23          Caucasian    Non-Hispanic origin 1987             \n",
       "5 23          Caucasian    Non-Hispanic origin 1987             \n",
       "6 23          Caucasian    Non-Hispanic origin 1987             \n",
       "  subject.ageAtFirstDraw sample.sampleKitGuid ⋯ AIFI_L1 AIFI_L2            \n",
       "1 32                     KT00001              ⋯ B cell  Effector B cell    \n",
       "2 32                     KT00001              ⋯ B cell  Memory B cell      \n",
       "3 32                     KT00001              ⋯ B cell  Naive B cell       \n",
       "4 32                     KT00001              ⋯ B cell  Plasma cell        \n",
       "5 32                     KT00001              ⋯ B cell  Transitional B cell\n",
       "6 32                     KT00001              ⋯ DC      ASDC               \n",
       "  AIFI_L2_count total_cells scrna.lymphocyte_count bc.lymphocyte_count\n",
       "1   97          18231       13903                  1337               \n",
       "2  381          18231       13903                  1337               \n",
       "3 1140          18231       13903                  1337               \n",
       "4   18          18231       13903                  1337               \n",
       "5  145          18231       13903                  1337               \n",
       "6    7          18231       13903                  1337               \n",
       "  alc_ratio AIFI_L2_frac_total AIFI_L2_alc AIFI_L2_clr \n",
       "1 0.0961663 0.0053206078         9.3281306 -0.410271740\n",
       "2 0.0961663 0.0208984696        36.6393584  0.957816657\n",
       "3 0.0961663 0.0625308540       109.6295764  2.053800823\n",
       "4 0.0961663 0.0009873293         1.7309933 -2.094610961\n",
       "5 0.0961663 0.0079534858        13.9441128 -0.008248976\n",
       "6 0.0961663 0.0003839614         0.6731641 -3.039072570"
      ]
     },
     "metadata": {},
     "output_type": "display_data"
    }
   ],
   "source": [
    "head(l2_counts)"
   ]
  },
  {
   "cell_type": "markdown",
   "id": "75eee729-873e-4115-9b97-0edb02cef113",
   "metadata": {},
   "source": [
    "Save counts"
   ]
  },
  {
   "cell_type": "code",
   "execution_count": 26,
   "id": "e216d1a2-b276-4e5f-9890-473984fe8cb7",
   "metadata": {},
   "outputs": [],
   "source": [
    "l2_file <- paste0(\"output/diha_AIFI_L2_frequencies_\",Sys.Date(),\".csv\")"
   ]
  },
  {
   "cell_type": "code",
   "execution_count": 27,
   "id": "5bb776d5-7821-4f60-82d7-b8cfe30be0de",
   "metadata": {},
   "outputs": [],
   "source": [
    "write.csv(l2_counts, l2_file,\n",
    "          row.names = FALSE, quote = FALSE)"
   ]
  },
  {
   "cell_type": "markdown",
   "id": "7186439e-558c-47d7-9016-7489c4bff35f",
   "metadata": {},
   "source": [
    "### L3"
   ]
  },
  {
   "cell_type": "code",
   "execution_count": 28,
   "id": "3f879e78-be09-4e32-9439-5054e7d674ab",
   "metadata": {},
   "outputs": [
    {
     "name": "stderr",
     "output_type": "stream",
     "text": [
      "\u001b[1m\u001b[22mJoining with `by = join_by(sample.sampleKitGuid)`\n"
     ]
    }
   ],
   "source": [
    "l3_counts <- meta %>%\n",
    "  # Count each type per sample\n",
    "    group_by(sample.sampleKitGuid, AIFI_L1, AIFI_L2, AIFI_L3) %>%\n",
    "    summarise(AIFI_L3_count = n(), .groups = \"keep\") %>%\n",
    "  # Add ALC and total sample counts for use below\n",
    "    left_join(sample_lc, by = \"sample.sampleKitGuid\") %>%\n",
    "  # Compute fractions of total cells per sample\n",
    "    mutate(AIFI_L3_frac_total = AIFI_L3_count / total_cells) %>%\n",
    "  # Compute LC estimate\n",
    "    mutate(AIFI_L3_alc = AIFI_L3_count * alc_ratio) %>%\n",
    "  # Regroup by sample and compute CLR for fractions\n",
    "    group_by(sample.sampleKitGuid) %>%\n",
    "    mutate(AIFI_L3_clr = clr_transform(AIFI_L3_count / total_cells))"
   ]
  },
  {
   "cell_type": "markdown",
   "id": "f0126916-aa84-489d-8450-c7332c9bd781",
   "metadata": {},
   "source": [
    "Add sample metadata and arrange columns"
   ]
  },
  {
   "cell_type": "code",
   "execution_count": 29,
   "id": "68a4cafa-e767-43c1-acab-19a33b5b30e2",
   "metadata": {},
   "outputs": [],
   "source": [
    "l3_counts <- l3_counts %>%\n",
    "  left_join(sample_meta, by = \"sample.sampleKitGuid\") %>%\n",
    "  select(one_of(sample_cols), everything())"
   ]
  },
  {
   "cell_type": "code",
   "execution_count": 30,
   "id": "724f9b56-6911-4e85-b7ed-ae51c4745c4d",
   "metadata": {},
   "outputs": [
    {
     "data": {
      "text/html": [
       "<table class=\"dataframe\">\n",
       "<caption>A grouped_df: 6 × 25</caption>\n",
       "<thead>\n",
       "\t<tr><th scope=col>cohort.cohortGuid</th><th scope=col>subject.subjectGuid</th><th scope=col>subject.biologicalSex</th><th scope=col>subject.cmv</th><th scope=col>subject.bmi</th><th scope=col>subject.race</th><th scope=col>subject.ethnicity</th><th scope=col>subject.birthYear</th><th scope=col>subject.ageAtFirstDraw</th><th scope=col>sample.sampleKitGuid</th><th scope=col>⋯</th><th scope=col>AIFI_L2</th><th scope=col>AIFI_L3</th><th scope=col>AIFI_L3_count</th><th scope=col>total_cells</th><th scope=col>scrna.lymphocyte_count</th><th scope=col>bc.lymphocyte_count</th><th scope=col>alc_ratio</th><th scope=col>AIFI_L3_frac_total</th><th scope=col>AIFI_L3_alc</th><th scope=col>AIFI_L3_clr</th></tr>\n",
       "\t<tr><th scope=col>&lt;chr&gt;</th><th scope=col>&lt;chr&gt;</th><th scope=col>&lt;chr&gt;</th><th scope=col>&lt;chr&gt;</th><th scope=col>&lt;dbl&gt;</th><th scope=col>&lt;chr&gt;</th><th scope=col>&lt;chr&gt;</th><th scope=col>&lt;int&gt;</th><th scope=col>&lt;int&gt;</th><th scope=col>&lt;chr&gt;</th><th scope=col>⋯</th><th scope=col>&lt;chr&gt;</th><th scope=col>&lt;chr&gt;</th><th scope=col>&lt;int&gt;</th><th scope=col>&lt;int&gt;</th><th scope=col>&lt;int&gt;</th><th scope=col>&lt;int&gt;</th><th scope=col>&lt;dbl&gt;</th><th scope=col>&lt;dbl&gt;</th><th scope=col>&lt;dbl&gt;</th><th scope=col>&lt;dbl&gt;</th></tr>\n",
       "</thead>\n",
       "<tbody>\n",
       "\t<tr><td>BR1</td><td>BR1001</td><td>Female</td><td>Negative</td><td>23</td><td>Caucasian</td><td>Non-Hispanic origin</td><td>1987</td><td>32</td><td>KT00001</td><td>⋯</td><td>Effector B cell</td><td>CD27+ effector B cell  </td><td> 71</td><td>18231</td><td>13903</td><td>1337</td><td>0.0961663</td><td>0.0038944655</td><td> 6.8278069</td><td> 0.3324226</td></tr>\n",
       "\t<tr><td>BR1</td><td>BR1001</td><td>Female</td><td>Negative</td><td>23</td><td>Caucasian</td><td>Non-Hispanic origin</td><td>1987</td><td>32</td><td>KT00001</td><td>⋯</td><td>Effector B cell</td><td>CD27- effector B cell  </td><td> 26</td><td>18231</td><td>13903</td><td>1337</td><td>0.0961663</td><td>0.0014261423</td><td> 2.5003237</td><td>-0.6721608</td></tr>\n",
       "\t<tr><td>BR1</td><td>BR1001</td><td>Female</td><td>Negative</td><td>23</td><td>Caucasian</td><td>Non-Hispanic origin</td><td>1987</td><td>32</td><td>KT00001</td><td>⋯</td><td>Memory B cell  </td><td>Activated memory B cell</td><td>  3</td><td>18231</td><td>13903</td><td>1337</td><td>0.0961663</td><td>0.0001645549</td><td> 0.2884989</td><td>-2.8316450</td></tr>\n",
       "\t<tr><td>BR1</td><td>BR1001</td><td>Female</td><td>Negative</td><td>23</td><td>Caucasian</td><td>Non-Hispanic origin</td><td>1987</td><td>32</td><td>KT00001</td><td>⋯</td><td>Memory B cell  </td><td>CD95 memory B cell     </td><td> 15</td><td>18231</td><td>13903</td><td>1337</td><td>0.0961663</td><td>0.0008227744</td><td> 1.4424944</td><td>-1.2222071</td></tr>\n",
       "\t<tr><td>BR1</td><td>BR1001</td><td>Female</td><td>Negative</td><td>23</td><td>Caucasian</td><td>Non-Hispanic origin</td><td>1987</td><td>32</td><td>KT00001</td><td>⋯</td><td>Memory B cell  </td><td>Core memory B cell     </td><td>329</td><td>18231</td><td>13903</td><td>1337</td><td>0.0961663</td><td>0.0180461851</td><td>31.6387111</td><td> 1.8658004</td></tr>\n",
       "\t<tr><td>BR1</td><td>BR1001</td><td>Female</td><td>Negative</td><td>23</td><td>Caucasian</td><td>Non-Hispanic origin</td><td>1987</td><td>32</td><td>KT00001</td><td>⋯</td><td>Memory B cell  </td><td>Early memory B cell    </td><td> 10</td><td>18231</td><td>13903</td><td>1337</td><td>0.0961663</td><td>0.0005485163</td><td> 0.9616630</td><td>-1.6276722</td></tr>\n",
       "</tbody>\n",
       "</table>\n"
      ],
      "text/latex": [
       "A grouped\\_df: 6 × 25\n",
       "\\begin{tabular}{lllllllllllllllllllll}\n",
       " cohort.cohortGuid & subject.subjectGuid & subject.biologicalSex & subject.cmv & subject.bmi & subject.race & subject.ethnicity & subject.birthYear & subject.ageAtFirstDraw & sample.sampleKitGuid & ⋯ & AIFI\\_L2 & AIFI\\_L3 & AIFI\\_L3\\_count & total\\_cells & scrna.lymphocyte\\_count & bc.lymphocyte\\_count & alc\\_ratio & AIFI\\_L3\\_frac\\_total & AIFI\\_L3\\_alc & AIFI\\_L3\\_clr\\\\\n",
       " <chr> & <chr> & <chr> & <chr> & <dbl> & <chr> & <chr> & <int> & <int> & <chr> & ⋯ & <chr> & <chr> & <int> & <int> & <int> & <int> & <dbl> & <dbl> & <dbl> & <dbl>\\\\\n",
       "\\hline\n",
       "\t BR1 & BR1001 & Female & Negative & 23 & Caucasian & Non-Hispanic origin & 1987 & 32 & KT00001 & ⋯ & Effector B cell & CD27+ effector B cell   &  71 & 18231 & 13903 & 1337 & 0.0961663 & 0.0038944655 &  6.8278069 &  0.3324226\\\\\n",
       "\t BR1 & BR1001 & Female & Negative & 23 & Caucasian & Non-Hispanic origin & 1987 & 32 & KT00001 & ⋯ & Effector B cell & CD27- effector B cell   &  26 & 18231 & 13903 & 1337 & 0.0961663 & 0.0014261423 &  2.5003237 & -0.6721608\\\\\n",
       "\t BR1 & BR1001 & Female & Negative & 23 & Caucasian & Non-Hispanic origin & 1987 & 32 & KT00001 & ⋯ & Memory B cell   & Activated memory B cell &   3 & 18231 & 13903 & 1337 & 0.0961663 & 0.0001645549 &  0.2884989 & -2.8316450\\\\\n",
       "\t BR1 & BR1001 & Female & Negative & 23 & Caucasian & Non-Hispanic origin & 1987 & 32 & KT00001 & ⋯ & Memory B cell   & CD95 memory B cell      &  15 & 18231 & 13903 & 1337 & 0.0961663 & 0.0008227744 &  1.4424944 & -1.2222071\\\\\n",
       "\t BR1 & BR1001 & Female & Negative & 23 & Caucasian & Non-Hispanic origin & 1987 & 32 & KT00001 & ⋯ & Memory B cell   & Core memory B cell      & 329 & 18231 & 13903 & 1337 & 0.0961663 & 0.0180461851 & 31.6387111 &  1.8658004\\\\\n",
       "\t BR1 & BR1001 & Female & Negative & 23 & Caucasian & Non-Hispanic origin & 1987 & 32 & KT00001 & ⋯ & Memory B cell   & Early memory B cell     &  10 & 18231 & 13903 & 1337 & 0.0961663 & 0.0005485163 &  0.9616630 & -1.6276722\\\\\n",
       "\\end{tabular}\n"
      ],
      "text/markdown": [
       "\n",
       "A grouped_df: 6 × 25\n",
       "\n",
       "| cohort.cohortGuid &lt;chr&gt; | subject.subjectGuid &lt;chr&gt; | subject.biologicalSex &lt;chr&gt; | subject.cmv &lt;chr&gt; | subject.bmi &lt;dbl&gt; | subject.race &lt;chr&gt; | subject.ethnicity &lt;chr&gt; | subject.birthYear &lt;int&gt; | subject.ageAtFirstDraw &lt;int&gt; | sample.sampleKitGuid &lt;chr&gt; | ⋯ ⋯ | AIFI_L2 &lt;chr&gt; | AIFI_L3 &lt;chr&gt; | AIFI_L3_count &lt;int&gt; | total_cells &lt;int&gt; | scrna.lymphocyte_count &lt;int&gt; | bc.lymphocyte_count &lt;int&gt; | alc_ratio &lt;dbl&gt; | AIFI_L3_frac_total &lt;dbl&gt; | AIFI_L3_alc &lt;dbl&gt; | AIFI_L3_clr &lt;dbl&gt; |\n",
       "|---|---|---|---|---|---|---|---|---|---|---|---|---|---|---|---|---|---|---|---|---|\n",
       "| BR1 | BR1001 | Female | Negative | 23 | Caucasian | Non-Hispanic origin | 1987 | 32 | KT00001 | ⋯ | Effector B cell | CD27+ effector B cell   |  71 | 18231 | 13903 | 1337 | 0.0961663 | 0.0038944655 |  6.8278069 |  0.3324226 |\n",
       "| BR1 | BR1001 | Female | Negative | 23 | Caucasian | Non-Hispanic origin | 1987 | 32 | KT00001 | ⋯ | Effector B cell | CD27- effector B cell   |  26 | 18231 | 13903 | 1337 | 0.0961663 | 0.0014261423 |  2.5003237 | -0.6721608 |\n",
       "| BR1 | BR1001 | Female | Negative | 23 | Caucasian | Non-Hispanic origin | 1987 | 32 | KT00001 | ⋯ | Memory B cell   | Activated memory B cell |   3 | 18231 | 13903 | 1337 | 0.0961663 | 0.0001645549 |  0.2884989 | -2.8316450 |\n",
       "| BR1 | BR1001 | Female | Negative | 23 | Caucasian | Non-Hispanic origin | 1987 | 32 | KT00001 | ⋯ | Memory B cell   | CD95 memory B cell      |  15 | 18231 | 13903 | 1337 | 0.0961663 | 0.0008227744 |  1.4424944 | -1.2222071 |\n",
       "| BR1 | BR1001 | Female | Negative | 23 | Caucasian | Non-Hispanic origin | 1987 | 32 | KT00001 | ⋯ | Memory B cell   | Core memory B cell      | 329 | 18231 | 13903 | 1337 | 0.0961663 | 0.0180461851 | 31.6387111 |  1.8658004 |\n",
       "| BR1 | BR1001 | Female | Negative | 23 | Caucasian | Non-Hispanic origin | 1987 | 32 | KT00001 | ⋯ | Memory B cell   | Early memory B cell     |  10 | 18231 | 13903 | 1337 | 0.0961663 | 0.0005485163 |  0.9616630 | -1.6276722 |\n",
       "\n"
      ],
      "text/plain": [
       "  cohort.cohortGuid subject.subjectGuid subject.biologicalSex subject.cmv\n",
       "1 BR1               BR1001              Female                Negative   \n",
       "2 BR1               BR1001              Female                Negative   \n",
       "3 BR1               BR1001              Female                Negative   \n",
       "4 BR1               BR1001              Female                Negative   \n",
       "5 BR1               BR1001              Female                Negative   \n",
       "6 BR1               BR1001              Female                Negative   \n",
       "  subject.bmi subject.race subject.ethnicity   subject.birthYear\n",
       "1 23          Caucasian    Non-Hispanic origin 1987             \n",
       "2 23          Caucasian    Non-Hispanic origin 1987             \n",
       "3 23          Caucasian    Non-Hispanic origin 1987             \n",
       "4 23          Caucasian    Non-Hispanic origin 1987             \n",
       "5 23          Caucasian    Non-Hispanic origin 1987             \n",
       "6 23          Caucasian    Non-Hispanic origin 1987             \n",
       "  subject.ageAtFirstDraw sample.sampleKitGuid ⋯ AIFI_L2        \n",
       "1 32                     KT00001              ⋯ Effector B cell\n",
       "2 32                     KT00001              ⋯ Effector B cell\n",
       "3 32                     KT00001              ⋯ Memory B cell  \n",
       "4 32                     KT00001              ⋯ Memory B cell  \n",
       "5 32                     KT00001              ⋯ Memory B cell  \n",
       "6 32                     KT00001              ⋯ Memory B cell  \n",
       "  AIFI_L3                 AIFI_L3_count total_cells scrna.lymphocyte_count\n",
       "1 CD27+ effector B cell    71           18231       13903                 \n",
       "2 CD27- effector B cell    26           18231       13903                 \n",
       "3 Activated memory B cell   3           18231       13903                 \n",
       "4 CD95 memory B cell       15           18231       13903                 \n",
       "5 Core memory B cell      329           18231       13903                 \n",
       "6 Early memory B cell      10           18231       13903                 \n",
       "  bc.lymphocyte_count alc_ratio AIFI_L3_frac_total AIFI_L3_alc AIFI_L3_clr\n",
       "1 1337                0.0961663 0.0038944655        6.8278069   0.3324226 \n",
       "2 1337                0.0961663 0.0014261423        2.5003237  -0.6721608 \n",
       "3 1337                0.0961663 0.0001645549        0.2884989  -2.8316450 \n",
       "4 1337                0.0961663 0.0008227744        1.4424944  -1.2222071 \n",
       "5 1337                0.0961663 0.0180461851       31.6387111   1.8658004 \n",
       "6 1337                0.0961663 0.0005485163        0.9616630  -1.6276722 "
      ]
     },
     "metadata": {},
     "output_type": "display_data"
    }
   ],
   "source": [
    "head(l3_counts)"
   ]
  },
  {
   "cell_type": "markdown",
   "id": "a0ad4811-a760-4a02-9fe6-fb7c23b2fa11",
   "metadata": {},
   "source": [
    "Save counts"
   ]
  },
  {
   "cell_type": "code",
   "execution_count": 31,
   "id": "39b5842a-90da-4693-a52a-b9846834d590",
   "metadata": {},
   "outputs": [],
   "source": [
    "l3_file <- paste0(\"output/diha_AIFI_L3_frequencies_\",Sys.Date(),\".csv\")"
   ]
  },
  {
   "cell_type": "code",
   "execution_count": 32,
   "id": "ed933d15-0ab1-431b-b19c-d246de05278e",
   "metadata": {},
   "outputs": [],
   "source": [
    "write.csv(l3_counts, l3_file,\n",
    "          row.names = FALSE, quote = FALSE)"
   ]
  },
  {
   "cell_type": "markdown",
   "id": "58839518-796d-473e-8010-819ee3824fd1",
   "metadata": {},
   "source": [
    "## Store results in HISE\n",
    "\n",
    "In order to store the results in HISE, we'll need to cache these files to register them, and then we can upload the CSV file for later steps."
   ]
  },
  {
   "cell_type": "code",
   "execution_count": 33,
   "id": "04a0ae28-8e70-4521-a350-7b32c8ac9d10",
   "metadata": {
    "tags": []
   },
   "outputs": [],
   "source": [
    "study_space_uuid <- \"de025812-5e73-4b3c-9c3b-6d0eac412f2a\"\n",
    "title <- paste(\"DIHA Cell Type Frequency, ALC, and CLR\", Sys.Date())"
   ]
  },
  {
   "cell_type": "code",
   "execution_count": 34,
   "id": "6e4db210-2f97-4011-8482-02d4b9934422",
   "metadata": {},
   "outputs": [
    {
     "data": {
      "text/html": [
       "'fumur-jufir-vuzag'"
      ],
      "text/latex": [
       "'fumur-jufir-vuzag'"
      ],
      "text/markdown": [
       "'fumur-jufir-vuzag'"
      ],
      "text/plain": [
       "[1] \"fumur-jufir-vuzag\""
      ]
     },
     "metadata": {},
     "output_type": "display_data"
    }
   ],
   "source": [
    "search_id = ids::proquint(n_words = 3)\n",
    "search_id"
   ]
  },
  {
   "cell_type": "code",
   "execution_count": 35,
   "id": "3005deb6-b76f-4944-8b10-24affac943df",
   "metadata": {
    "tags": []
   },
   "outputs": [],
   "source": [
    "in_list <- list(labs_uuid, meta_uuid)"
   ]
  },
  {
   "cell_type": "code",
   "execution_count": 36,
   "id": "a40b03bc-a192-4ae8-958e-a606887f1748",
   "metadata": {
    "tags": []
   },
   "outputs": [],
   "source": [
    "out_list <- list(l1_file, l2_file, l3_file)"
   ]
  },
  {
   "cell_type": "code",
   "execution_count": 37,
   "id": "122d5dd3-2ba7-4847-89ab-ac67208236a6",
   "metadata": {
    "scrolled": true,
    "tags": []
   },
   "outputs": [
    {
     "data": {
      "text/html": [
       "<dl>\n",
       "\t<dt>$files</dt>\n",
       "\t\t<dd><ol>\n",
       "\t<li>'output/diha_AIFI_L1_frequencies_2024-05-05.csv'</li>\n",
       "\t<li>'output/diha_AIFI_L2_frequencies_2024-05-05.csv'</li>\n",
       "\t<li>'output/diha_AIFI_L3_frequencies_2024-05-05.csv'</li>\n",
       "</ol>\n",
       "</dd>\n",
       "\t<dt>$traceId</dt>\n",
       "\t\t<dd>'a0491574-8940-4444-9ec4-ddd71394a278'</dd>\n",
       "</dl>\n"
      ],
      "text/latex": [
       "\\begin{description}\n",
       "\\item[\\$files] \\begin{enumerate}\n",
       "\\item 'output/diha\\_AIFI\\_L1\\_frequencies\\_2024-05-05.csv'\n",
       "\\item 'output/diha\\_AIFI\\_L2\\_frequencies\\_2024-05-05.csv'\n",
       "\\item 'output/diha\\_AIFI\\_L3\\_frequencies\\_2024-05-05.csv'\n",
       "\\end{enumerate}\n",
       "\n",
       "\\item[\\$traceId] 'a0491574-8940-4444-9ec4-ddd71394a278'\n",
       "\\end{description}\n"
      ],
      "text/markdown": [
       "$files\n",
       ":   1. 'output/diha_AIFI_L1_frequencies_2024-05-05.csv'\n",
       "2. 'output/diha_AIFI_L2_frequencies_2024-05-05.csv'\n",
       "3. 'output/diha_AIFI_L3_frequencies_2024-05-05.csv'\n",
       "\n",
       "\n",
       "\n",
       "$traceId\n",
       ":   'a0491574-8940-4444-9ec4-ddd71394a278'\n",
       "\n",
       "\n"
      ],
      "text/plain": [
       "$files\n",
       "$files[[1]]\n",
       "[1] \"output/diha_AIFI_L1_frequencies_2024-05-05.csv\"\n",
       "\n",
       "$files[[2]]\n",
       "[1] \"output/diha_AIFI_L2_frequencies_2024-05-05.csv\"\n",
       "\n",
       "$files[[3]]\n",
       "[1] \"output/diha_AIFI_L3_frequencies_2024-05-05.csv\"\n",
       "\n",
       "\n",
       "$traceId\n",
       "[1] \"a0491574-8940-4444-9ec4-ddd71394a278\"\n"
      ]
     },
     "metadata": {},
     "output_type": "display_data"
    }
   ],
   "source": [
    "uploadFiles(\n",
    "    files = out_list,\n",
    "    studySpaceId = study_space_uuid,\n",
    "    title = title,\n",
    "    inputFileIds = in_list,\n",
    "    destination = search_id,\n",
    "    store = \"project\",\n",
    "    doPrompt = FALSE\n",
    ")"
   ]
  },
  {
   "cell_type": "code",
   "execution_count": 38,
   "id": "5bb34625-fccb-48ad-89b3-cb46c8eaa732",
   "metadata": {
    "scrolled": true
   },
   "outputs": [
    {
     "data": {
      "text/plain": [
       "R version 4.3.2 (2023-10-31)\n",
       "Platform: x86_64-conda-linux-gnu (64-bit)\n",
       "Running under: Ubuntu 20.04.6 LTS\n",
       "\n",
       "Matrix products: default\n",
       "BLAS/LAPACK: /opt/conda/lib/libopenblasp-r0.3.25.so;  LAPACK version 3.11.0\n",
       "\n",
       "locale:\n",
       " [1] LC_CTYPE=C.UTF-8       LC_NUMERIC=C           LC_TIME=C.UTF-8       \n",
       " [4] LC_COLLATE=C.UTF-8     LC_MONETARY=C.UTF-8    LC_MESSAGES=C.UTF-8   \n",
       " [7] LC_PAPER=C.UTF-8       LC_NAME=C              LC_ADDRESS=C          \n",
       "[10] LC_TELEPHONE=C         LC_MEASUREMENT=C.UTF-8 LC_IDENTIFICATION=C   \n",
       "\n",
       "time zone: Etc/UTC\n",
       "tzcode source: system (glibc)\n",
       "\n",
       "attached base packages:\n",
       "[1] stats     graphics  grDevices utils     datasets  methods   base     \n",
       "\n",
       "other attached packages:\n",
       "[1] dplyr_1.1.4       data.table_1.15.4 hise_2.16.0      \n",
       "\n",
       "loaded via a namespace (and not attached):\n",
       " [1] ids_1.0.1        crayon_1.5.2     vctrs_0.6.5      httr_1.4.7      \n",
       " [5] cli_3.6.2        rlang_1.1.3      stringi_1.8.3    generics_0.1.3  \n",
       " [9] assertthat_0.2.1 jsonlite_1.8.8   glue_1.7.0       RCurl_1.98-1.14 \n",
       "[13] htmltools_0.5.8  IRdisplay_1.1    IRkernel_1.3.2   fansi_1.0.6     \n",
       "[17] evaluate_0.23    tibble_3.2.1     bitops_1.0-7     fastmap_1.1.1   \n",
       "[21] base64enc_0.1-3  lifecycle_1.0.4  stringr_1.5.1    compiler_4.3.2  \n",
       "[25] pkgconfig_2.0.3  pbdZMQ_0.3-10    digest_0.6.35    R6_2.5.1        \n",
       "[29] repr_1.1.7       tidyselect_1.2.0 utf8_1.2.4       curl_5.1.0      \n",
       "[33] pillar_1.9.0     magrittr_2.0.3   withr_3.0.0      uuid_1.2-0      \n",
       "[37] tools_4.3.2     "
      ]
     },
     "metadata": {},
     "output_type": "display_data"
    }
   ],
   "source": [
    "sessionInfo()"
   ]
  },
  {
   "cell_type": "code",
   "execution_count": null,
   "id": "debf7e0b-ad92-4aa7-8791-b718a6244c93",
   "metadata": {},
   "outputs": [],
   "source": []
  }
 ],
 "metadata": {
  "kernelspec": {
   "display_name": "Python (notebook)",
   "language": "python",
   "name": "notebook_py_env"
  },
  "language_info": {
   "codemirror_mode": {
    "name": "ipython",
    "version": 3
   },
   "file_extension": ".py",
   "mimetype": "text/x-python",
   "name": "python",
   "nbconvert_exporter": "python",
   "pygments_lexer": "ipython3",
   "version": "3.9.23"
  }
 },
 "nbformat": 4,
 "nbformat_minor": 5
}
