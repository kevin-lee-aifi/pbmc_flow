{
 "cells": [
  {
   "cell_type": "markdown",
   "id": "fd24c014-2015-4dd1-a664-4b2fcdf466c0",
   "metadata": {},
   "source": [
    "# Run Scyan predictions on CD45+ preprocessed data"
   ]
  },
  {
   "cell_type": "markdown",
   "id": "901d944b-845d-41c4-a795-dc9629ab8c2c",
   "metadata": {},
   "source": [
    "Run Scyan cell type labeling on flow data.\n",
    "\n",
    "Start from preprocessed AnnData object from preprocessing script.\n",
    "\n",
    "1) Import and format preprocessed AnnData  \n",
    "2) Run Scyan cell type labeling  \n",
    "3) Visualize predictions  \n",
    "   a) Validate presence of level 1 populations with UMAP and bar charts  \n",
    "   b) Re-run with batch correction (external notebook) if invalid\n",
    "4) Save predictions"
   ]
  },
  {
   "cell_type": "markdown",
   "id": "05e4582e-51e5-4922-a552-e02c6c068ee5",
   "metadata": {},
   "source": [
    "## Setup"
   ]
  },
  {
   "cell_type": "code",
   "execution_count": null,
   "id": "31c9ba78-a8a7-472b-91b5-4541c41788de",
   "metadata": {},
   "outputs": [],
   "source": [
    "# Start in minimal Python kernel\n",
    "import hisepy\n",
    "import os"
   ]
  },
  {
   "cell_type": "code",
   "execution_count": null,
   "id": "d604e71e-b157-45d9-9957-0c17038f420d",
   "metadata": {},
   "outputs": [],
   "source": [
    "# Import Lilly flow notes metadata\n",
    "meta_fid = \"9dadc265-cf58-4a79-b42e-69c135c794bd\"\n",
    "fres = hisepy.read_files([meta_fid])"
   ]
  },
  {
   "cell_type": "code",
   "execution_count": null,
   "id": "e3a3c37d-e059-4c6b-97fd-90536546a453",
   "metadata": {},
   "outputs": [],
   "source": [
    "hisepy.list_project_stores()"
   ]
  },
  {
   "cell_type": "code",
   "execution_count": null,
   "id": "c4d75e30-a5e4-41c0-80f6-008120c8a979",
   "metadata": {},
   "outputs": [],
   "source": [
    "help(hisepy)"
   ]
  },
  {
   "cell_type": "code",
   "execution_count": null,
   "id": "d84e9b4a-dc31-4f88-914e-a692503a4d08",
   "metadata": {},
   "outputs": [],
   "source": [
    "# Import batch CD45+ csv files\n",
    "panel = \"PL1\"\n",
    "batch_ref = \"B237\"\n",
    "batch_new = \"B175\"\n",
    "qda_version = \"v3.2\"\n",
    "\n",
    "ps = hisepy.list_files_in_project_store(\"PD-1\")\n",
    "\n",
    "ps = ps[ps['name'].str.contains(f\"{batch_ref}|{batch_new}\")]\n",
    "ps = ps[ps['name'].str.contains(panel)]\n",
    "ps = ps[ps['name'].str.contains('flow/scyan/preprocess')]\n",
    "ps = ps[ps['name'].str.contains('processed_adata')]\n",
    "ps"
   ]
  },
  {
   "cell_type": "code",
   "execution_count": null,
   "id": "7f87d550-d0f1-4f40-b533-4ce30caba9b3",
   "metadata": {},
   "outputs": [],
   "source": [
    "ps_fid = ps['id'].to_list()"
   ]
  },
  {
   "cell_type": "code",
   "execution_count": null,
   "id": "da71b3a9-e25c-4fd1-bf06-1e7d33aa77a8",
   "metadata": {},
   "outputs": [],
   "source": [
    "fres = hisepy.read_files(ps_fid)"
   ]
  },
  {
   "cell_type": "code",
   "execution_count": null,
   "id": "502d6a38-565d-4ad7-9c6c-e3ee382be217",
   "metadata": {},
   "outputs": [],
   "source": [
    "in_fids = [str(fid) for fid in ps_fid] + [meta_fid]\n",
    "in_fids"
   ]
  },
  {
   "cell_type": "code",
   "execution_count": null,
   "id": "f7fc8890-31c6-4064-920f-43483e9828e3",
   "metadata": {},
   "outputs": [],
   "source": [
    "\n",
    "# Save input FIDs for upload\n",
    "base_path = '/home/workspace/lilly-pd1-analysis/03_flow/'\n",
    "output_path = base_path + '02-scyan-predictions/output/'\n",
    "os.makedirs(output_path, exist_ok=True)\n",
    "\n",
    "with open(output_path + \"in_fids.txt\", \"w\") as f:\n",
    "    for line in in_fids:\n",
    "        f.write(str(line) + \"\\n\")\n"
   ]
  },
  {
   "cell_type": "code",
   "execution_count": null,
   "id": "148b411e-df17-47c2-bb3d-ce3ef01ad8ac",
   "metadata": {},
   "outputs": [],
   "source": [
    "# Switch to python scyan kernel\n",
    "\n",
    "import scyan as sy\n",
    "import os\n",
    "import glob\n",
    "import anndata\n",
    "import re\n",
    "import pandas as pd\n",
    "from matplotlib import pyplot as plt\n",
    "import numpy as np\n",
    "import scanpy as sc\n",
    "import uuid\n",
    "import sys\n",
    "import gc\n",
    "import random\n",
    "import torch\n",
    "\n",
    "import warnings\n",
    "warnings.filterwarnings('ignore')\n",
    "\n",
    "print(sy.__version__)\n",
    "\n",
    "sc.settings.n_jobs=12"
   ]
  },
  {
   "cell_type": "code",
   "execution_count": null,
   "id": "728f2d68-435a-4ad8-966c-7b0bd5b7b45e",
   "metadata": {},
   "outputs": [],
   "source": [
    "\n",
    "# Define the working parameters\n",
    "\n",
    "batch_ref = \"B237\"\n",
    "batch_new = \"B175\"\n",
    "panel = \"PL1\"\n",
    "qda_version = 'v3.2'\n",
    "panel_version = 'v2'\n",
    "proj_name = 'EL_flow_label_pred_scyan_' + panel + '_' + batch_ref + '_' + batch_new + '_'\n",
    "\n",
    "# Paths and files inside repository\n",
    "base_path = '/home/workspace/lilly-pd1-analysis/03_flow/'\n",
    "\n",
    "fig_path = base_path + '02-scyan-predictions/results/' + panel + '/'\n",
    "\n",
    "know_tb_file = base_path + 'knowledge_tables/Lilly_flow_population_knowledge_table_' + panel + '_' + panel_version + '.csv'\n",
    "know_tb = pd.read_csv(know_tb_file, index_col=[0, 1])\n",
    "\n",
    "panel_file = base_path + 'panels/AIFI_flow_' + panel + '_panel_breakdown.csv'\n",
    "panel_meta = pd.read_csv(panel_file)\n",
    "\n",
    "output_path = base_path + '02-scyan-predictions/output/'\n",
    "\n",
    "# Paths and files imported from HISE\n",
    "input_path = '/home/workspace/input/2506117363/PD-1/'\n",
    "\n",
    "meta_file = glob.glob(os.path.join(input_path, '**', 'Lilly_flow_cytometry_sample_metadata_all_batches_updated.csv'), recursive=True)\n",
    "meta_data = pd.read_csv(meta_file[0],index_col=0) \n",
    "\n",
    "adata_file_pattern_ref = \"flow/scyan/preprocess/EL_flow_label_pred_scyan_\" + panel + \"_\" + batch_ref + \"_processed_adata.h5ad\"\n",
    "adata_file_ref = glob.glob(os.path.join(input_path, '**', adata_file_pattern_ref), recursive=True)\n",
    "adata_file_ref\n",
    "\n",
    "adata_file_pattern_new = \"flow/scyan/preprocess/EL_flow_label_pred_scyan_\" + panel + \"_\" + batch_new + \"_processed_adata.h5ad\"\n",
    "adata_file_new = glob.glob(os.path.join(input_path, '**', adata_file_pattern_new), recursive=True)\n",
    "adata_file_new\n"
   ]
  },
  {
   "cell_type": "code",
   "execution_count": null,
   "id": "f6297e1b-103d-4f99-966f-1904b8de2d05",
   "metadata": {},
   "outputs": [],
   "source": [
    "\n",
    "# Function for importing data \n",
    "def importAData(adata_path, batch, file_suffix='_processed_adata.h5ad', panel='PL1'):\n",
    "    know_tb = pd.read_csv(know_tb_file, index_col=[0, 1])\n",
    "\n",
    "    adata_file = adata_path + '/EL_flow_label_pred_scyan_' + panel + '_' + batch + file_suffix\n",
    "    adata = sc.read_h5ad(adata_file)\n",
    "\n",
    "    new_ags = adata.var_names[~adata.var_names.isin(know_tb.columns)].tolist()\n",
    "    know_tb[new_ags] = np.nan\n",
    "    \n",
    "    all(know_tb.columns.isin(adata.var_names))\n",
    "    adata.var_names[~adata.var_names.isin(know_tb.columns)]\n",
    "\n",
    "    return(adata)\n"
   ]
  },
  {
   "cell_type": "code",
   "execution_count": null,
   "id": "c232c5bf-35ea-4bbc-9e8f-71cbecf9ad97",
   "metadata": {},
   "outputs": [],
   "source": [
    "\n",
    "# Seed\n",
    "seed = 42\n",
    "\n",
    "# Set the seed for Python's random module\n",
    "random.seed(seed)\n",
    "\n",
    "# Set the seed for NumPy\n",
    "np.random.seed(seed)\n",
    "\n",
    "# Set the seed for PyTorch (if Scyan uses PyTorch internally)\n",
    "torch.manual_seed(seed)\n",
    "torch.cuda.manual_seed_all(seed)  # If using GPU\n",
    "\n",
    "# Ensure deterministic behavior in PyTorch\n",
    "torch.backends.cudnn.deterministic = True\n",
    "torch.backends.cudnn.benchmark = False\n"
   ]
  },
  {
   "cell_type": "markdown",
   "id": "acbc3c08-7df2-4aeb-95f1-b8b14cf7dec9",
   "metadata": {},
   "source": [
    "## Import preprocessed data"
   ]
  },
  {
   "cell_type": "code",
   "execution_count": null,
   "id": "e3dd336c-ecd9-456c-b603-63328307f34a",
   "metadata": {},
   "outputs": [],
   "source": [
    "\n",
    "# Import new and ref batches\n",
    "adata_new = importAData(os.path.dirname(adata_file_ref[0]), batch_ref) # odd\n",
    "adata_ref = importAData(os.path.dirname(adata_file_new[0]), batch_new) # ref\n",
    "\n"
   ]
  },
  {
   "cell_type": "code",
   "execution_count": null,
   "id": "a61f2ca8-47b4-45e1-a0d3-47100ef9f4a6",
   "metadata": {},
   "outputs": [],
   "source": [
    "\n",
    "print(len(adata_new.obs))\n"
   ]
  },
  {
   "cell_type": "code",
   "execution_count": null,
   "id": "1747e3e2-1733-4fd0-a792-0ff0da26fce1",
   "metadata": {},
   "outputs": [],
   "source": [
    "\n",
    "print(len(adata_ref.obs))\n"
   ]
  },
  {
   "cell_type": "markdown",
   "id": "2d629c5e-2784-4a2d-ab35-c554aa4537bd",
   "metadata": {},
   "source": [
    "### Scale data"
   ]
  },
  {
   "cell_type": "code",
   "execution_count": null,
   "id": "c2102c98-edf3-4a88-8458-333f2c41ff60",
   "metadata": {},
   "outputs": [],
   "source": [
    "\n",
    "# Scale data \n",
    "sy.preprocess.scale(adata_new)\n",
    "sy.preprocess.scale(adata_ref)\n"
   ]
  },
  {
   "cell_type": "markdown",
   "id": "52132b55-464f-4877-aebd-9e9fd2d9840e",
   "metadata": {},
   "source": [
    "### Concatenate data"
   ]
  },
  {
   "cell_type": "code",
   "execution_count": null,
   "id": "f90b52f4-1045-47dc-88b9-69074c6608f3",
   "metadata": {},
   "outputs": [],
   "source": [
    "\n",
    "adata = anndata.concat([adata_ref, adata_new], join='inner', label='batch', keys=['batch_ref', 'batch_new'])\n",
    "adata\n"
   ]
  },
  {
   "cell_type": "code",
   "execution_count": null,
   "id": "9c1c9315-0cc7-460d-aa3b-57ee563aee0d",
   "metadata": {},
   "outputs": [],
   "source": [
    "\n",
    "print(len(adata.obs))\n"
   ]
  },
  {
   "cell_type": "markdown",
   "id": "bf949989-f072-4dd2-acad-bc16e0e48cb5",
   "metadata": {},
   "source": [
    "## Scyan predictions"
   ]
  },
  {
   "cell_type": "markdown",
   "id": "b0130475-1fea-4fd3-83ae-0a43ffbece45",
   "metadata": {},
   "source": [
    "### Build model"
   ]
  },
  {
   "cell_type": "code",
   "execution_count": null,
   "id": "9c257285-4237-49d6-9916-487ea8227a80",
   "metadata": {},
   "outputs": [],
   "source": [
    "\n",
    "model = sy.Scyan(adata, know_tb, batch_key='batch')\n"
   ]
  },
  {
   "cell_type": "code",
   "execution_count": null,
   "id": "60aa9513-e4b2-4a94-904e-7ef5d77dd547",
   "metadata": {},
   "outputs": [],
   "source": [
    "\n",
    "#When training for the first time on a new dataset, we advise to start with the default arguments (i.e., remove 'prior_std' and 'lr')\n",
    "model.fit(patience=50, min_delta=0.1)\n"
   ]
  },
  {
   "cell_type": "markdown",
   "id": "02f8f5c3-195c-4c03-8217-c66b612023ff",
   "metadata": {},
   "source": [
    "### Save model"
   ]
  },
  {
   "cell_type": "code",
   "execution_count": null,
   "id": "b57d6527-50b7-47b1-bf10-fdad53de24cc",
   "metadata": {},
   "outputs": [],
   "source": [
    "\n",
    "model.save(output_path + proj_name +  \"model.pt\")\n"
   ]
  },
  {
   "cell_type": "markdown",
   "id": "5e8f8eb2-95e7-4fa1-9aff-a3ffb9cc9eca",
   "metadata": {},
   "source": [
    "### Batch correction"
   ]
  },
  {
   "cell_type": "code",
   "execution_count": null,
   "id": "a5a12c8e-afdc-4a6e-ac08-67aea16035a9",
   "metadata": {},
   "outputs": [],
   "source": [
    "\n",
    "# Correct batch effect using reference batch\n",
    "adata.obsm[\"scyan_corrected\"] = model.batch_effect_correction(batch_ref='batch_ref').numpy(force=True)\n"
   ]
  },
  {
   "cell_type": "markdown",
   "id": "2ccb1797-4fc3-4a41-a0bd-a8bc61377eca",
   "metadata": {},
   "source": [
    "### Predict cell types"
   ]
  },
  {
   "cell_type": "code",
   "execution_count": null,
   "id": "ff164895-91a6-47d4-93a9-de4477a7f749",
   "metadata": {},
   "outputs": [],
   "source": [
    "\n",
    "# Predict\n",
    "model.predict()\n",
    "adata\n"
   ]
  },
  {
   "cell_type": "code",
   "execution_count": null,
   "id": "1dcad4d2-f7f1-45ed-94f1-4e5734f6363f",
   "metadata": {},
   "outputs": [],
   "source": [
    "\n",
    "# rename the nan in prediction as unknwon \n",
    "adata.obs['scyan_pop'] = adata.obs['scyan_pop'].cat.add_categories(\"unknown\").fillna('unknown')\n",
    "adata.obs['scyan_pop_l1_labels'] = adata.obs['scyan_pop_l1_labels'].cat.add_categories(\"unknown\").fillna('unknown')\n",
    "adata.obs.head()\n"
   ]
  },
  {
   "cell_type": "code",
   "execution_count": null,
   "id": "bd33edc7-57c5-4065-be9a-4bc0dc2e11c5",
   "metadata": {},
   "outputs": [],
   "source": [
    "# Create a new column \"Unknown\" based on values in \"scyan_pop\" column\n",
    "adata.obs['unknown'] = np.where(adata.obs['scyan_pop'] == 'unknown', 'unknown', np.nan)\n",
    "adata.obs.head()"
   ]
  },
  {
   "cell_type": "markdown",
   "id": "0dedb967-7737-4792-aa44-b5677bac51b8",
   "metadata": {},
   "source": [
    "## Visualize predictions"
   ]
  },
  {
   "cell_type": "markdown",
   "id": "e013471a-c3a7-4a05-9b16-ffcb9e096f0c",
   "metadata": {},
   "source": [
    "### UMAP"
   ]
  },
  {
   "cell_type": "code",
   "execution_count": null,
   "id": "c7af5f86-550f-4517-95e3-cb5f49f7a89f",
   "metadata": {},
   "outputs": [],
   "source": [
    "\n",
    "# check the gating antigens\n",
    "panel_meta = pd.read_csv(panel_file)\n",
    "gating_antigens = panel_meta[(panel_meta['used_for_cyanno']=='YES')&(panel_meta['antigen'].isin(adata.var_names))].antigen.tolist()\n",
    "gating_antigens\n"
   ]
  },
  {
   "cell_type": "code",
   "execution_count": null,
   "id": "c64e3b86-040e-4d4f-9549-da8bfa1418d5",
   "metadata": {},
   "outputs": [],
   "source": [
    "\n",
    "sy.tools.umap(adata, obsm='scyan_corrected', markers=gating_antigens)\n"
   ]
  },
  {
   "cell_type": "code",
   "execution_count": null,
   "id": "d72e1e8f-3929-4ed5-8343-90ef3d995686",
   "metadata": {},
   "outputs": [],
   "source": [
    "# site information\n",
    "p1=sy.plot.umap(adata, color=['cohort','batch','Visit', 'subject'],ncols=2, wspace=0.5,show=False, return_fig=True)\n",
    "# p1.savefig(fig_path+proj_name +  \"cohort_umap.png\",  bbox_inches='tight')\n",
    "\n",
    "\n",
    "p1=sy.plot.umap(adata, color=adata.var_names.sort_values(),ncols=6, show=False,   return_fig=True)\n",
    "# p1.savefig(fig_path+proj_name+'expression_umap.png')\n",
    "\n",
    "p1=sy.plot.umap(adata, color=[\"scyan_pop\"], ncols=1,  show=False, return_fig=True)\n",
    "# p1.savefig(fig_path+proj_name+'scyan_pop_l2_prediction_umap.png', bbox_inches='tight')\n",
    "\n",
    "p1=sy.plot.umap(adata, color=[\"scyan_pop_l1_labels\"], ncols=1, show=False, return_fig=True)\n",
    "# p1.savefig(fig_path+proj_name+'scyan_pop_l1_prediction_umap.png', bbox_inches='tight')\n",
    "\n",
    "p1=sy.plot.umap(adata, color=[\"unknown\"], ncols=1, show=False, return_fig=True)\n",
    "# p1.savefig(fig_path+proj_name+'scyan_pop_l1_unknown_umap.png', bbox_inches='tight')"
   ]
  },
  {
   "cell_type": "markdown",
   "id": "59b117c1-61c8-41c1-bbe5-b018c18b0760",
   "metadata": {},
   "source": [
    "### Percentages"
   ]
  },
  {
   "cell_type": "code",
   "execution_count": null,
   "id": "745d27d9-dac5-4b9d-9711-c591a2d0a734",
   "metadata": {},
   "outputs": [],
   "source": [
    "\n",
    "sy.plot.pop_percentage(adata, groupby='cohort', key='scyan_pop_l1_labels')\n",
    "sy.plot.pop_percentage(adata, groupby='cohort', key='scyan_pop')\n",
    "sy.plot.pop_percentage(adata, groupby='subject', key='scyan_pop_l1_labels')\n",
    "sy.plot.pop_percentage(adata, groupby='subject', key='scyan_pop')\n"
   ]
  },
  {
   "cell_type": "markdown",
   "id": "a9740128-91f8-4760-b933-733eb0da6476",
   "metadata": {},
   "source": [
    "## Output frequency tables"
   ]
  },
  {
   "cell_type": "code",
   "execution_count": null,
   "id": "ed2a4f6d-0ed8-43ce-bf90-25e2e4bea1fe",
   "metadata": {},
   "outputs": [],
   "source": [
    "\n",
    "# calcualte the cell counts for each samples\n",
    "cell_counts = adata.obs.groupby(['sample_id']).size().reset_index().rename({0:'cell_numbers'},axis=1)\n",
    "\n",
    "cell_counts.head()\n",
    "\n",
    "cell_counts.to_csv(output_path + proj_name + 'total_cell_counts_v2.csv')\n"
   ]
  },
  {
   "cell_type": "code",
   "execution_count": null,
   "id": "aa8739e9-9a76-436f-8f77-ccb97323934f",
   "metadata": {},
   "outputs": [],
   "source": [
    "\n",
    "# output the freuqency tables of L1 and L2 prediction labels\n",
    "l1_freq_table = sy.tools.cell_type_ratios(adata, groupby='sample_id',normalize=True, key='scyan_pop_l1_labels', among=None)\n",
    "l1_freq_table.head()\n"
   ]
  },
  {
   "cell_type": "code",
   "execution_count": null,
   "id": "22c4fbb0-7f3b-45c0-bd99-1bd439641b13",
   "metadata": {},
   "outputs": [],
   "source": [
    "\n",
    "meta_data.head()\n"
   ]
  },
  {
   "cell_type": "code",
   "execution_count": null,
   "id": "6af336d5-6d23-4def-98ac-7e1952cafb76",
   "metadata": {},
   "outputs": [],
   "source": [
    "\n",
    "# merge basic metadata\n",
    "# l1_freq_table = l1_freq_table.merge(meta_data, how='left', \n",
    "#                                     left_index=True, \n",
    "#                                     right_on='AIFI_barcodes')\n",
    "l1_freq_table = l1_freq_table.merge(meta_data, how='left', left_on='sample_id', right_index=True)\n",
    "l1_freq_table.head()\n"
   ]
  },
  {
   "cell_type": "code",
   "execution_count": null,
   "id": "663a3a13-520d-44e7-81f9-1c782ae732ad",
   "metadata": {},
   "outputs": [],
   "source": [
    "\n",
    "# l1_freq_table.rename(columns={'AIFI_barcodes': 'sample_id'}, inplace=True)\n",
    "\n",
    "l1_freq_table.to_csv(output_path + proj_name +  'l1_prediction_cell_frequency_v2.csv')\n"
   ]
  },
  {
   "cell_type": "code",
   "execution_count": null,
   "id": "2f6f0fa7-1643-46fb-8548-f0110cc79405",
   "metadata": {},
   "outputs": [],
   "source": [
    "\n",
    "# find out which samples have repeated measures\n",
    "reap_kits=l1_freq_table.groupby(['sample_kit']).count().loc[l1_freq_table.groupby(['sample_kit']).count()['b_cells ratio']>=2,:].index\n",
    "l1_freq_table_rep = l1_freq_table.loc[l1_freq_table['sample_kit'].isin(reap_kits), :]\n",
    "l1_freq_table_rep.head()\n"
   ]
  },
  {
   "cell_type": "code",
   "execution_count": null,
   "id": "610d2125-1271-45fb-bc71-a6e2abb80655",
   "metadata": {},
   "outputs": [],
   "source": [
    "\n",
    "# output the freuqency tables of L1 and L2 prediction labels\n",
    "l2_freq_table = sy.tools.cell_type_ratios(adata, groupby='sample_id', normalize=True, key='scyan_pop', among=None)\n",
    "\n",
    "# add metadata on \n",
    "l2_freq_table = l2_freq_table.merge(meta_data, how='left', left_on='sample_id', right_index=True)\n",
    "\n",
    "l2_freq_table.to_csv(output_path + proj_name + 'l2_prediction_cell_frequency_v2.csv')\n"
   ]
  },
  {
   "cell_type": "markdown",
   "id": "3235575a-2fe6-4fc3-ae78-42641ae1f176",
   "metadata": {},
   "source": [
    "## Save prediction AnnData object"
   ]
  },
  {
   "cell_type": "code",
   "execution_count": null,
   "id": "c703c54e-4580-4cae-b7c0-c30d4d2d93b9",
   "metadata": {},
   "outputs": [],
   "source": [
    "\n",
    "# save the dataset\n",
    "adata.write_h5ad(output_path + proj_name + \"predicted_adata.h5ad\")\n"
   ]
  },
  {
   "cell_type": "code",
   "execution_count": null,
   "id": "c0d6ed86-d082-403f-bf97-d59f7aa4a1cd",
   "metadata": {},
   "outputs": [],
   "source": [
    "\n",
    "adata.obs.head()\n"
   ]
  },
  {
   "cell_type": "code",
   "execution_count": null,
   "id": "05294914-d14e-412f-9854-2358d3391f73",
   "metadata": {},
   "outputs": [],
   "source": [
    "print(len(adata.obs[\"scyan_pop\"]))"
   ]
  },
  {
   "cell_type": "code",
   "execution_count": null,
   "id": "27e45af0-4a56-44bb-9ba8-e21fbe76e36c",
   "metadata": {},
   "outputs": [],
   "source": [
    "print(sum(adata.obs[\"scyan_pop\"] == \"neutrophils\"))"
   ]
  },
  {
   "cell_type": "markdown",
   "id": "6fe8bce9-1408-4d1e-bfce-aee00f3e42f1",
   "metadata": {},
   "source": [
    "## Upload to HISE"
   ]
  },
  {
   "cell_type": "code",
   "execution_count": null,
   "id": "1252cfab-8bab-46b7-a1f3-a714f6b42309",
   "metadata": {},
   "outputs": [],
   "source": [
    "\n",
    "# Switch to minimal Python kernel\n",
    "import hisepy\n",
    "import os\n",
    "import glob\n",
    "\n",
    "base_path = '/home/workspace/lilly-pd1-analysis/03_flow/'\n",
    "output_path = base_path + '02-scyan-predictions/output/'\n",
    "\n",
    "with open(output_path + \"in_fids.txt\") as f:\n",
    "    in_fids = [line.rstrip('\\n') for line in f]\n",
    "\n",
    "in_fids\n"
   ]
  },
  {
   "cell_type": "code",
   "execution_count": null,
   "id": "83d468d9-7e24-4724-9ca0-cd32c98470c3",
   "metadata": {},
   "outputs": [],
   "source": [
    "\n",
    "outputs = [os.path.join(output_path, f) for f in os.listdir(output_path)]\n",
    "outputs = [f for f in outputs if not f.endswith(\"in_fids.txt\")]\n",
    "outputs = [f for f in outputs if not f.endswith(\".ipynb_checkpoints\")]\n",
    "outputs = [f for f in outputs if os.path.isfile(f)]\n",
    "outputs\n"
   ]
  },
  {
   "cell_type": "code",
   "execution_count": null,
   "id": "2d9da72b-bcbc-4530-8b97-65e0d72f0d00",
   "metadata": {},
   "outputs": [],
   "source": [
    "hisepy.get_study_spaces()"
   ]
  },
  {
   "cell_type": "code",
   "execution_count": null,
   "id": "9dc27981-404e-47eb-9ba1-46e766921140",
   "metadata": {
    "scrolled": true
   },
   "outputs": [],
   "source": [
    "\n",
    "batch = \"B237_B175\"\n",
    "panel = \"PL1\"\n",
    "\n",
    "hisepy.upload_files(\n",
    "    files = outputs,\n",
    "    study_space_id = 'cea64a3f-6050-4b24-960c-bbda4dd9a2ee',\n",
    "    title = 'Lilly Flow Scyan Predictions, ' + panel + ' ' + batch, \n",
    "    input_file_ids = in_fids, \n",
    "    destination = 'flow/scyan/predict'\n",
    ")\n"
   ]
  },
  {
   "cell_type": "code",
   "execution_count": null,
   "id": "1e0bddac-28c6-4133-89fe-2252615e1037",
   "metadata": {},
   "outputs": [],
   "source": []
  }
 ],
 "metadata": {
  "kernelspec": {
   "display_name": "Python (minimal)",
   "language": "python",
   "name": "python-minimal"
  },
  "language_info": {
   "codemirror_mode": {
    "name": "ipython",
    "version": 3
   },
   "file_extension": ".py",
   "mimetype": "text/x-python",
   "name": "python",
   "nbconvert_exporter": "python",
   "pygments_lexer": "ipython3",
   "version": "3.11.11"
  }
 },
 "nbformat": 4,
 "nbformat_minor": 5
}
