{
 "cells": [
  {
   "cell_type": "markdown",
   "id": "94a92d42-90c0-4a3a-8fb0-af16ad240771",
   "metadata": {},
   "source": [
    "# Preprocess CD45+ data for Scyan"
   ]
  },
  {
   "cell_type": "markdown",
   "id": "23d73b76-efe2-4f81-a730-495c0bc211e5",
   "metadata": {},
   "source": [
    "Flow data preparation for Scyan cell type labeling. \n",
    "\n",
    "Start from CD45+ datasets per batch from QDA viability calling. \n",
    "\n",
    "1) Create the pytbon Anndata object and format data\n",
    "2) Identify and remove autofluorescent and other infiltrating cells/debris  \n",
    "   a) Identify poorly clustered/autofluorescent infiltrants using UMAP  \n",
    "   b) Set gating thresholds (CXCR5, TCRva72, SSC-A, FSC-A) to exclude infiltrants  \n",
    "   c) Verify gates remove infiltrants\n",
    "4) Identify samples with poor quality data and remove (if indicated)\n",
    "5) Transform and save data without infiltrants and poor quality samples"
   ]
  },
  {
   "cell_type": "markdown",
   "id": "8495a158-7663-4d2d-8f84-c648a5b510da",
   "metadata": {},
   "source": [
    "## Setup"
   ]
  },
  {
   "cell_type": "code",
   "execution_count": null,
   "id": "a3fa46f4-4d66-4319-9970-6dcfd2f8d29d",
   "metadata": {},
   "outputs": [],
   "source": [
    "\n",
    "# Start in minimal Python kernel\n",
    "import hisepy\n",
    "import os\n"
   ]
  },
  {
   "cell_type": "code",
   "execution_count": null,
   "id": "a7c0353a-048e-47f9-ad2c-716e5e1d3de7",
   "metadata": {},
   "outputs": [],
   "source": [
    "\n",
    "# Import Lilly flow notes metadata\n",
    "meta_fid = \"9dadc265-cf58-4a79-b42e-69c135c794bd\"\n",
    "fres = hisepy.read_files([meta_fid])\n"
   ]
  },
  {
   "cell_type": "code",
   "execution_count": null,
   "id": "1e0f0308-30e0-4a67-a44a-8859c661a1e2",
   "metadata": {},
   "outputs": [],
   "source": [
    "\n",
    "# Import batch CD45+ csv files\n",
    "panel = \"PL1\"\n",
    "batch = \"B237\"\n",
    "qda_version = \"v3.2\"\n",
    "\n",
    "ps = hisepy.list_files_in_project_store(\"PD-1\")\n",
    "\n",
    "ps = ps[ps['name'].str.contains(batch)]\n",
    "ps = ps[ps['name'].str.contains(panel)]\n",
    "ps = ps[ps['name'].str.contains('flow/qda/')]\n",
    "ps = ps[ps['name'].str.contains('allsamples')]\n",
    "\n",
    "ps\n"
   ]
  },
  {
   "cell_type": "code",
   "execution_count": null,
   "id": "26896d59-ddcc-475b-add2-d0814f7f3fb1",
   "metadata": {},
   "outputs": [],
   "source": [
    "ps_fid = ps['id'].to_list()"
   ]
  },
  {
   "cell_type": "code",
   "execution_count": null,
   "id": "94b6b5ec-86d9-40a2-adf6-edb2b4abf9d5",
   "metadata": {},
   "outputs": [],
   "source": [
    "\n",
    "fres = hisepy.read_files(ps_fid)\n"
   ]
  },
  {
   "cell_type": "code",
   "execution_count": null,
   "id": "e0d23cb5-27b2-420b-888e-892ae54e7c3d",
   "metadata": {},
   "outputs": [],
   "source": [
    "\n",
    "in_fids = [str(fid) for fid in ps_fid] + [meta_fid]\n",
    "in_fids\n"
   ]
  },
  {
   "cell_type": "code",
   "execution_count": null,
   "id": "7b3fd7b0-c201-4547-8c4d-4eda16797080",
   "metadata": {},
   "outputs": [],
   "source": [
    "\n",
    "# Save input FIDs for upload\n",
    "base_path = '/home/workspace/lilly-pd1-analysis/03_flow/'\n",
    "output_path = base_path + '02-scyan-predictions/output/'\n",
    "os.makedirs(output_path, exist_ok=True)\n",
    "\n",
    "with open(output_path + \"in_fids.txt\", \"w\") as f:\n",
    "    for line in in_fids:\n",
    "        f.write(str(line) + \"\\n\")\n"
   ]
  },
  {
   "cell_type": "code",
   "execution_count": null,
   "id": "a42a0dcd-c3df-4c69-90ee-166b2dbb3754",
   "metadata": {},
   "outputs": [],
   "source": [
    "\n",
    "# Switch to Python scyan kernel\n",
    "import scyan as sy\n",
    "import os\n",
    "import glob\n",
    "import anndata\n",
    "import re\n",
    "import pandas as pd\n",
    "from matplotlib import pyplot as plt\n",
    "import numpy as np\n",
    "import scanpy as sc\n",
    "import uuid\n",
    "import sys\n",
    "import gc\n",
    "import seaborn as sns\n",
    "\n",
    "import warnings\n",
    "warnings.filterwarnings('ignore')\n",
    "\n",
    "print(sy.__version__)\n",
    "\n",
    "sc.settings.n_jobs=12\n"
   ]
  },
  {
   "cell_type": "code",
   "execution_count": null,
   "id": "7c40b066-21bf-4179-a52c-4b6068650230",
   "metadata": {},
   "outputs": [],
   "source": [
    "\n",
    "# Define the working parameters\n",
    "\n",
    "batch = \"B237\"\n",
    "panel = \"PL1\"\n",
    "qda_version = 'v3.2'\n",
    "panel_version = 'v2'\n",
    "proj_name = 'EL_flow_label_pred_scyan_' + panel + '_' + batch + '_'\n",
    "\n",
    "base_path = '/home/workspace/lilly-pd1-analysis/03_flow/'\n",
    "\n",
    "fig_path = base_path + '02-scyan-predictions/results/' + panel + '/'\n",
    "\n",
    "know_tb_file = base_path + 'knowledge_tables/Lilly_flow_population_knowledge_table_' + panel + '_' + panel_version + '.csv'\n",
    "know_tb = pd.read_csv(know_tb_file, index_col=[0, 1])\n",
    "\n",
    "panel_file = base_path + 'panels/AIFI_flow_' + panel + '_panel_breakdown.csv'\n",
    "panel_meta = pd.read_csv(panel_file)\n",
    "\n",
    "output_path = base_path + '02-scyan-predictions/output/'\n",
    "\n",
    "# Paths and files imported from HISE\n",
    "input_path = '/home/workspace/input/2506117363/PD-1/'\n",
    "\n",
    "# in_fp <- list.files(paste0('./cache/',in_fid), full.names = TRUE, recursive = TRUE)\n",
    "# in_fp\n",
    "meta_file = glob.glob(os.path.join(input_path, '**', 'Lilly_flow_cytometry_sample_metadata_all_batches_updated.csv'), recursive=True)\n",
    "meta_data = pd.read_csv(meta_file[0],index_col=0) \n",
    "\n",
    "panel_cd45_file_pattern = \"flow/qda/\" + batch + \"_\" + panel+ \"_\" + qda_version + \"_CD45+_predicted_allsamples.csv\"\n",
    "panel_cd45_file = glob.glob(os.path.join(input_path, '**', panel_cd45_file_pattern), recursive=True)\n",
    "panel_cd45_file\n"
   ]
  },
  {
   "cell_type": "code",
   "execution_count": null,
   "id": "dd8a37e0-56c3-4b1f-9059-9f2e6acfb14e",
   "metadata": {},
   "outputs": [],
   "source": [
    "def generate_uuids(n): return [str(uuid.uuid1()) for _ in range(n)]"
   ]
  },
  {
   "cell_type": "code",
   "execution_count": null,
   "id": "c14b3cd6-7a92-42d5-9cf7-7694111d9880",
   "metadata": {},
   "outputs": [],
   "source": [
    "\n",
    "# Function for plotting marker expression data\n",
    "def plotBivariateMarkers(adata, marker_x, marker_y, populations=None, palette=None, key='scyan_pop'): \n",
    "\n",
    "    temp = adata.copy()\n",
    "\n",
    "    if palette is None: \n",
    "        palette=sns.color_palette()\n",
    "\n",
    "    if populations is None:\n",
    "        sc.pl.scatter(temp, x=marker_x, y=marker_y, color=key, palette=palette)\n",
    "        return\n",
    "    \n",
    "    temp.obs[key] = temp.obs[key].apply(lambda x: x if x in populations else 'Other')\n",
    "    populations = populations + ['Other']\n",
    "    temp.obs[\"pop_ordered\"] = pd.Categorical(\n",
    "        values=temp.obs[key], categories=populations, ordered=True\n",
    "    )\n",
    "    sc.pl.scatter(temp, x=marker_x, y=marker_y, color='pop_ordered', palette=palette)\n",
    "    \n"
   ]
  },
  {
   "cell_type": "markdown",
   "id": "ec571808-c38d-4f38-82f3-6d352578c64d",
   "metadata": {},
   "source": [
    "## Create AnnData object"
   ]
  },
  {
   "cell_type": "markdown",
   "id": "ec7efa0d-ac8d-4dcc-acec-479019036196",
   "metadata": {},
   "source": [
    "### Import CD45+ data"
   ]
  },
  {
   "cell_type": "code",
   "execution_count": null,
   "id": "4fe358fa-0887-4c15-9895-7d4bd4a5b173",
   "metadata": {},
   "outputs": [],
   "source": [
    "\n",
    "adata = sy.read_csv(panel_cd45_file[0],marker_regex='cd|hla|tcr|ig|ccr|cx3cr1')\n",
    "print(f\"Created anndata object with {adata.n_obs} cells and {adata.n_vars} markers.\\n\\n-> The markers names are: {', '.join(adata.var_names)}\\n-> The non-marker names are: {', '.join(adata.obs.columns)}\")\n"
   ]
  },
  {
   "cell_type": "markdown",
   "id": "e9877b0e-e409-49bf-93c1-1a45ca0c0957",
   "metadata": {},
   "source": [
    "### Format marker names and metadata"
   ]
  },
  {
   "cell_type": "code",
   "execution_count": null,
   "id": "949f32e9-12d4-486c-a046-1bedee9c5fd2",
   "metadata": {},
   "outputs": [],
   "source": [
    "\n",
    "# name variables based on panel data\n",
    "adata.var\n"
   ]
  },
  {
   "cell_type": "code",
   "execution_count": null,
   "id": "f5c01550-2772-4fa5-933e-7947bb88bf63",
   "metadata": {},
   "outputs": [],
   "source": [
    "\n",
    "# filter for only markers\n",
    "marker_panel = panel_meta[panel_meta['fcs_colname'].str.startswith(\"FJComp-\")]\n",
    "\n",
    "fcs_colname_list = marker_panel['fcs_colname'].tolist()\n",
    "antigen_list = marker_panel['antigen'].tolist()\n",
    "combined_values = [f\"{fcs}_{antigen}\" for fcs, antigen in zip(fcs_colname_list, antigen_list)]\n",
    "\n",
    "# create mapping dictionary\n",
    "name_mapping = {old_name: new_name for old_name, new_name in zip(combined_values, antigen_list)}\n",
    "name_mapping\n"
   ]
  },
  {
   "cell_type": "code",
   "execution_count": null,
   "id": "4e9a79c7-0e7d-42a7-a81f-fb161daf3620",
   "metadata": {},
   "outputs": [],
   "source": [
    "\n",
    "# map the keys of adata vars with mapping dictionary\n",
    "adata.var_names = adata.var_names.map(name_mapping)\n",
    "\n",
    "print(f\"Created anndata object with {adata.n_obs} cells and {adata.n_vars} markers.\\n\\n-> The markers names are: {', '.join(adata.var_names)}\\n-> The non-marker names are: {', '.join(adata.obs.columns)}\")\n"
   ]
  },
  {
   "cell_type": "code",
   "execution_count": null,
   "id": "27791ac3-1587-4075-b256-86d3be6dc797",
   "metadata": {},
   "outputs": [],
   "source": [
    "\n",
    "# filter to relevant metadata\n",
    "meta_data = meta_data[meta_data['batch'] == batch]\n",
    "meta_data.head()\n"
   ]
  },
  {
   "cell_type": "code",
   "execution_count": null,
   "id": "f25cfc56-b324-4209-80f6-5836b3ba2959",
   "metadata": {},
   "outputs": [],
   "source": [
    "\n",
    "# merge metadata\n",
    "meta_data = meta_data[['subject', \"cohort\", \"sample_kit\", \"Visit\", \"disease_status\", \"Notes\"]]\n",
    "meta_data.head()\n"
   ]
  },
  {
   "cell_type": "code",
   "execution_count": null,
   "id": "c2469b1c-2a15-40d2-8833-b99b55a05642",
   "metadata": {},
   "outputs": [],
   "source": [
    "\n",
    "# check if all the sample are in the metatdata\n",
    "all(adata.obs['sample_id'].isin(meta_data.index))\n"
   ]
  },
  {
   "cell_type": "code",
   "execution_count": null,
   "id": "a4e4a368-f92e-477f-a4e4-a5d8882c43dd",
   "metadata": {},
   "outputs": [],
   "source": [
    "adata.obs['sample_id'][~adata.obs['sample_id'].isin(meta_data.index)].unique()"
   ]
  },
  {
   "cell_type": "code",
   "execution_count": null,
   "id": "0a44ba8c-c623-4320-ac7a-7ff86174d52a",
   "metadata": {},
   "outputs": [],
   "source": [
    "\n",
    "# unique sample IDs\n",
    "adata.obs['sample_id'].unique()\n"
   ]
  },
  {
   "cell_type": "code",
   "execution_count": null,
   "id": "7e126de3-40d8-49bf-8393-51c0958b7eb6",
   "metadata": {},
   "outputs": [],
   "source": [
    "\n",
    "# sample IDs by cohort\n",
    "meta_data.loc[adata.obs['sample_id'].unique(), :].groupby(['cohort']).size()\n"
   ]
  },
  {
   "cell_type": "markdown",
   "id": "02bb435d-0750-4136-81fb-54a9b055c503",
   "metadata": {},
   "source": [
    "### Merge with metadata"
   ]
  },
  {
   "cell_type": "code",
   "execution_count": null,
   "id": "adad2dcc-3ff2-4f6d-8663-113b542a777d",
   "metadata": {},
   "outputs": [],
   "source": [
    "\n",
    "# add metadata on, left join on samples from adata\n",
    "adata.obs = adata.obs.merge(meta_data, how='left', left_on='sample_id', right_index=True)\n",
    "\n",
    "#check if any missing fields in sample ID\n",
    "adata.obs.sample_id.isnull().any()\n"
   ]
  },
  {
   "cell_type": "code",
   "execution_count": null,
   "id": "26c0f910-5e3b-4586-adef-83ca774e3ecb",
   "metadata": {},
   "outputs": [],
   "source": [
    "\n",
    "# preview data\n",
    "adata.obs.head()\n"
   ]
  },
  {
   "cell_type": "code",
   "execution_count": null,
   "id": "07efbeb4-162c-48fc-8866-137e6dd58767",
   "metadata": {},
   "outputs": [],
   "source": [
    "\n",
    "# add unique barcodes\n",
    "adata.obs['barcodes'] = generate_uuids(adata.n_obs)\n",
    "adata.obs.head()\n"
   ]
  },
  {
   "cell_type": "markdown",
   "id": "3918d631-5d72-4cf5-87c1-b41cd64c8f7d",
   "metadata": {},
   "source": [
    "### Remove improperly mixed samples"
   ]
  },
  {
   "cell_type": "code",
   "execution_count": null,
   "id": "e2091b47-2c67-4350-849f-00e901090ddb",
   "metadata": {},
   "outputs": [],
   "source": [
    "\n",
    "# remove improperly mixed samples\n",
    "samples_to_remove = meta_data[meta_data['Notes'] == \"Improperly Mixed Test Sample\"][\"sample_kit\"]\n",
    "\n",
    "len(samples_to_remove)\n",
    "\n"
   ]
  },
  {
   "cell_type": "code",
   "execution_count": null,
   "id": "9c33867c-16dd-4c0d-8c16-926e43bfe319",
   "metadata": {},
   "outputs": [],
   "source": [
    "\n",
    "adata.obs['sample_kit'] = adata.obs['sample_kit'].astype(str)\n",
    "\n",
    "# Define the condition based on the metadata in the \"obs\" slot\n",
    "condition = ~adata.obs['sample_kit'].isin(samples_to_remove)\n",
    "\n",
    "# Use boolean indexing with the negation operator (~) to remove samples that meet the condition\n",
    "adata = adata[condition]\n",
    "len(adata.obs)\n"
   ]
  },
  {
   "cell_type": "code",
   "execution_count": null,
   "id": "e8d392b4-dc70-4761-ba1e-68d30fa81e7a",
   "metadata": {},
   "outputs": [],
   "source": [
    "\n",
    "#check\n",
    "adata.obs['sample_kit'].isin(samples_to_remove).any()\n"
   ]
  },
  {
   "cell_type": "code",
   "execution_count": null,
   "id": "93798ccf-f7b5-4a0a-89cb-7fb335802d5c",
   "metadata": {},
   "outputs": [],
   "source": [
    "\n",
    "# adata.obs[\"Notes\"] = \"Mixed\"\n",
    "adata.obs.columns\n"
   ]
  },
  {
   "cell_type": "markdown",
   "id": "f74e304e-571c-457e-a18e-ed2df0d522eb",
   "metadata": {},
   "source": [
    "## Save initial AnnData object"
   ]
  },
  {
   "cell_type": "code",
   "execution_count": null,
   "id": "c475ca67-a90d-4a34-b0d9-40e03cd858b6",
   "metadata": {},
   "outputs": [],
   "source": [
    "\n",
    "adata.obs[\"Notes\"] = adata.obs[\"Notes\"].fillna(\"\").astype(str)\n"
   ]
  },
  {
   "cell_type": "code",
   "execution_count": null,
   "id": "634b741e-d539-46a8-aa77-fd9c5145950a",
   "metadata": {},
   "outputs": [],
   "source": [
    "\n",
    "adata.write_h5ad(output_path + proj_name + 'raw_adata.h5ad')\n"
   ]
  },
  {
   "cell_type": "markdown",
   "id": "ce7e3328-47eb-4862-9f51-368394b77fb3",
   "metadata": {},
   "source": [
    "## Visualize initial data (UMAP)"
   ]
  },
  {
   "cell_type": "code",
   "execution_count": null,
   "id": "7c92291b-a609-44fe-9c3e-65d3b8a01d4f",
   "metadata": {},
   "outputs": [],
   "source": [
    "\n",
    "adata = sc.read_h5ad(output_path + proj_name + \"raw_adata.h5ad\")\n"
   ]
  },
  {
   "cell_type": "code",
   "execution_count": null,
   "id": "7ac95d37-05dc-488a-9e15-e95e2fe8e763",
   "metadata": {},
   "outputs": [],
   "source": [
    "\n",
    "gating_antigens = panel_meta[(panel_meta['used_for_cyanno']=='YES')& (panel_meta['antigen'].isin(adata.var_names))].antigen.tolist()\n",
    "gating_antigens\n"
   ]
  },
  {
   "cell_type": "code",
   "execution_count": null,
   "id": "8a606a9c-55ad-40d6-9f26-b0fe3d1d98dd",
   "metadata": {},
   "outputs": [],
   "source": [
    "\n",
    "# Save raw data for transformation after QC\n",
    "adata.layers['raw'] = adata.X.copy()\n"
   ]
  },
  {
   "cell_type": "code",
   "execution_count": null,
   "id": "3a2c2e44-a555-4118-81fd-bc74f0e6a94c",
   "metadata": {},
   "outputs": [],
   "source": [
    "\n",
    "# Initial transformation for UMAP\n",
    "sy.preprocess.auto_logicle_transform(adata)\n",
    "adata.X\n"
   ]
  },
  {
   "cell_type": "code",
   "execution_count": null,
   "id": "269f1609-9e9e-4855-a38a-a205c942f300",
   "metadata": {},
   "outputs": [],
   "source": [
    "\n",
    "sy.tools.umap(adata, markers=gating_antigens)\n"
   ]
  },
  {
   "cell_type": "code",
   "execution_count": null,
   "id": "25f4fb67-d0f6-42d8-bea7-317d28752f60",
   "metadata": {},
   "outputs": [],
   "source": [
    "\n",
    "p1=sy.plot.umap(adata, color=['cohort','batch','subject','Visit'],  ncols=2, wspace=0.4,show=False, return_fig=True)\n",
    "\n",
    "p1=sy.plot.umap(adata, color=['CD185 (CXCR5)'], show=False, return_fig=True)\n",
    "p1=sy.plot.umap(adata, color=['TCR va72'], ncols=3, show=False, return_fig=True)\n",
    "p1=sy.plot.umap(adata, color=['CD279 (PD-1)'], ncols=3, show=False, return_fig=True)\n",
    "p1=sy.plot.umap(adata, color=['IgA'], ncols=3, show=False, return_fig=True)\n",
    "p1=sy.plot.umap(adata, color=['IgD'], ncols=3, show=False, return_fig=True)\n",
    "p1=sy.plot.umap(adata, color=['IgG'], ncols=3, show=False, return_fig=True)\n",
    "p1=sy.plot.umap(adata, color=['IgM'], ncols=3, show=False, return_fig=True)\n",
    "p1=sy.plot.umap(adata, color=['CD16'], ncols=3, show=False, return_fig=True)\n",
    "p1=sy.plot.umap(adata, color=['CD4'], ncols=3, show=False, return_fig=True)\n",
    "p1=sy.plot.umap(adata, color=['CD8'], ncols=3, show=False, return_fig=True)\n",
    "p1=sy.plot.umap(adata, color=['CD3'], ncols=3, show=False, return_fig=True)\n",
    "p1=sy.plot.umap(adata, color=['CD15'], ncols=3, show=False, return_fig=True)\n",
    "p1=sy.plot.umap(adata, color=['CD14'], ncols=3, show=False, return_fig=True)\n"
   ]
  },
  {
   "cell_type": "code",
   "execution_count": null,
   "id": "8b00e911-d768-46ec-9bd9-6aa8795d0988",
   "metadata": {},
   "outputs": [],
   "source": [
    "\n",
    "adata.obsm['umap_initial'] = adata.obsm['X_umap'].copy()\n"
   ]
  },
  {
   "cell_type": "markdown",
   "id": "cfcdb5d9-e3d2-415b-9b48-2c4e530510e5",
   "metadata": {},
   "source": [
    "## Assess data quality"
   ]
  },
  {
   "cell_type": "markdown",
   "id": "fc59265f-95fe-4bb5-8fd0-3695c91ed8e6",
   "metadata": {},
   "source": [
    "### Identify and remove nonviable cells "
   ]
  },
  {
   "cell_type": "markdown",
   "id": "595f73c9-dbe8-426a-bc01-bfec86850e89",
   "metadata": {},
   "source": [
    "#### Set marker thresholds "
   ]
  },
  {
   "cell_type": "code",
   "execution_count": null,
   "id": "8fbd5b05-0d3e-4e53-a7de-f4b5c2eea86a",
   "metadata": {},
   "outputs": [],
   "source": [
    "\n",
    "plotBivariateMarkers(adata, 'CD185 (CXCR5)', 'TCR va72', key = 'subject')\n"
   ]
  },
  {
   "cell_type": "code",
   "execution_count": null,
   "id": "43c84637-2f51-4a7d-825e-b2138e419a44",
   "metadata": {},
   "outputs": [],
   "source": [
    "\n",
    "plotBivariateMarkers(adata, 'CD16', 'SSC-A', key = 'subject')\n"
   ]
  },
  {
   "cell_type": "code",
   "execution_count": null,
   "id": "72b8f32c-25d3-4675-b300-e9dfde985903",
   "metadata": {},
   "outputs": [],
   "source": [
    "\n",
    "plotBivariateMarkers(adata, 'FSC-A', 'SSC-A', key = 'subject')\n"
   ]
  },
  {
   "cell_type": "code",
   "execution_count": null,
   "id": "07366164-9b5e-4ed4-99e6-52a3bc1e2b36",
   "metadata": {},
   "outputs": [],
   "source": [
    "\n",
    "# Set limits for viable cells\n",
    "thresholds = {\n",
    "    \"CD185 (CXCR5)\": 0.55,\n",
    "    \"TCR va72\": 0.5,\n",
    "    \"SSC-A\": 4000000, \n",
    "    \"FSC-A\": 4000000\n",
    "}\n",
    "\n",
    "# Create a boolean mask for cells to keep\n",
    "mask = ~(\n",
    "    (adata[:, \"CD185 (CXCR5)\"].X > thresholds[\"CD185 (CXCR5)\"]).flatten() |\n",
    "    (adata[:, \"TCR va72\"].X > thresholds[\"TCR va72\"]).flatten() |\n",
    "    (adata.obs[\"SSC-A\"] > thresholds[\"SSC-A\"]) |\n",
    "    (adata.obs[\"FSC-A\"] > thresholds[\"FSC-A\"]) #|\n",
    "    # (adata.obs[\"FSC-A\"] < 1000000)\n",
    ") \n",
    "\n"
   ]
  },
  {
   "cell_type": "code",
   "execution_count": null,
   "id": "2495357e-fa36-42b0-b890-b30aa38d2818",
   "metadata": {},
   "outputs": [],
   "source": [
    "\n",
    "# Create masks or each combination of exclusion criteria (for visualization)\n",
    "mask1 = (\n",
    "    ((adata[:, \"CD185 (CXCR5)\"].X > thresholds[\"CD185 (CXCR5)\"]).flatten() |\n",
    "    (adata[:, \"TCR va72\"].X > thresholds[\"TCR va72\"]).flatten()) |\n",
    "    (adata.obs[\"SSC-A\"] > thresholds[\"SSC-A\"])\n",
    ")\n",
    "\n",
    "mask2 = (\n",
    "    ((adata[:, \"CD185 (CXCR5)\"].X > thresholds[\"CD185 (CXCR5)\"]).flatten() |\n",
    "    (adata[:, \"TCR va72\"].X > thresholds[\"TCR va72\"]).flatten()) &\n",
    "    ~(adata.obs[\"SSC-A\"] > thresholds[\"SSC-A\"])\n",
    ")\n",
    "\n",
    "mask3 = (\n",
    "    ~(adata[:, \"CD185 (CXCR5)\"].X > thresholds[\"CD185 (CXCR5)\"]).flatten() &\n",
    "    ~(adata[:, \"TCR va72\"].X > thresholds[\"TCR va72\"]).flatten() &\n",
    "    (adata.obs[\"SSC-A\"] > thresholds[\"SSC-A\"])\n",
    ")\n"
   ]
  },
  {
   "cell_type": "markdown",
   "id": "0c5a68d6-ae48-472b-849e-5e1aebd0bdf4",
   "metadata": {},
   "source": [
    "#### Initial filtering and assessment"
   ]
  },
  {
   "cell_type": "code",
   "execution_count": null,
   "id": "dea2c8fe-e781-46e2-b183-76c167178b08",
   "metadata": {},
   "outputs": [],
   "source": [
    "\n",
    "adata_filtered = adata[mask].copy()\n"
   ]
  },
  {
   "cell_type": "code",
   "execution_count": null,
   "id": "41491692-7f09-4b3b-9578-df6ff955ea98",
   "metadata": {},
   "outputs": [],
   "source": [
    "\n",
    "# Look at initial vs filtered data UMAP \n",
    "print('Original data')\n",
    "p1=sy.plot.umap(adata, color=[\"subject\"], ncols=1, show=False, return_fig=True)\n"
   ]
  },
  {
   "cell_type": "code",
   "execution_count": null,
   "id": "0747e803-0814-4c28-b027-4e22d30fed1e",
   "metadata": {},
   "outputs": [],
   "source": [
    "\n",
    "print('CXCR5 high + TCRva72 high + SSC-A high')\n",
    "p1=sy.plot.umap(adata[~mask1], color=[\"subject\"], ncols=1, show=False, return_fig=True)\n",
    "\n"
   ]
  },
  {
   "cell_type": "code",
   "execution_count": null,
   "id": "37ed07d0-03d7-4a76-aed3-36f0a4e4cbdc",
   "metadata": {},
   "outputs": [],
   "source": [
    "\n",
    "print('CXCR5 high + TCRva72 high + SSC-A normal')\n",
    "p1=sy.plot.umap(adata[~mask2], color=[\"subject\"], ncols=1, show=False, return_fig=True)\n",
    "\n"
   ]
  },
  {
   "cell_type": "code",
   "execution_count": null,
   "id": "6ae4544c-76b9-4546-8777-af3f53c43905",
   "metadata": {},
   "outputs": [],
   "source": [
    "\n",
    "print('CXCR5 normal + TCRva72 normal + SSC-A high')\n",
    "p1=sy.plot.umap(adata[~mask3], color=[\"subject\"], ncols=1, show=False, return_fig=True)\n",
    "\n"
   ]
  },
  {
   "cell_type": "code",
   "execution_count": null,
   "id": "e6ec062b-cdbc-4ba8-a62c-a9571f1477c8",
   "metadata": {},
   "outputs": [],
   "source": [
    "\n",
    "print('All criteria applied')\n",
    "p1=sy.plot.umap(adata[mask], color=[\"subject\"], ncols=1, show=False, return_fig=True)\n"
   ]
  },
  {
   "cell_type": "code",
   "execution_count": null,
   "id": "58d1dbc5-c695-4419-864d-7fa2c63b6308",
   "metadata": {
    "scrolled": true
   },
   "outputs": [],
   "source": [
    "\n",
    "plotBivariateMarkers(adata_filtered, 'CD185 (CXCR5)', 'TCR va72', key = 'subject')\n"
   ]
  },
  {
   "cell_type": "code",
   "execution_count": null,
   "id": "c5b6f3a7-9637-49b7-9d81-3a0ffa45ca33",
   "metadata": {},
   "outputs": [],
   "source": [
    "\n",
    "plotBivariateMarkers(adata_filtered, 'CD16', 'SSC-A', key = 'subject')\n"
   ]
  },
  {
   "cell_type": "code",
   "execution_count": null,
   "id": "9405c38b-3bbb-42e2-90ca-5fcf50f99b3c",
   "metadata": {},
   "outputs": [],
   "source": [
    "\n",
    "plotBivariateMarkers(adata_filtered, 'FSC-A', 'SSC-A', key = 'subject')\n"
   ]
  },
  {
   "cell_type": "code",
   "execution_count": null,
   "id": "db964b26-cfc9-4579-ad9d-399a19240098",
   "metadata": {},
   "outputs": [],
   "source": [
    "\n",
    "print(len(adata.obs))\n"
   ]
  },
  {
   "cell_type": "code",
   "execution_count": null,
   "id": "03b49c3f-e2bd-40b0-b39d-c79ed9395a36",
   "metadata": {},
   "outputs": [],
   "source": [
    "\n",
    "print(len(adata_filtered.obs))\n"
   ]
  },
  {
   "cell_type": "code",
   "execution_count": null,
   "id": "a06bb88e-fd40-48f1-b5a7-82a3aec9b2cf",
   "metadata": {},
   "outputs": [],
   "source": [
    "\n",
    "# Create masks for each condition\n",
    "all_three_conditions = (\n",
    "    ((adata[:, \"CD185 (CXCR5)\"].X > thresholds[\"CD185 (CXCR5)\"]).flatten() |\n",
    "    (adata[:, \"TCR va72\"].X > thresholds[\"TCR va72\"]).flatten()) &\n",
    "    (adata.obs[\"SSC-A\"] > thresholds[\"SSC-A\"])\n",
    ")\n",
    "\n",
    "cxcr5_tcr_only = (\n",
    "    ((adata[:, \"CD185 (CXCR5)\"].X > thresholds[\"CD185 (CXCR5)\"]).flatten() |\n",
    "    (adata[:, \"TCR va72\"].X > thresholds[\"TCR va72\"]).flatten()) &\n",
    "    ~(adata.obs[\"SSC-A\"] > thresholds[\"SSC-A\"])\n",
    ")\n",
    "\n",
    "ssca_only = (\n",
    "    ~(adata[:, \"CD185 (CXCR5)\"].X > thresholds[\"CD185 (CXCR5)\"]).flatten() &\n",
    "    ~(adata[:, \"TCR va72\"].X > thresholds[\"TCR va72\"]).flatten() &\n",
    "    (adata.obs[\"SSC-A\"] > thresholds[\"SSC-A\"])\n",
    ")\n",
    "\n",
    "fsca_only = (\n",
    "    ~(adata[:, \"CD185 (CXCR5)\"].X > thresholds[\"CD185 (CXCR5)\"]).flatten() &\n",
    "    ~(adata[:, \"TCR va72\"].X > thresholds[\"TCR va72\"]).flatten() &\n",
    "    ~(adata.obs[\"SSC-A\"] > thresholds[\"SSC-A\"]) &\n",
    "    (adata.obs[\"FSC-A\"] > thresholds[\"FSC-A\"]) \n",
    ")\n",
    "\n",
    "# Count the number of cells for each condition\n",
    "counts = {\n",
    "    \"All three conditions\": all_three_conditions.sum(),\n",
    "    \"CXCR5 and TCR va72 only\": cxcr5_tcr_only.sum(),\n",
    "    \"SSC-A only\": ssca_only.sum(), \n",
    "    \"FSC-A only\": fsca_only.sum()\n",
    "}\n",
    "\n",
    "counts_table = pd.DataFrame(list(counts.items()), columns=[\"Condition\", \"Cell Count\"])\n",
    "counts_table\n"
   ]
  },
  {
   "cell_type": "markdown",
   "id": "ee46a235-b3c7-404c-87f7-4395a55943dd",
   "metadata": {},
   "source": [
    "#### Metadata association with nonviable cells"
   ]
  },
  {
   "cell_type": "code",
   "execution_count": null,
   "id": "424c2998-a73b-4cf9-abd9-853ce710207a",
   "metadata": {},
   "outputs": [],
   "source": [
    "\n",
    "# Create masks for each condition\n",
    "adata.obs[\"all_three_conditions\"] = (\n",
    "    ((adata[:, \"CD185 (CXCR5)\"].X > thresholds[\"CD185 (CXCR5)\"]).flatten() |\n",
    "    (adata[:, \"TCR va72\"].X > thresholds[\"TCR va72\"]).flatten()) &\n",
    "    (adata.obs[\"SSC-A\"] > thresholds[\"SSC-A\"])\n",
    ")\n",
    "\n",
    "adata.obs[\"cxcr5_tcr_only\"] = (\n",
    "    ((adata[:, \"CD185 (CXCR5)\"].X > thresholds[\"CD185 (CXCR5)\"]).flatten() |\n",
    "    (adata[:, \"TCR va72\"].X > thresholds[\"TCR va72\"]).flatten()) &\n",
    "    ~(adata.obs[\"SSC-A\"] > thresholds[\"SSC-A\"])\n",
    ")\n",
    "\n",
    "adata.obs[\"ssca_only\"] = (\n",
    "    ~(adata[:, \"CD185 (CXCR5)\"].X > thresholds[\"CD185 (CXCR5)\"]).flatten() &\n",
    "    ~(adata[:, \"TCR va72\"].X > thresholds[\"TCR va72\"]).flatten() &\n",
    "    (adata.obs[\"SSC-A\"] > thresholds[\"SSC-A\"])\n",
    ")\n",
    "\n",
    "adata.obs[\"fsca_only\"] = (\n",
    "    ~(adata[:, \"CD185 (CXCR5)\"].X > thresholds[\"CD185 (CXCR5)\"]).flatten() &\n",
    "    ~(adata[:, \"TCR va72\"].X > thresholds[\"TCR va72\"]).flatten() &\n",
    "    ~(adata.obs[\"SSC-A\"] > thresholds[\"SSC-A\"]) &\n",
    "    (adata.obs[\"FSC-A\"] > thresholds[\"FSC-A\"]) \n",
    ")\n",
    "\n",
    "# Group by Visit and Subject and compute counts for each condition\n",
    "grouped_counts = (\n",
    "    adata.obs.groupby([\"sample_id\"])\n",
    "    .agg({\n",
    "        \"all_three_conditions\": \"sum\",\n",
    "        \"cxcr5_tcr_only\": \"sum\",\n",
    "        \"ssca_only\": \"sum\",\n",
    "        \"fsca_only\": \"sum\"\n",
    "    })\n",
    "    .reset_index()\n",
    ")\n",
    "\n",
    "grouped_counts = grouped_counts.merge(meta_data, how='left', left_on='sample_id', right_index=True)\n",
    "\n",
    "# grouped_counts.to_csv(fig_path + batch + \"_excluded_cells_sample_visit.csv\", index=False)\n"
   ]
  },
  {
   "cell_type": "code",
   "execution_count": null,
   "id": "4822820e-dec5-450e-bb64-6da70c704ada",
   "metadata": {},
   "outputs": [],
   "source": [
    "\n",
    "# Set the sample_id as the index for easier plotting\n",
    "grouped_counts.set_index(\"sample_id\", inplace=True)\n",
    "\n",
    "# Plot a stacked bar chart\n",
    "grouped_counts[[\"all_three_conditions\", \"cxcr5_tcr_only\", \"ssca_only\", \"fsca_only\"]].plot(\n",
    "    kind=\"bar\", stacked=True, figsize=(12, 6), color=[\"blue\", \"orange\", \"green\", \"red\"]\n",
    ")\n",
    "\n",
    "# Add labels and title\n",
    "plt.xlabel(\"Sample ID\", fontsize=12)\n",
    "plt.ylabel(\"Cell Count\", fontsize=12)\n",
    "plt.title(\"Contribution per sample to each exlusion criterion\", fontsize=14)\n",
    "plt.xticks(rotation=90)\n",
    "plt.legend(title=\"Criteria\", fontsize=10)\n",
    "\n",
    "# Show the plot\n",
    "plt.tight_layout()\n",
    "plt.show()\n"
   ]
  },
  {
   "cell_type": "code",
   "execution_count": null,
   "id": "a75ed1b3-ace6-4d65-aa2e-14607ec28863",
   "metadata": {},
   "outputs": [],
   "source": [
    "\n",
    "visit_order = ['Bloodworks', 'Lilly PD1 Baseline', 'Lilly PD1 W4', 'Lilly PD1 W8', 'Lilly PD1 W12', 'Lilly PD1 W24']\n",
    "grouped_counts[\"Visit\"] = pd.Categorical(grouped_counts[\"Visit\"], categories=grouped_counts, ordered=True)\n"
   ]
  },
  {
   "cell_type": "code",
   "execution_count": null,
   "id": "bebb96dd-29fb-40e4-9042-da1d8d213c58",
   "metadata": {},
   "outputs": [],
   "source": [
    "\n",
    "# Aggregate counts by Visit\n",
    "visit_composition = (\n",
    "    adata.obs.groupby(\"Visit\")[[\"all_three_conditions\", \"cxcr5_tcr_only\", \"ssca_only\", \"fsca_only\"]]\n",
    "    .sum()\n",
    "    .reset_index()\n",
    ")\n",
    "\n",
    "# Plot a stacked bar chart\n",
    "visit_composition.set_index(\"Visit\").plot(\n",
    "    kind=\"bar\", stacked=True, figsize=(10, 6), color=[\"blue\", \"orange\", \"green\", \"red\"]\n",
    ")\n",
    "\n",
    "# Add labels and title\n",
    "plt.xlabel(\"Visit\", fontsize=12)\n",
    "plt.ylabel(\"Cell Count\", fontsize=12)\n",
    "plt.title(\"Contribution per visit to each exlusion criterion\", fontsize=14)\n",
    "plt.legend(title=\"Criteria\", fontsize=10)\n",
    "plt.xticks(rotation=45)\n",
    "\n",
    "# Show the plot\n",
    "plt.tight_layout()\n",
    "plt.show()"
   ]
  },
  {
   "cell_type": "code",
   "execution_count": null,
   "id": "df0bcb6d-c66e-4cf8-8aea-737b9f1386b1",
   "metadata": {},
   "outputs": [],
   "source": [
    "# Calculate total counts for each Visit from the original adata object\n",
    "total_counts = adata.obs[\"Visit\"].value_counts()\n",
    "\n",
    "# Ensure Visit is categorical and matches the order\n",
    "visit_order = visit_composition[\"Visit\"].unique()  # Use unique visits from visit_composition\n",
    "total_counts = total_counts.reindex(visit_order, fill_value=0)\n",
    "\n",
    "# Add total counts to the visit_composition DataFrame\n",
    "visit_composition[\"Total\"] = total_counts.values\n",
    "\n",
    "# Set up the bar positions\n",
    "x = np.arange(len(visit_composition[\"Visit\"]))  # Positions for each Visit\n",
    "width = 0.35  # Width of the bars\n",
    "\n",
    "# Create the plot\n",
    "fig, ax1 = plt.subplots(figsize=(12, 6))\n",
    "\n",
    "# Plot the stacked bars for each criterion on the primary y-axis\n",
    "ax1.bar(x - width / 2, visit_composition[\"all_three_conditions\"], width, label=\"All Three Conditions\", color=\"blue\")\n",
    "ax1.bar(x - width / 2, visit_composition[\"cxcr5_tcr_only\"], width, bottom=visit_composition[\"all_three_conditions\"], label=\"CXCR5 and TCR va72 Only\", color=\"orange\")\n",
    "ax1.bar(x - width / 2, visit_composition[\"ssca_only\"], width, bottom=visit_composition[\"all_three_conditions\"] + visit_composition[\"cxcr5_tcr_only\"], label=\"SSC-A Only\", color=\"green\")\n",
    "ax1.bar(x - width / 2, visit_composition[\"fsca_only\"], width, bottom=visit_composition[\"all_three_conditions\"] + visit_composition[\"cxcr5_tcr_only\"] + visit_composition[\"ssca_only\"], label=\"FSC-A Only\", color=\"red\")\n",
    "\n",
    "# Add labels and title for the primary y-axis\n",
    "ax1.set_xlabel(\"Visit\", fontsize=12)\n",
    "ax1.set_ylabel(\"Cell Count (Criteria)\", fontsize=12)\n",
    "ax1.set_title(\"Contribution per visit to each exlusion criterion, compared with total visit composition of data (dual axes)\", fontsize=14)\n",
    "ax1.set_xticks(x)\n",
    "ax1.set_xticklabels(visit_composition[\"Visit\"], rotation=45)\n",
    "ax1.legend(loc=\"upper left\", title=\"Criteria\", fontsize=10)\n",
    "\n",
    "# Create a secondary y-axis for the total bar\n",
    "ax2 = ax1.twinx()\n",
    "ax2.bar(x + width / 2, visit_composition[\"Total\"], width, label=\"Total (Original Data)\", color=\"gray\", alpha=0.7)\n",
    "\n",
    "# Add labels and legend for the secondary y-axis\n",
    "ax2.set_ylabel(\"Cell Count (Total)\", fontsize=12)\n",
    "ax2.legend(loc=\"upper right\", title=\"Total\", fontsize=10)\n",
    "\n",
    "# Show the plot\n",
    "plt.tight_layout()\n",
    "plt.show()"
   ]
  },
  {
   "cell_type": "code",
   "execution_count": null,
   "id": "ec3f0531-7f15-46e1-bf97-04b0b4f58797",
   "metadata": {},
   "outputs": [],
   "source": [
    "\n",
    "# Aggregate by Cohort\n",
    "cohort_counts = grouped_counts.groupby(\"cohort\")[[\"all_three_conditions\", \"cxcr5_tcr_only\", \"ssca_only\", \"fsca_only\"]].sum()\n",
    "\n",
    "# Plot a stacked bar chart\n",
    "cohort_counts.plot(\n",
    "    kind=\"bar\", stacked=True, figsize=(10, 6), color=[\"blue\", \"orange\", \"green\", \"red\"]\n",
    ")\n",
    "\n",
    "# Add labels and title\n",
    "plt.xlabel(\"Cohort\", fontsize=12)\n",
    "plt.ylabel(\"Cell Count\", fontsize=12)\n",
    "plt.title(\"Contribution per cohort to each exclusion criterion\", fontsize=14)\n",
    "plt.legend(title=\"Criteria\", fontsize=10)\n",
    "\n",
    "# Show the plot\n",
    "plt.tight_layout()\n",
    "plt.show()\n"
   ]
  },
  {
   "cell_type": "markdown",
   "id": "2b174edb-e64d-4cf3-bb83-7a22f17c2069",
   "metadata": {},
   "source": [
    "#### Final filtering of nonviable cells"
   ]
  },
  {
   "cell_type": "code",
   "execution_count": null,
   "id": "b2abd3d0-903c-4e2b-b601-9bf869e02b35",
   "metadata": {},
   "outputs": [],
   "source": [
    "\n",
    "# Revert to raw data that can be re-transformed without weird data\n",
    "adata_filtered.X = adata_filtered.layers['raw'].copy()\n"
   ]
  },
  {
   "cell_type": "code",
   "execution_count": null,
   "id": "4783c95c-2f0b-441f-9726-46ead12a217c",
   "metadata": {},
   "outputs": [],
   "source": [
    "\n",
    "# Remove layers for sake of space\n",
    "del adata\n",
    "del adata_filtered.layers['raw']\n",
    "\n",
    "gc.collect()\n"
   ]
  },
  {
   "cell_type": "markdown",
   "id": "c9a3238e-f2ea-49e0-ab93-ce329e2d1c23",
   "metadata": {},
   "source": [
    "### Identify and remove nonviable samples"
   ]
  },
  {
   "cell_type": "code",
   "execution_count": null,
   "id": "29fa70ad-e4fe-45c9-9b57-cec7bdbf82bd",
   "metadata": {},
   "outputs": [],
   "source": [
    "\n",
    "print(len(adata_filtered.obs))\n"
   ]
  },
  {
   "cell_type": "code",
   "execution_count": null,
   "id": "4122bb39-0d25-42f9-96a7-df54fb85630b",
   "metadata": {},
   "outputs": [],
   "source": [
    "\n",
    "counts = []\n",
    "\n",
    "for sample in adata_filtered.obs['sample_id'].unique():\n",
    "    count = sum(adata_filtered.obs['sample_id'] == sample)\n",
    "    counts.append({'sample_id': sample, 'count': count})\n",
    "\n",
    "counts_df = pd.DataFrame(counts)\n",
    "\n",
    "print(pd.DataFrame(counts_df))\n"
   ]
  },
  {
   "cell_type": "code",
   "execution_count": null,
   "id": "c64d9b07-72cb-4638-82d7-81c889ed74e9",
   "metadata": {},
   "outputs": [],
   "source": [
    "\n",
    "# Define the coloring logic\n",
    "def assign_color(cell_count):\n",
    "    if cell_count > 2e6 or cell_count < 5e4:  # Red for > 2M or < 80K\n",
    "        return 'red'\n",
    "    elif (1e6 < cell_count <= 2e6) or (5e4 <= cell_count < 2e5):  # Yellow for 1M-2M or 80K-200K\n",
    "        return 'yellow'\n",
    "    else:  # Green otherwise\n",
    "        return 'green'\n",
    "\n",
    "# Apply the coloring logic to the DataFrame\n",
    "counts_df['color'] = counts_df['count'].apply(assign_color)\n",
    "\n",
    "# Plot the bar chart with colored bars\n",
    "plt.figure(figsize=(12, 6))\n",
    "bars = plt.bar(counts_df['sample_id'], counts_df['count'], color=counts_df['color'])\n",
    "\n",
    "# Add labels and title\n",
    "plt.xlabel('Sample ID', fontsize=12)\n",
    "plt.ylabel('Cell Numbers', fontsize=12)\n",
    "plt.title('Sample Counts', fontsize=14)\n",
    "plt.xticks(rotation=90, ha='center')\n",
    "\n",
    "# Add a legend for the colors\n",
    "legend_labels = {'red': '> 2M or < 50K', 'yellow': '1M-2M or 50K-200K', 'green': 'Other'}\n",
    "handles = [plt.Rectangle((0, 0), 1, 1, color=color) for color in legend_labels.keys()]\n",
    "plt.legend(handles, legend_labels.values(), title=\"Cell Count Range\", fontsize=10)\n",
    "\n",
    "# Show the plot\n",
    "plt.tight_layout()\n",
    "plt.show()\n"
   ]
  },
  {
   "cell_type": "code",
   "execution_count": null,
   "id": "bc1cbe42-e077-4399-aab0-b608c9214b77",
   "metadata": {
    "scrolled": true
   },
   "outputs": [],
   "source": [
    "\n",
    "# If samples exist with concerning counts, look at sample viability \n",
    "for sample in adata_filtered.obs['sample_id'].unique():\n",
    "    print(sample)\n",
    "    temp = adata_filtered[adata_filtered.obs['sample_id'] == sample].copy()\n",
    "    plotBivariateMarkers(temp, 'FSC-A', 'SSC-A', key = 'sample_id')\n",
    "    "
   ]
  },
  {
   "cell_type": "code",
   "execution_count": null,
   "id": "8d8e3030-1019-49a3-9617-82157bf7211a",
   "metadata": {},
   "outputs": [],
   "source": [
    "\n",
    "# If needed, remove 'problem' samples (to be conservative, only choose those with low counts and obviously abnormal MFI expression; more can always be removed in/after scyan prediction step)\n",
    "kits_to_exclude = ['']\n",
    "\n",
    "adata_filtered_2 = adata_filtered[~adata_filtered.obs['sample_kit'].isin(kits_to_exclude)].copy()\n"
   ]
  },
  {
   "cell_type": "code",
   "execution_count": null,
   "id": "951b7e26-f16b-4c58-9416-57f858affbf8",
   "metadata": {},
   "outputs": [],
   "source": [
    "\n",
    "print(len(adata_filtered_2.obs))\n"
   ]
  },
  {
   "cell_type": "code",
   "execution_count": null,
   "id": "8edf648d-9e76-4184-ba5d-2c713c3ba2b3",
   "metadata": {},
   "outputs": [],
   "source": [
    "\n",
    "# Look at initial vs filtered data UMAP \n",
    "p1=sy.plot.umap(adata_filtered, color=[\"sample_id\"], ncols=1, show=False, return_fig=True)\n",
    "p1=sy.plot.umap(adata_filtered[adata_filtered.obs['sample_kit'].isin(kits_to_exclude)], color=[\"sample_id\"], size=2, ncols=1, show=False, return_fig=True)\n"
   ]
  },
  {
   "cell_type": "code",
   "execution_count": null,
   "id": "5ba98d36-4296-46e2-b230-7f1236fe6bb7",
   "metadata": {},
   "outputs": [],
   "source": [
    "\n",
    "# If the new data looks good on UMAP, replace initial filtered adata object and remove second object for lower memory overhead\n",
    "# adata_filtered = adata_filtered_2.copy()\n",
    "del adata_filtered_2\n",
    "gc.collect()\n"
   ]
  },
  {
   "cell_type": "markdown",
   "id": "7620ff54-b61c-4228-941b-64bd652f0eae",
   "metadata": {},
   "source": [
    "## Transform data"
   ]
  },
  {
   "cell_type": "code",
   "execution_count": null,
   "id": "5c67b7d5-f0a5-4c9b-abcc-fd2b4969b05b",
   "metadata": {},
   "outputs": [],
   "source": [
    "\n",
    "# Logicle transform on all data\n",
    "sy.preprocess.auto_logicle_transform(adata_filtered)\n",
    "adata_filtered.X\n"
   ]
  },
  {
   "cell_type": "code",
   "execution_count": null,
   "id": "3025daa0-d3c1-448e-b8c9-d55c48a4d2ab",
   "metadata": {},
   "outputs": [],
   "source": [
    "\n",
    "adata_filtered.X.shape\n"
   ]
  },
  {
   "cell_type": "markdown",
   "id": "de0feac7-2a4c-4694-8a33-afce958a2bfc",
   "metadata": {},
   "source": [
    "## Visualize preprocessed data (UMAP)"
   ]
  },
  {
   "cell_type": "code",
   "execution_count": null,
   "id": "6246fd7f-5850-4259-a5d4-4d5e3e39699a",
   "metadata": {},
   "outputs": [],
   "source": [
    "\n",
    "sy.tools.umap(adata_filtered, markers=gating_antigens)\n"
   ]
  },
  {
   "cell_type": "code",
   "execution_count": null,
   "id": "189ab84f-5caf-4f82-8954-208e4d0d65b1",
   "metadata": {
    "scrolled": true
   },
   "outputs": [],
   "source": [
    "\n",
    "p1=sy.plot.umap(adata_filtered, color=['cohort','batch','subject','Visit'],  ncols=2, wspace=0.4,show=False, return_fig=True)\n",
    "\n",
    "for var in gating_antigens:\n",
    "    p1=sy.plot.umap(adata_filtered, color=[var], show=False, return_fig=True)\n"
   ]
  },
  {
   "cell_type": "code",
   "execution_count": null,
   "id": "021f8e1a-fbe1-475e-bd07-8bf7a7a1eaa1",
   "metadata": {},
   "outputs": [],
   "source": [
    "\n",
    "adata_filtered.obsm['umap_processed'] = adata_filtered.obsm['X_umap']\n"
   ]
  },
  {
   "cell_type": "markdown",
   "id": "213bf548-10ba-43a9-91e9-ad756fd22fb0",
   "metadata": {},
   "source": [
    "## Save preprocessed AnnData object"
   ]
  },
  {
   "cell_type": "code",
   "execution_count": null,
   "id": "e513fa76-ff2e-4164-8609-2452773de16c",
   "metadata": {},
   "outputs": [],
   "source": [
    "\n",
    "adata_filtered.write_h5ad(output_path + proj_name + \"processed_adata.h5ad\")\n",
    " "
   ]
  },
  {
   "cell_type": "markdown",
   "id": "4e4200c8-dbb2-491d-8d2a-23b1900c0fce",
   "metadata": {},
   "source": [
    "## Upload to HISE"
   ]
  },
  {
   "cell_type": "code",
   "execution_count": null,
   "id": "93a5c29e-3c19-4a90-8baa-631b7e774817",
   "metadata": {},
   "outputs": [],
   "source": [
    "\n",
    "# Switch to minimal Python kernel\n",
    "import hisepy\n",
    "import os\n",
    "import glob\n",
    "\n",
    "base_path = '/home/workspace/lilly-pd1-analysis/03_flow/'\n",
    "output_path = base_path + '02-scyan-predictions/output/'\n",
    "\n",
    "with open(output_path + \"in_fids.txt\") as f:\n",
    "    in_fids = [line.rstrip('\\n') for line in f]\n",
    "\n",
    "in_fids\n"
   ]
  },
  {
   "cell_type": "code",
   "execution_count": null,
   "id": "61024e2f-a671-40b1-9134-e3aa637869b7",
   "metadata": {},
   "outputs": [],
   "source": [
    "\n",
    "outputs = [os.path.join(output_path, f) for f in os.listdir(output_path)]\n",
    "outputs = [f for f in outputs if not f.endswith(\"in_fids.txt\")]\n",
    "outputs = [f for f in outputs if not f.endswith(\".ipynb_checkpoints\")]\n",
    "outputs = [f for f in outputs if os.path.isfile(f)]\n",
    "outputs\n"
   ]
  },
  {
   "cell_type": "code",
   "execution_count": null,
   "id": "cb92f8c4-94eb-42ae-832d-6ae57a19429b",
   "metadata": {},
   "outputs": [],
   "source": [
    "hisepy.get_study_spaces()"
   ]
  },
  {
   "cell_type": "code",
   "execution_count": null,
   "id": "5e7a7d35-ea4a-4cd8-bff2-bf976aee08ee",
   "metadata": {
    "scrolled": true
   },
   "outputs": [],
   "source": [
    "\n",
    "batch = \"B237\"\n",
    "panel = \"PL1\"\n",
    "\n",
    "hisepy.upload_files(\n",
    "    files = outputs,\n",
    "    study_space_id = 'cea64a3f-6050-4b24-960c-bbda4dd9a2ee',\n",
    "    title = 'Lilly Flow Scyan Preprocessing, ' + panel + ' ' + batch, \n",
    "    input_file_ids = in_fids, \n",
    "    destination = 'flow/scyan/preprocess'\n",
    ")\n"
   ]
  },
  {
   "cell_type": "code",
   "execution_count": null,
   "id": "41bc05d9-64ca-4d40-b898-e800c3509a37",
   "metadata": {},
   "outputs": [],
   "source": []
  }
 ],
 "metadata": {
  "kernelspec": {
   "display_name": "Python (minimal)",
   "language": "python",
   "name": "python-minimal"
  },
  "language_info": {
   "codemirror_mode": {
    "name": "ipython",
    "version": 3
   },
   "file_extension": ".py",
   "mimetype": "text/x-python",
   "name": "python",
   "nbconvert_exporter": "python",
   "pygments_lexer": "ipython3",
   "version": "3.11.11"
  }
 },
 "nbformat": 4,
 "nbformat_minor": 5
}
