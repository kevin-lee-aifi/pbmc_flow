{
 "cells": [
  {
   "cell_type": "code",
   "execution_count": 12,
   "id": "ac36e4bb-c3eb-4108-9b5f-50e370c8d998",
   "metadata": {},
   "outputs": [],
   "source": [
    "library(ggplot2)      # Core plotting functionality\n",
    "library(ggalluvial)   # Alluvial plot creation\n",
    "library(dplyr)        # Data manipulation\n",
    "library(RColorBrewer) # Color palette generation\n",
    "library(gridExtra)    # Grid-based plot arrangements\n",
    "library(rlang)        # Programming tools for R\n",
    "library(tidyr)        # Data reshaping (pivot functions)\n",
    "library(patchwork)    # Combining multiple plots into panels\n",
    "\n",
    "df <- read.csv('/home/workspace/pbmc_flow/data/FH PBMC flow data T cells -Absolute counts.csv')\n",
    "df <- df[df$'Absolute.cell.uL' != '#VALUE!',]\n",
    "df[['Absolute.cell.uL']] <- as.numeric(df[['Absolute.cell.uL']])"
   ]
  },
  {
   "cell_type": "code",
   "execution_count": 18,
   "id": "2ebc314e-8e4f-4646-96f5-bc25cdd443b0",
   "metadata": {},
   "outputs": [
    {
     "data": {
      "text/html": [
       "<style>\n",
       ".list-inline {list-style: none; margin:0; padding: 0}\n",
       ".list-inline>li {display: inline-block}\n",
       ".list-inline>li:not(:last-child)::after {content: \"\\00b7\"; padding: 0 .5ex}\n",
       "</style>\n",
       "<ol class=list-inline><li>'filename'</li><li>'population'</li><li>'uniquePopulationName'</li><li>'parentPopulation'</li><li>'channel'</li><li>'reagent'</li><li>'Sample.Kit.barcode'</li><li>'Subject'</li><li>'Visit'</li><li>'Sex'</li><li>'Response'</li><li>'bc.lymphocyte.count'</li><li>'plate'</li><li>'plate.row'</li><li>'plate.well'</li><li>'plate.column'</li><li>'X'</li><li>'eventCount'</li><li>'B.cells'</li><li>'NK.Cells'</li><li>'T.Cells'</li><li>'Total.T.B.NK'</li><li>'Absolute.cell.uL'</li></ol>\n"
      ],
      "text/latex": [
       "\\begin{enumerate*}\n",
       "\\item 'filename'\n",
       "\\item 'population'\n",
       "\\item 'uniquePopulationName'\n",
       "\\item 'parentPopulation'\n",
       "\\item 'channel'\n",
       "\\item 'reagent'\n",
       "\\item 'Sample.Kit.barcode'\n",
       "\\item 'Subject'\n",
       "\\item 'Visit'\n",
       "\\item 'Sex'\n",
       "\\item 'Response'\n",
       "\\item 'bc.lymphocyte.count'\n",
       "\\item 'plate'\n",
       "\\item 'plate.row'\n",
       "\\item 'plate.well'\n",
       "\\item 'plate.column'\n",
       "\\item 'X'\n",
       "\\item 'eventCount'\n",
       "\\item 'B.cells'\n",
       "\\item 'NK.Cells'\n",
       "\\item 'T.Cells'\n",
       "\\item 'Total.T.B.NK'\n",
       "\\item 'Absolute.cell.uL'\n",
       "\\end{enumerate*}\n"
      ],
      "text/markdown": [
       "1. 'filename'\n",
       "2. 'population'\n",
       "3. 'uniquePopulationName'\n",
       "4. 'parentPopulation'\n",
       "5. 'channel'\n",
       "6. 'reagent'\n",
       "7. 'Sample.Kit.barcode'\n",
       "8. 'Subject'\n",
       "9. 'Visit'\n",
       "10. 'Sex'\n",
       "11. 'Response'\n",
       "12. 'bc.lymphocyte.count'\n",
       "13. 'plate'\n",
       "14. 'plate.row'\n",
       "15. 'plate.well'\n",
       "16. 'plate.column'\n",
       "17. 'X'\n",
       "18. 'eventCount'\n",
       "19. 'B.cells'\n",
       "20. 'NK.Cells'\n",
       "21. 'T.Cells'\n",
       "22. 'Total.T.B.NK'\n",
       "23. 'Absolute.cell.uL'\n",
       "\n",
       "\n"
      ],
      "text/plain": [
       " [1] \"filename\"             \"population\"           \"uniquePopulationName\"\n",
       " [4] \"parentPopulation\"     \"channel\"              \"reagent\"             \n",
       " [7] \"Sample.Kit.barcode\"   \"Subject\"              \"Visit\"               \n",
       "[10] \"Sex\"                  \"Response\"             \"bc.lymphocyte.count\" \n",
       "[13] \"plate\"                \"plate.row\"            \"plate.well\"          \n",
       "[16] \"plate.column\"         \"X\"                    \"eventCount\"          \n",
       "[19] \"B.cells\"              \"NK.Cells\"             \"T.Cells\"             \n",
       "[22] \"Total.T.B.NK\"         \"Absolute.cell.uL\"    "
      ]
     },
     "metadata": {},
     "output_type": "display_data"
    }
   ],
   "source": [
    "colnames(df)"
   ]
  },
  {
   "cell_type": "code",
   "execution_count": 17,
   "id": "49c106cd-f3ef-4598-8613-2f402e03c433",
   "metadata": {},
   "outputs": [
    {
     "name": "stdout",
     "output_type": "stream",
     "text": [
      "[1] 216\n"
     ]
    }
   ],
   "source": [
    "subjects <- unique(df$Subject)\n",
    "\n",
    "plots <- lapply(seq_along(subjects)[1:1], function(x) {\n",
    "    df_subset <- df[df$Subject == subjects[[x]], ]\n",
    "\n",
    "    total_cells <- sum(df$)\n",
    "})"
   ]
  }
 ],
 "metadata": {
  "kernelspec": {
   "display_name": "R Environment",
   "language": "R",
   "name": "pbmc_flow_r_env"
  },
  "language_info": {
   "codemirror_mode": "r",
   "file_extension": ".r",
   "mimetype": "text/x-r-source",
   "name": "R",
   "pygments_lexer": "r",
   "version": "4.3.3"
  }
 },
 "nbformat": 4,
 "nbformat_minor": 5
}
