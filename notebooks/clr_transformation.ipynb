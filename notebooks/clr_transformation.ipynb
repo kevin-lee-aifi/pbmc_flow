{
 "cells": [
  {
   "cell_type": "code",
   "execution_count": 3,
   "id": "ce4b05df-1d1e-471b-9ba1-7d60ac203d1f",
   "metadata": {},
   "outputs": [
    {
     "name": "stderr",
     "output_type": "stream",
     "text": [
      "Welcome to compositions, a package for compositional data analysis.\n",
      "Find an intro with \"? compositions\"\n",
      "\n",
      "\n",
      "\n",
      "Attaching package: ‘compositions’\n",
      "\n",
      "\n",
      "The following objects are masked from ‘package:stats’:\n",
      "\n",
      "    anova, cor, cov, dist, var\n",
      "\n",
      "\n",
      "The following object is masked from ‘package:graphics’:\n",
      "\n",
      "    segments\n",
      "\n",
      "\n",
      "The following objects are masked from ‘package:base’:\n",
      "\n",
      "    %*%, norm, scale, scale.default\n",
      "\n",
      "\n"
     ]
    }
   ],
   "source": [
    "library(tidyverse)\n",
    "library(compositions)\n",
    "\n",
    "freq_clr <- function(freq_table, sample_col, freq_col, celltype_col){\n",
    "    freq_selected <- select(freq_table, all_of(c(freq_col, celltype_col, sample_col)))\n",
    "    freq_grouped <- group_by(freq_selected, across(all_of(c(sample_col, celltype_col))))\n",
    "    freq_clean <- summarise(freq_grouped, across(all_of(freq_col), function(x) mean(x, na.rm = TRUE)), .groups = 'drop')\n",
    "    \n",
    "    freq <- pivot_wider(freq_clean, \n",
    "                       id_cols = all_of(sample_col), \n",
    "                       names_from = all_of(celltype_col),\n",
    "                       values_from = all_of(freq_col))\n",
    "    \n",
    "    freq_mx_cols <- select(freq, -all_of(sample_col))\n",
    "    freq_mx <- as.matrix(freq_mx_cols)\n",
    "    rownames(freq_mx) <- freq[[sample_col]]\n",
    "    \n",
    "    freq_clr_matrix <- compositions::clr(freq_mx)\n",
    "    freq_clr_tibble <- as_tibble(freq_clr_matrix, rownames = sample_col)\n",
    "    freq_clr <- pivot_longer(freq_clr_tibble,\n",
    "                           cols = -all_of(sample_col), \n",
    "                           names_to = celltype_col, \n",
    "                           values_to = paste0(freq_col, '_clr'))\n",
    "    \n",
    "    freq_table_grouped <- group_by(freq_table, across(all_of(c(sample_col, celltype_col))))\n",
    "    freq_table_clean <- summarise(freq_table_grouped,\n",
    "                                 across(where(is.numeric), function(x) mean(x, na.rm = TRUE)),\n",
    "                                 across(where(is.character), first),\n",
    "                                 .groups = 'drop')\n",
    "    \n",
    "    freq_meta_clr <- full_join(freq_table_clean, freq_clr, by = c(sample_col, celltype_col))\n",
    "    \n",
    "    return(freq_meta_clr)\n",
    "}"
   ]
  },
  {
   "cell_type": "markdown",
   "id": "bf0440bc-67df-44ab-a172-99f55cce341c",
   "metadata": {},
   "source": [
    "### l1 clr"
   ]
  },
  {
   "cell_type": "code",
   "execution_count": 5,
   "id": "a361dd17-641e-4e53-b785-2ed9ac1cbe3c",
   "metadata": {},
   "outputs": [],
   "source": [
    "data <- read.csv('/home/workspace/pbmc_flow/data/T Cell PBMC data_final_counts, % viable cells(in).csv')\n",
    "data <- mutate(data, Sample_ID = paste(Subject, Visit, sep = \"_\"))\n",
    "\n",
    "celltypes <- list(\n",
    "    l1 = c(\"CD4+ T cells\", \"CD8+ T cells\", \"DN T cells\", \"DP T cells\"),\n",
    "    l2 = c(\"Treg\", \"CD4 rm\", \"CM CD4\", \"EM CD4\", \"Naive CD4\", \"TEMRA CD4\", \"CD8 rm\", \"CM CD8\", \"EM CD8\", \"Naive CD8\", \"TEMRA CD8\", \"DN T cells\", \"DP T cells\")\n",
    ")\n",
    "\n",
    "data <- filter(data, population %in% celltypes$l1, percentOf == \"Viable Cells\")\n",
    "data <- group_by(data, Subject, Visit, percentOf)\n",
    "data <- mutate(data, total_events = sum(eventCount, na.rm = TRUE), frequency = eventCount / total_events)\n",
    "data <- ungroup(data)\n",
    "\n",
    "result <- freq_clr(\n",
    "    freq_table = data,\n",
    "    sample_col = \"Sample_ID\",\n",
    "    freq_col = \"percent\", \n",
    "    celltype_col = \"population\"\n",
    ")\n",
    "\n",
    "write.csv(result, \"/home/workspace/pbmc_flow/data/l1_frequency_clr_results.csv\", row.names = FALSE)"
   ]
  },
  {
   "cell_type": "markdown",
   "id": "bb3cbae9-d561-46c8-918a-cd8a169a22d9",
   "metadata": {},
   "source": [
    "### l2 clr"
   ]
  },
  {
   "cell_type": "code",
   "execution_count": 94,
   "id": "8e7f363c-d0ce-4fe1-88cb-1456256905df",
   "metadata": {},
   "outputs": [],
   "source": [
    "data <- read.csv('/home/workspace/pbmc_flow/data/T Cell PBMC data_final_counts, % viable cells(in).csv')\n",
    "data <- mutate(data, Sample_ID = paste(Subject, Visit, sep = \"_\"))\n",
    "\n",
    "celltypes <- list(\n",
    "    l1 = c(\"CD4+ T cells\", \"CD8+ T cells\", \"DN T cells\", \"DP T cells\"),\n",
    "    l2 = c(\"Treg\", \"CD4 rm\", \"CM CD4\", \"EM CD4\", \"Naive CD4\", \"TEMRA CD4\", \"CD8 rm\", \"CM CD8\", \"EM CD8\", \"Naive CD8\", \"TEMRA CD8\", \"DN T cells\", \"DP T cells\")\n",
    ")\n",
    "\n",
    "data <- filter(data, population %in% celltypes$l2, percentOf == \"Viable Cells\")\n",
    "data <- group_by(data, Subject, Visit, percentOf)\n",
    "data <- mutate(data, total_events = sum(eventCount, na.rm = TRUE), frequency = eventCount / total_events)\n",
    "data <- ungroup(data)\n",
    "\n",
    "result <- freq_clr(\n",
    "    freq_table = data,\n",
    "    sample_col = \"Sample_ID\",\n",
    "    freq_col = \"percent\", \n",
    "    celltype_col = \"population\"\n",
    ")\n",
    "\n",
    "write.csv(result, \"/home/workspace/pbmc_flow/data/l2_frequency_clr_results.csv\", row.names = FALSE)"
   ]
  },
  {
   "cell_type": "markdown",
   "id": "03008c91-b988-4709-b969-bd8bcf51d857",
   "metadata": {},
   "source": [
    "### checking results"
   ]
  },
  {
   "cell_type": "code",
   "execution_count": 97,
   "id": "017ff7b3-0499-4229-894a-0b708edb19e8",
   "metadata": {},
   "outputs": [
    {
     "data": {
      "text/html": [
       "<table class=\"dataframe\">\n",
       "<caption>A tibble: 13 × 22</caption>\n",
       "<thead>\n",
       "\t<tr><th scope=col>Sample_ID</th><th scope=col>population</th><th scope=col>bc.lymphocyte.count</th><th scope=col>plate.column</th><th scope=col>eventCount</th><th scope=col>percent</th><th scope=col>total_events</th><th scope=col>frequency</th><th scope=col>filename</th><th scope=col>uniquePopulationName</th><th scope=col>⋯</th><th scope=col>Subject</th><th scope=col>Visit</th><th scope=col>Sex</th><th scope=col>Response</th><th scope=col>plate</th><th scope=col>plate.row</th><th scope=col>plate.well</th><th scope=col>percentOf</th><th scope=col>percentOfUniqueName</th><th scope=col>percent_clr</th></tr>\n",
       "\t<tr><th scope=col>&lt;chr&gt;</th><th scope=col>&lt;chr&gt;</th><th scope=col>&lt;dbl&gt;</th><th scope=col>&lt;dbl&gt;</th><th scope=col>&lt;dbl&gt;</th><th scope=col>&lt;dbl&gt;</th><th scope=col>&lt;dbl&gt;</th><th scope=col>&lt;dbl&gt;</th><th scope=col>&lt;chr&gt;</th><th scope=col>&lt;chr&gt;</th><th scope=col>⋯</th><th scope=col>&lt;chr&gt;</th><th scope=col>&lt;chr&gt;</th><th scope=col>&lt;chr&gt;</th><th scope=col>&lt;chr&gt;</th><th scope=col>&lt;chr&gt;</th><th scope=col>&lt;chr&gt;</th><th scope=col>&lt;chr&gt;</th><th scope=col>&lt;chr&gt;</th><th scope=col>&lt;chr&gt;</th><th scope=col>&lt;dbl&gt;</th></tr>\n",
       "</thead>\n",
       "<tbody>\n",
       "\t<tr><td>FH1002_Flu Year 1 Stand-Alone</td><td>CD4 rm    </td><td>2170</td><td>11</td><td>  359</td><td> 0.1309063</td><td>159283</td><td>0.002253850</td><td>B064_PT1_PB00250-01.fcs</td><td>CD4 rm    </td><td>⋯</td><td>FH1002</td><td>Flu Year 1 Stand-Alone</td><td>Female</td><td>Responder</td><td>B064</td><td>D</td><td>D11</td><td>Viable Cells</td><td>Viable Cells</td><td>-2.7029400</td></tr>\n",
       "\t<tr><td>FH1002_Flu Year 1 Stand-Alone</td><td>CD8 rm    </td><td>2170</td><td>11</td><td>  486</td><td> 0.1772157</td><td>159283</td><td>0.003051173</td><td>B064_PT1_PB00250-01.fcs</td><td>CD8 rm    </td><td>⋯</td><td>FH1002</td><td>Flu Year 1 Stand-Alone</td><td>Female</td><td>Responder</td><td>B064</td><td>D</td><td>D11</td><td>Viable Cells</td><td>Viable Cells</td><td>-2.4000538</td></tr>\n",
       "\t<tr><td>FH1002_Flu Year 1 Stand-Alone</td><td>CM CD4    </td><td>2170</td><td>11</td><td>17246</td><td> 6.2886064</td><td>159283</td><td>0.108272697</td><td>B064_PT1_PB00250-01.fcs</td><td>CM CD4    </td><td>⋯</td><td>FH1002</td><td>Flu Year 1 Stand-Alone</td><td>Female</td><td>Responder</td><td>B064</td><td>D</td><td>D11</td><td>Viable Cells</td><td>Viable Cells</td><td> 1.1690731</td></tr>\n",
       "\t<tr><td>FH1002_Flu Year 1 Stand-Alone</td><td>CM CD8    </td><td>2170</td><td>11</td><td> 1807</td><td> 0.6589071</td><td>159283</td><td>0.011344588</td><td>B064_PT1_PB00250-01.fcs</td><td>CM CD8    </td><td>⋯</td><td>FH1002</td><td>Flu Year 1 Stand-Alone</td><td>Female</td><td>Responder</td><td>B064</td><td>D</td><td>D11</td><td>Viable Cells</td><td>Viable Cells</td><td>-1.0868391</td></tr>\n",
       "\t<tr><td>FH1002_Flu Year 1 Stand-Alone</td><td>DN T cells</td><td>2170</td><td>11</td><td> 7139</td><td> 2.6031753</td><td>159283</td><td>0.044819598</td><td>B064_PT1_PB00250-01.fcs</td><td>DN T cells</td><td>⋯</td><td>FH1002</td><td>Flu Year 1 Stand-Alone</td><td>Female</td><td>Responder</td><td>B064</td><td>D</td><td>D11</td><td>Viable Cells</td><td>Viable Cells</td><td> 0.2870656</td></tr>\n",
       "\t<tr><td>FH1002_Flu Year 1 Stand-Alone</td><td>DP T cells</td><td>2170</td><td>11</td><td>  461</td><td> 0.1680997</td><td>159283</td><td>0.002894220</td><td>B064_PT1_PB00250-01.fcs</td><td>DP T cells</td><td>⋯</td><td>FH1002</td><td>Flu Year 1 Stand-Alone</td><td>Female</td><td>Responder</td><td>B064</td><td>D</td><td>D11</td><td>Viable Cells</td><td>Viable Cells</td><td>-2.4528644</td></tr>\n",
       "\t<tr><td>FH1002_Flu Year 1 Stand-Alone</td><td>EM CD4    </td><td>2170</td><td>11</td><td>14111</td><td> 5.1454555</td><td>159283</td><td>0.088590747</td><td>B064_PT1_PB00250-01.fcs</td><td>EM CD4    </td><td>⋯</td><td>FH1002</td><td>Flu Year 1 Stand-Alone</td><td>Female</td><td>Responder</td><td>B064</td><td>D</td><td>D11</td><td>Viable Cells</td><td>Viable Cells</td><td> 0.9684475</td></tr>\n",
       "\t<tr><td>FH1002_Flu Year 1 Stand-Alone</td><td>EM CD8    </td><td>2170</td><td>11</td><td>14999</td><td> 5.4692571</td><td>159283</td><td>0.094165730</td><td>B064_PT1_PB00250-01.fcs</td><td>EM CD8    </td><td>⋯</td><td>FH1002</td><td>Flu Year 1 Stand-Alone</td><td>Female</td><td>Responder</td><td>B064</td><td>D</td><td>D11</td><td>Viable Cells</td><td>Viable Cells</td><td> 1.0294764</td></tr>\n",
       "\t<tr><td>FH1002_Flu Year 1 Stand-Alone</td><td>Naive CD4 </td><td>2170</td><td>11</td><td>32682</td><td>11.9172118</td><td>159283</td><td>0.205181972</td><td>B064_PT1_PB00250-01.fcs</td><td>Naive CD4 </td><td>⋯</td><td>FH1002</td><td>Flu Year 1 Stand-Alone</td><td>Female</td><td>Responder</td><td>B064</td><td>D</td><td>D11</td><td>Viable Cells</td><td>Viable Cells</td><td> 1.8083173</td></tr>\n",
       "\t<tr><td>FH1002_Flu Year 1 Stand-Alone</td><td>Naive CD8 </td><td>2170</td><td>11</td><td> 6890</td><td> 2.5123796</td><td>159283</td><td>0.043256342</td><td>B064_PT1_PB00250-01.fcs</td><td>Naive CD8 </td><td>⋯</td><td>FH1002</td><td>Flu Year 1 Stand-Alone</td><td>Female</td><td>Responder</td><td>B064</td><td>D</td><td>D11</td><td>Viable Cells</td><td>Viable Cells</td><td> 0.2515640</td></tr>\n",
       "\t<tr><td>FH1002_Flu Year 1 Stand-Alone</td><td>TEMRA CD4 </td><td>2170</td><td>11</td><td> 6998</td><td> 2.5517609</td><td>159283</td><td>0.043934381</td><td>B064_PT1_PB00250-01.fcs</td><td>TEMRA CD4 </td><td>⋯</td><td>FH1002</td><td>Flu Year 1 Stand-Alone</td><td>Female</td><td>Responder</td><td>B064</td><td>D</td><td>D11</td><td>Viable Cells</td><td>Viable Cells</td><td> 0.2671173</td></tr>\n",
       "\t<tr><td>FH1002_Flu Year 1 Stand-Alone</td><td>TEMRA CD8 </td><td>2170</td><td>11</td><td>44932</td><td>16.3840695</td><td>159283</td><td>0.282089112</td><td>B064_PT1_PB00250-01.fcs</td><td>TEMRA CD8 </td><td>⋯</td><td>FH1002</td><td>Flu Year 1 Stand-Alone</td><td>Female</td><td>Responder</td><td>B064</td><td>D</td><td>D11</td><td>Viable Cells</td><td>Viable Cells</td><td> 2.1266431</td></tr>\n",
       "\t<tr><td>FH1002_Flu Year 1 Stand-Alone</td><td>Treg      </td><td>2170</td><td>11</td><td>11173</td><td> 4.0741389</td><td>159283</td><td>0.070145590</td><td>B064_PT1_PB00250-01.fcs</td><td>Treg      </td><td>⋯</td><td>FH1002</td><td>Flu Year 1 Stand-Alone</td><td>Female</td><td>Responder</td><td>B064</td><td>D</td><td>D11</td><td>Viable Cells</td><td>Viable Cells</td><td> 0.7349930</td></tr>\n",
       "</tbody>\n",
       "</table>\n"
      ],
      "text/latex": [
       "A tibble: 13 × 22\n",
       "\\begin{tabular}{lllllllllllllllllllll}\n",
       " Sample\\_ID & population & bc.lymphocyte.count & plate.column & eventCount & percent & total\\_events & frequency & filename & uniquePopulationName & ⋯ & Subject & Visit & Sex & Response & plate & plate.row & plate.well & percentOf & percentOfUniqueName & percent\\_clr\\\\\n",
       " <chr> & <chr> & <dbl> & <dbl> & <dbl> & <dbl> & <dbl> & <dbl> & <chr> & <chr> & ⋯ & <chr> & <chr> & <chr> & <chr> & <chr> & <chr> & <chr> & <chr> & <chr> & <dbl>\\\\\n",
       "\\hline\n",
       "\t FH1002\\_Flu Year 1 Stand-Alone & CD4 rm     & 2170 & 11 &   359 &  0.1309063 & 159283 & 0.002253850 & B064\\_PT1\\_PB00250-01.fcs & CD4 rm     & ⋯ & FH1002 & Flu Year 1 Stand-Alone & Female & Responder & B064 & D & D11 & Viable Cells & Viable Cells & -2.7029400\\\\\n",
       "\t FH1002\\_Flu Year 1 Stand-Alone & CD8 rm     & 2170 & 11 &   486 &  0.1772157 & 159283 & 0.003051173 & B064\\_PT1\\_PB00250-01.fcs & CD8 rm     & ⋯ & FH1002 & Flu Year 1 Stand-Alone & Female & Responder & B064 & D & D11 & Viable Cells & Viable Cells & -2.4000538\\\\\n",
       "\t FH1002\\_Flu Year 1 Stand-Alone & CM CD4     & 2170 & 11 & 17246 &  6.2886064 & 159283 & 0.108272697 & B064\\_PT1\\_PB00250-01.fcs & CM CD4     & ⋯ & FH1002 & Flu Year 1 Stand-Alone & Female & Responder & B064 & D & D11 & Viable Cells & Viable Cells &  1.1690731\\\\\n",
       "\t FH1002\\_Flu Year 1 Stand-Alone & CM CD8     & 2170 & 11 &  1807 &  0.6589071 & 159283 & 0.011344588 & B064\\_PT1\\_PB00250-01.fcs & CM CD8     & ⋯ & FH1002 & Flu Year 1 Stand-Alone & Female & Responder & B064 & D & D11 & Viable Cells & Viable Cells & -1.0868391\\\\\n",
       "\t FH1002\\_Flu Year 1 Stand-Alone & DN T cells & 2170 & 11 &  7139 &  2.6031753 & 159283 & 0.044819598 & B064\\_PT1\\_PB00250-01.fcs & DN T cells & ⋯ & FH1002 & Flu Year 1 Stand-Alone & Female & Responder & B064 & D & D11 & Viable Cells & Viable Cells &  0.2870656\\\\\n",
       "\t FH1002\\_Flu Year 1 Stand-Alone & DP T cells & 2170 & 11 &   461 &  0.1680997 & 159283 & 0.002894220 & B064\\_PT1\\_PB00250-01.fcs & DP T cells & ⋯ & FH1002 & Flu Year 1 Stand-Alone & Female & Responder & B064 & D & D11 & Viable Cells & Viable Cells & -2.4528644\\\\\n",
       "\t FH1002\\_Flu Year 1 Stand-Alone & EM CD4     & 2170 & 11 & 14111 &  5.1454555 & 159283 & 0.088590747 & B064\\_PT1\\_PB00250-01.fcs & EM CD4     & ⋯ & FH1002 & Flu Year 1 Stand-Alone & Female & Responder & B064 & D & D11 & Viable Cells & Viable Cells &  0.9684475\\\\\n",
       "\t FH1002\\_Flu Year 1 Stand-Alone & EM CD8     & 2170 & 11 & 14999 &  5.4692571 & 159283 & 0.094165730 & B064\\_PT1\\_PB00250-01.fcs & EM CD8     & ⋯ & FH1002 & Flu Year 1 Stand-Alone & Female & Responder & B064 & D & D11 & Viable Cells & Viable Cells &  1.0294764\\\\\n",
       "\t FH1002\\_Flu Year 1 Stand-Alone & Naive CD4  & 2170 & 11 & 32682 & 11.9172118 & 159283 & 0.205181972 & B064\\_PT1\\_PB00250-01.fcs & Naive CD4  & ⋯ & FH1002 & Flu Year 1 Stand-Alone & Female & Responder & B064 & D & D11 & Viable Cells & Viable Cells &  1.8083173\\\\\n",
       "\t FH1002\\_Flu Year 1 Stand-Alone & Naive CD8  & 2170 & 11 &  6890 &  2.5123796 & 159283 & 0.043256342 & B064\\_PT1\\_PB00250-01.fcs & Naive CD8  & ⋯ & FH1002 & Flu Year 1 Stand-Alone & Female & Responder & B064 & D & D11 & Viable Cells & Viable Cells &  0.2515640\\\\\n",
       "\t FH1002\\_Flu Year 1 Stand-Alone & TEMRA CD4  & 2170 & 11 &  6998 &  2.5517609 & 159283 & 0.043934381 & B064\\_PT1\\_PB00250-01.fcs & TEMRA CD4  & ⋯ & FH1002 & Flu Year 1 Stand-Alone & Female & Responder & B064 & D & D11 & Viable Cells & Viable Cells &  0.2671173\\\\\n",
       "\t FH1002\\_Flu Year 1 Stand-Alone & TEMRA CD8  & 2170 & 11 & 44932 & 16.3840695 & 159283 & 0.282089112 & B064\\_PT1\\_PB00250-01.fcs & TEMRA CD8  & ⋯ & FH1002 & Flu Year 1 Stand-Alone & Female & Responder & B064 & D & D11 & Viable Cells & Viable Cells &  2.1266431\\\\\n",
       "\t FH1002\\_Flu Year 1 Stand-Alone & Treg       & 2170 & 11 & 11173 &  4.0741389 & 159283 & 0.070145590 & B064\\_PT1\\_PB00250-01.fcs & Treg       & ⋯ & FH1002 & Flu Year 1 Stand-Alone & Female & Responder & B064 & D & D11 & Viable Cells & Viable Cells &  0.7349930\\\\\n",
       "\\end{tabular}\n"
      ],
      "text/markdown": [
       "\n",
       "A tibble: 13 × 22\n",
       "\n",
       "| Sample_ID &lt;chr&gt; | population &lt;chr&gt; | bc.lymphocyte.count &lt;dbl&gt; | plate.column &lt;dbl&gt; | eventCount &lt;dbl&gt; | percent &lt;dbl&gt; | total_events &lt;dbl&gt; | frequency &lt;dbl&gt; | filename &lt;chr&gt; | uniquePopulationName &lt;chr&gt; | ⋯ ⋯ | Subject &lt;chr&gt; | Visit &lt;chr&gt; | Sex &lt;chr&gt; | Response &lt;chr&gt; | plate &lt;chr&gt; | plate.row &lt;chr&gt; | plate.well &lt;chr&gt; | percentOf &lt;chr&gt; | percentOfUniqueName &lt;chr&gt; | percent_clr &lt;dbl&gt; |\n",
       "|---|---|---|---|---|---|---|---|---|---|---|---|---|---|---|---|---|---|---|---|---|\n",
       "| FH1002_Flu Year 1 Stand-Alone | CD4 rm     | 2170 | 11 |   359 |  0.1309063 | 159283 | 0.002253850 | B064_PT1_PB00250-01.fcs | CD4 rm     | ⋯ | FH1002 | Flu Year 1 Stand-Alone | Female | Responder | B064 | D | D11 | Viable Cells | Viable Cells | -2.7029400 |\n",
       "| FH1002_Flu Year 1 Stand-Alone | CD8 rm     | 2170 | 11 |   486 |  0.1772157 | 159283 | 0.003051173 | B064_PT1_PB00250-01.fcs | CD8 rm     | ⋯ | FH1002 | Flu Year 1 Stand-Alone | Female | Responder | B064 | D | D11 | Viable Cells | Viable Cells | -2.4000538 |\n",
       "| FH1002_Flu Year 1 Stand-Alone | CM CD4     | 2170 | 11 | 17246 |  6.2886064 | 159283 | 0.108272697 | B064_PT1_PB00250-01.fcs | CM CD4     | ⋯ | FH1002 | Flu Year 1 Stand-Alone | Female | Responder | B064 | D | D11 | Viable Cells | Viable Cells |  1.1690731 |\n",
       "| FH1002_Flu Year 1 Stand-Alone | CM CD8     | 2170 | 11 |  1807 |  0.6589071 | 159283 | 0.011344588 | B064_PT1_PB00250-01.fcs | CM CD8     | ⋯ | FH1002 | Flu Year 1 Stand-Alone | Female | Responder | B064 | D | D11 | Viable Cells | Viable Cells | -1.0868391 |\n",
       "| FH1002_Flu Year 1 Stand-Alone | DN T cells | 2170 | 11 |  7139 |  2.6031753 | 159283 | 0.044819598 | B064_PT1_PB00250-01.fcs | DN T cells | ⋯ | FH1002 | Flu Year 1 Stand-Alone | Female | Responder | B064 | D | D11 | Viable Cells | Viable Cells |  0.2870656 |\n",
       "| FH1002_Flu Year 1 Stand-Alone | DP T cells | 2170 | 11 |   461 |  0.1680997 | 159283 | 0.002894220 | B064_PT1_PB00250-01.fcs | DP T cells | ⋯ | FH1002 | Flu Year 1 Stand-Alone | Female | Responder | B064 | D | D11 | Viable Cells | Viable Cells | -2.4528644 |\n",
       "| FH1002_Flu Year 1 Stand-Alone | EM CD4     | 2170 | 11 | 14111 |  5.1454555 | 159283 | 0.088590747 | B064_PT1_PB00250-01.fcs | EM CD4     | ⋯ | FH1002 | Flu Year 1 Stand-Alone | Female | Responder | B064 | D | D11 | Viable Cells | Viable Cells |  0.9684475 |\n",
       "| FH1002_Flu Year 1 Stand-Alone | EM CD8     | 2170 | 11 | 14999 |  5.4692571 | 159283 | 0.094165730 | B064_PT1_PB00250-01.fcs | EM CD8     | ⋯ | FH1002 | Flu Year 1 Stand-Alone | Female | Responder | B064 | D | D11 | Viable Cells | Viable Cells |  1.0294764 |\n",
       "| FH1002_Flu Year 1 Stand-Alone | Naive CD4  | 2170 | 11 | 32682 | 11.9172118 | 159283 | 0.205181972 | B064_PT1_PB00250-01.fcs | Naive CD4  | ⋯ | FH1002 | Flu Year 1 Stand-Alone | Female | Responder | B064 | D | D11 | Viable Cells | Viable Cells |  1.8083173 |\n",
       "| FH1002_Flu Year 1 Stand-Alone | Naive CD8  | 2170 | 11 |  6890 |  2.5123796 | 159283 | 0.043256342 | B064_PT1_PB00250-01.fcs | Naive CD8  | ⋯ | FH1002 | Flu Year 1 Stand-Alone | Female | Responder | B064 | D | D11 | Viable Cells | Viable Cells |  0.2515640 |\n",
       "| FH1002_Flu Year 1 Stand-Alone | TEMRA CD4  | 2170 | 11 |  6998 |  2.5517609 | 159283 | 0.043934381 | B064_PT1_PB00250-01.fcs | TEMRA CD4  | ⋯ | FH1002 | Flu Year 1 Stand-Alone | Female | Responder | B064 | D | D11 | Viable Cells | Viable Cells |  0.2671173 |\n",
       "| FH1002_Flu Year 1 Stand-Alone | TEMRA CD8  | 2170 | 11 | 44932 | 16.3840695 | 159283 | 0.282089112 | B064_PT1_PB00250-01.fcs | TEMRA CD8  | ⋯ | FH1002 | Flu Year 1 Stand-Alone | Female | Responder | B064 | D | D11 | Viable Cells | Viable Cells |  2.1266431 |\n",
       "| FH1002_Flu Year 1 Stand-Alone | Treg       | 2170 | 11 | 11173 |  4.0741389 | 159283 | 0.070145590 | B064_PT1_PB00250-01.fcs | Treg       | ⋯ | FH1002 | Flu Year 1 Stand-Alone | Female | Responder | B064 | D | D11 | Viable Cells | Viable Cells |  0.7349930 |\n",
       "\n"
      ],
      "text/plain": [
       "   Sample_ID                     population bc.lymphocyte.count plate.column\n",
       "1  FH1002_Flu Year 1 Stand-Alone CD4 rm     2170                11          \n",
       "2  FH1002_Flu Year 1 Stand-Alone CD8 rm     2170                11          \n",
       "3  FH1002_Flu Year 1 Stand-Alone CM CD4     2170                11          \n",
       "4  FH1002_Flu Year 1 Stand-Alone CM CD8     2170                11          \n",
       "5  FH1002_Flu Year 1 Stand-Alone DN T cells 2170                11          \n",
       "6  FH1002_Flu Year 1 Stand-Alone DP T cells 2170                11          \n",
       "7  FH1002_Flu Year 1 Stand-Alone EM CD4     2170                11          \n",
       "8  FH1002_Flu Year 1 Stand-Alone EM CD8     2170                11          \n",
       "9  FH1002_Flu Year 1 Stand-Alone Naive CD4  2170                11          \n",
       "10 FH1002_Flu Year 1 Stand-Alone Naive CD8  2170                11          \n",
       "11 FH1002_Flu Year 1 Stand-Alone TEMRA CD4  2170                11          \n",
       "12 FH1002_Flu Year 1 Stand-Alone TEMRA CD8  2170                11          \n",
       "13 FH1002_Flu Year 1 Stand-Alone Treg       2170                11          \n",
       "   eventCount percent    total_events frequency   filename               \n",
       "1    359       0.1309063 159283       0.002253850 B064_PT1_PB00250-01.fcs\n",
       "2    486       0.1772157 159283       0.003051173 B064_PT1_PB00250-01.fcs\n",
       "3  17246       6.2886064 159283       0.108272697 B064_PT1_PB00250-01.fcs\n",
       "4   1807       0.6589071 159283       0.011344588 B064_PT1_PB00250-01.fcs\n",
       "5   7139       2.6031753 159283       0.044819598 B064_PT1_PB00250-01.fcs\n",
       "6    461       0.1680997 159283       0.002894220 B064_PT1_PB00250-01.fcs\n",
       "7  14111       5.1454555 159283       0.088590747 B064_PT1_PB00250-01.fcs\n",
       "8  14999       5.4692571 159283       0.094165730 B064_PT1_PB00250-01.fcs\n",
       "9  32682      11.9172118 159283       0.205181972 B064_PT1_PB00250-01.fcs\n",
       "10  6890       2.5123796 159283       0.043256342 B064_PT1_PB00250-01.fcs\n",
       "11  6998       2.5517609 159283       0.043934381 B064_PT1_PB00250-01.fcs\n",
       "12 44932      16.3840695 159283       0.282089112 B064_PT1_PB00250-01.fcs\n",
       "13 11173       4.0741389 159283       0.070145590 B064_PT1_PB00250-01.fcs\n",
       "   uniquePopulationName ⋯ Subject Visit                  Sex    Response  plate\n",
       "1  CD4 rm               ⋯ FH1002  Flu Year 1 Stand-Alone Female Responder B064 \n",
       "2  CD8 rm               ⋯ FH1002  Flu Year 1 Stand-Alone Female Responder B064 \n",
       "3  CM CD4               ⋯ FH1002  Flu Year 1 Stand-Alone Female Responder B064 \n",
       "4  CM CD8               ⋯ FH1002  Flu Year 1 Stand-Alone Female Responder B064 \n",
       "5  DN T cells           ⋯ FH1002  Flu Year 1 Stand-Alone Female Responder B064 \n",
       "6  DP T cells           ⋯ FH1002  Flu Year 1 Stand-Alone Female Responder B064 \n",
       "7  EM CD4               ⋯ FH1002  Flu Year 1 Stand-Alone Female Responder B064 \n",
       "8  EM CD8               ⋯ FH1002  Flu Year 1 Stand-Alone Female Responder B064 \n",
       "9  Naive CD4            ⋯ FH1002  Flu Year 1 Stand-Alone Female Responder B064 \n",
       "10 Naive CD8            ⋯ FH1002  Flu Year 1 Stand-Alone Female Responder B064 \n",
       "11 TEMRA CD4            ⋯ FH1002  Flu Year 1 Stand-Alone Female Responder B064 \n",
       "12 TEMRA CD8            ⋯ FH1002  Flu Year 1 Stand-Alone Female Responder B064 \n",
       "13 Treg                 ⋯ FH1002  Flu Year 1 Stand-Alone Female Responder B064 \n",
       "   plate.row plate.well percentOf    percentOfUniqueName percent_clr\n",
       "1  D         D11        Viable Cells Viable Cells        -2.7029400 \n",
       "2  D         D11        Viable Cells Viable Cells        -2.4000538 \n",
       "3  D         D11        Viable Cells Viable Cells         1.1690731 \n",
       "4  D         D11        Viable Cells Viable Cells        -1.0868391 \n",
       "5  D         D11        Viable Cells Viable Cells         0.2870656 \n",
       "6  D         D11        Viable Cells Viable Cells        -2.4528644 \n",
       "7  D         D11        Viable Cells Viable Cells         0.9684475 \n",
       "8  D         D11        Viable Cells Viable Cells         1.0294764 \n",
       "9  D         D11        Viable Cells Viable Cells         1.8083173 \n",
       "10 D         D11        Viable Cells Viable Cells         0.2515640 \n",
       "11 D         D11        Viable Cells Viable Cells         0.2671173 \n",
       "12 D         D11        Viable Cells Viable Cells         2.1266431 \n",
       "13 D         D11        Viable Cells Viable Cells         0.7349930 "
      ]
     },
     "metadata": {},
     "output_type": "display_data"
    },
    {
     "data": {
      "text/html": [
       "13"
      ],
      "text/latex": [
       "13"
      ],
      "text/markdown": [
       "13"
      ],
      "text/plain": [
       "[1] 13"
      ]
     },
     "metadata": {},
     "output_type": "display_data"
    },
    {
     "data": {
      "text/html": [
       "1"
      ],
      "text/latex": [
       "1"
      ],
      "text/markdown": [
       "1"
      ],
      "text/plain": [
       "[1] 1"
      ]
     },
     "metadata": {},
     "output_type": "display_data"
    }
   ],
   "source": [
    "mask = result$Subject == \"FH1002\" & result$Visit == \"Flu Year 1 Stand-Alone\" & result$population %in% celltypes$l2\n",
    "result <- result[mask,]\n",
    "\n",
    "result\n",
    "nrow(result)\n",
    "sum(result$frequency)"
   ]
  }
 ],
 "metadata": {
  "kernelspec": {
   "display_name": "R (PBMC Flow)",
   "language": "R",
   "name": "pbmc_flow_r_env"
  },
  "language_info": {
   "codemirror_mode": "r",
   "file_extension": ".r",
   "mimetype": "text/x-r-source",
   "name": "R",
   "pygments_lexer": "r",
   "version": "4.3.3"
  }
 },
 "nbformat": 4,
 "nbformat_minor": 5
}
