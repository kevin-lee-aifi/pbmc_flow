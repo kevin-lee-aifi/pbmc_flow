{
 "cells": [
  {
   "cell_type": "markdown",
   "id": "952f9ecd-1688-4ead-9549-6e619b3a4109",
   "metadata": {},
   "source": [
    "## Setup"
   ]
  },
  {
   "cell_type": "code",
   "execution_count": null,
   "id": "61e602e4-4715-4e38-b712-6359b94dcecc",
   "metadata": {
    "scrolled": true
   },
   "outputs": [],
   "source": [
    "suppressPackageStartupMessages({\n",
    "    library(ggplot2)\n",
    "    library(ggalluvial)\n",
    "    library(dplyr)\n",
    "    library(RColorBrewer)\n",
    "    library(gridExtra)\n",
    "    library(rlang)\n",
    "    library(tidyr)\n",
    "    library(patchwork)\n",
    "    library(data.table)\n",
    "    library(ggpubr)\n",
    "})\n",
    "\n",
    "home <- \"/home/workspace/\"\n",
    "path <- \"pbmc_flow/data/NDMM PB1 data - Statistics(in).csv\"\n",
    "util <- \"pbmc_flow/utils.R\"\n",
    "\n",
    "source(file.path(home, util))\n",
    "\n",
    "df <- fread(file.path(home, path))\n",
    "df <- df[df$percentOf == \"Viable cells\", ]\n",
    "df$subject <- df$Subject\n",
    "df$visit <- df$Visit\n",
    "df$cell <- df$population\n",
    "\n",
    "timepoint_labels <- c(\n",
    "    \"Flu Year 1 Stand-Alone\" = \"Y1 SA\",\n",
    "    \"Flu Year 1 Day 0\" = \"Y1 Day 0\", \n",
    "    \"Flu Year 1 Day 7\" = \"Y1 Day 7\",\n",
    "    \"Flu Year 1 Day 90\" = \"Y1 Day 90\",\n",
    "    \"Flu Year 2 Stand-Alone\" = \"Y2 SA\",\n",
    "    \"Flu Year 2 Day 0\" = \"Y2 Day 0\",\n",
    "    \"Flu Year 2 Day 7\" = \"Y2 Day 7\", \n",
    "    \"Flu Year 2 Day 90\" = \"Y2 Day 90\"\n",
    ")\n",
    "\n",
    "df <- df[df$visit %in% names(timepoint_labels)]"
   ]
  },
  {
   "cell_type": "markdown",
   "id": "d8d8d5ad-fd8c-44d9-a0ac-41a2c5b96ae9",
   "metadata": {},
   "source": [
    "## Data QC"
   ]
  },
  {
   "cell_type": "markdown",
   "id": "c9799de9-c95c-45d9-b395-32dad6e799b0",
   "metadata": {},
   "source": [
    "### Unusual timepoint labels"
   ]
  },
  {
   "cell_type": "code",
   "execution_count": null,
   "id": "dd294697-f9f5-4ddd-895d-e960713bff72",
   "metadata": {},
   "outputs": [],
   "source": [
    "data <- read.csv(file.path(home, path))\n",
    "unique_visits <- unique(data$Visit)\n",
    "visits_not_in_labels <- unique_visits[!unique_visits %in% names(timepoint_labels)]\n",
    "print(visits_not_in_labels)"
   ]
  },
  {
   "cell_type": "markdown",
   "id": "72be607a-df3f-43d2-94da-dcbe661154bb",
   "metadata": {},
   "source": [
    "### Sample Availability by Subject and Timepoint"
   ]
  },
  {
   "cell_type": "code",
   "execution_count": null,
   "id": "c155afc7-9ac1-4b91-b294-5f73716b9445",
   "metadata": {},
   "outputs": [],
   "source": [
    "options(repr.plot.width = 10, repr.plot.height = 10)\n",
    "\n",
    "timepoints_per_subject <- aggregate(visit ~ subject, df, function(x) length(unique(x)))\n",
    "names(timepoints_per_subject)[2] <- \"num_timepoints\"\n",
    "\n",
    "timepoint_data <- unique(df[, c(\"subject\", \"visit\")])\n",
    "timepoint_data$present <- 1\n",
    "\n",
    "all_subjects <- unique(timepoint_data$subject)\n",
    "all_visits <- unique(timepoint_data$visit)\n",
    "\n",
    "complete_grid <- expand.grid(subject = all_subjects, visit = all_visits)\n",
    "plot_data <- merge(complete_grid, timepoint_data, all.x = TRUE)\n",
    "plot_data$present[is.na(plot_data$present)] <- 0\n",
    "\n",
    "plot_data$visit <- factor(plot_data$visit, levels = names(timepoint_labels), labels = timepoint_labels)\n",
    "plot_data$subject <- factor(plot_data$subject, levels = sort(all_subjects))\n",
    "\n",
    "ggplot(plot_data, aes(x = visit, y = subject, fill = factor(present))) +\n",
    "  geom_tile(color = \"white\") +\n",
    "  scale_fill_manual(values = c(\"0\" = \"lightgray\", \"1\" = \"steelblue\"), \n",
    "                    labels = c(\"0\" = \"False\", \"1\" = \"True\"),\n",
    "                    name = \"Data Available\") +\n",
    "  theme_minimal() +\n",
    "  theme(axis.text.x = element_text(angle = 45, hjust = 1)) +\n",
    "  labs(title = \"Sample Availability by Subject and Timepoint\",\n",
    "       x = \"Visit/Timepoint\", y = \"Subject\")"
   ]
  },
  {
   "cell_type": "markdown",
   "id": "9dd4bb8c-2fbd-4965-aef4-60d7481e2193",
   "metadata": {},
   "source": [
    "### All Subject-Visit-Celltype combinations with duplicates"
   ]
  },
  {
   "cell_type": "code",
   "execution_count": null,
   "id": "42febe0b-697a-4dfd-ae78-cd2e7f22b9c1",
   "metadata": {},
   "outputs": [],
   "source": [
    "# Set plot dimensions for output\n",
    "options(repr.plot.width = 28, repr.plot.height = 8)\n",
    "\n",
    "# Identify duplicate measurements (same subject/visit/cell combinations)\n",
    "duplicate_counts <- aggregate(df$percent, \n",
    "                            by = list(subject = df$subject, \n",
    "                                     visit = df$visit, \n",
    "                                     cell = df$cell), \n",
    "                            FUN = length)\n",
    "names(duplicate_counts)[4] <- \"N\"\n",
    "\n",
    "# Extract only combinations that have duplicates\n",
    "duplicates_only <- duplicate_counts[duplicate_counts$N > 1, ]\n",
    "duplicate_combos <- unique(duplicates_only[, c(\"subject\", \"visit\")])\n",
    "\n",
    "# Get the actual duplicate data and create identifier\n",
    "duplicate_data <- merge(df, duplicate_combos, by = c(\"subject\", \"visit\"))\n",
    "duplicate_data$combo_id <- paste(duplicate_data$subject, duplicate_data$visit, sep = \" - \")\n",
    "\n",
    "# Calculate statistics for each cell type's duplicate measurements\n",
    "duplicate_stats <- aggregate(duplicate_data$percent,\n",
    "                           by = list(cell = duplicate_data$cell, \n",
    "                                   combo = duplicate_data$combo_id),\n",
    "                           FUN = function(x) c(mean = mean(x), \n",
    "                                             sd = sd(x),\n",
    "                                             min = min(x),\n",
    "                                             max = max(x),\n",
    "                                             diff = max(x) - min(x)))\n",
    "\n",
    "# Convert to proper data frame format\n",
    "duplicate_stats <- data.frame(\n",
    "  cell = duplicate_stats$cell,\n",
    "  combo = duplicate_stats$combo,\n",
    "  mean_percent = duplicate_stats$x[,\"mean\"],\n",
    "  sd_percent = duplicate_stats$x[,\"sd\"],\n",
    "  min_percent = duplicate_stats$x[,\"min\"],\n",
    "  max_percent = duplicate_stats$x[,\"max\"],\n",
    "  diff_percent = duplicate_stats$x[,\"diff\"]\n",
    ")\n",
    "\n",
    "# Plot 1: Standard deviation of duplicates by cell type\n",
    "p1 <- ggplot(duplicate_stats, aes(x = reorder(cell, sd_percent), y = sd_percent, fill = combo)) +\n",
    "  geom_col(position = \"dodge\", alpha = 0.7) +\n",
    "  coord_flip() +\n",
    "  labs(title = \"Standard Deviation of Duplicate Measurements\",\n",
    "       x = \"\",\n",
    "       y = \"Standard Deviation (%)\") +\n",
    "  theme_minimal()\n",
    "\n",
    "# Plot 2: Individual duplicate measurement points\n",
    "p2 <- ggplot(duplicate_data, aes(x = cell, y = percent, color = combo_id)) +\n",
    "  geom_point(size = 3, alpha = 0.7, position = position_jitter(width = 0.1)) +\n",
    "  coord_flip() +\n",
    "  labs(title = \"Individual Duplicate Measurements\",\n",
    "       x = \"\",\n",
    "       y = \"Percent of Live Cells\") +\n",
    "  theme_minimal()\n",
    "\n",
    "# Plot 3: Range (max-min difference) of duplicates by cell type  \n",
    "p3 <- ggplot(duplicate_stats, aes(x = reorder(cell, diff_percent), y = diff_percent, fill = combo)) +\n",
    "  geom_col(position = \"dodge\", alpha = 0.7) +\n",
    "  coord_flip() +\n",
    "  labs(title = \"Difference Between Duplicate Measurements\",\n",
    "       x = \"\",\n",
    "       y = \"Difference (Max - Min) %\") +\n",
    "  theme_minimal()\n",
    "\n",
    "# Combine all three plots in single row\n",
    "plots <- list(p1, p2, p3)\n",
    "ggpubr::ggarrange(plotlist = plots, common.legend = TRUE, ncol = 3, nrow = 1)"
   ]
  },
  {
   "cell_type": "markdown",
   "id": "503c5cf2-6af9-4c25-9e53-3958e88d262e",
   "metadata": {},
   "source": [
    "## Plotting"
   ]
  },
  {
   "cell_type": "markdown",
   "id": "480b4376-6365-4593-bfca-5fe70e4c9631",
   "metadata": {},
   "source": [
    "### Plotting year 1 & 2"
   ]
  },
  {
   "cell_type": "code",
   "execution_count": null,
   "id": "57bf8f33-b80a-494d-a086-dcacb9b22d5c",
   "metadata": {},
   "outputs": [],
   "source": [
    "# Set plot dimensions for output\n",
    "options(repr.plot.width = 26, repr.plot.height = 16)\n",
    "\n",
    "# Copy percent column to new variable name\n",
    "df$cell_type_frac_total <- df$percent\n",
    "\n",
    "# Convert visit to ordered factor with custom labels\n",
    "df$visit <- factor(timepoint_labels[df$visit], \n",
    "                  levels = c(\"Y1 SA\", \"Y1 Day 0\", \"Y1 Day 7\", \"Y1 Day 90\", \n",
    "                            \"Y2 SA\", \"Y2 Day 0\", \"Y2 Day 7\", \"Y2 Day 90\"))\n",
    "\n",
    "# Define consecutive timepoint pairs for statistical comparisons\n",
    "timepoints_pairs <- list(\n",
    "    Y1 = list(c('Y1 SA','Y1 Day 0'), c('Y1 Day 0','Y1 Day 7'), c('Y1 Day 7', 'Y1 Day 90')),\n",
    "    Y2 = list(c('Y2 SA','Y2 Day 0'), c('Y2 Day 0','Y2 Day 7'), c('Y2 Day 7', 'Y2 Day 90'))\n",
    ")\n",
    "\n",
    "# Function to create multi-panel plot with one subplot per cell type\n",
    "create_figure <- function(pairs, title, use_duplicates = FALSE) {\n",
    "    plotlist <- lapply(unique(df$cell), function(x) {\n",
    "        testCelltype_paired(df, x, pairsOfTimes = pairs, size = 4, use_duplicates = use_duplicates)$Plot\n",
    "    })\n",
    "    fig <- ggpubr::ggarrange(plotlist = plotlist, common.legend = TRUE, ncol = 7, nrow = 3)\n",
    "    fig <- annotate_figure(fig, top = text_grob(title, size = 20))\n",
    "    annotate_figure(fig, bottom = text_grob('Clinical Visits', size = 20),\n",
    "                   left = text_grob('% of Viable Cells', size = 20, rot = 90))\n",
    "}\n",
    "\n",
    "# Generate and display figures for both years\n",
    "y1_fig <- create_figure(timepoints_pairs$Y1, 'Year 1 Relative B cell abundances in PBMCs', use_duplicates = TRUE)\n",
    "y2_fig <- create_figure(timepoints_pairs$Y2, 'Year 2 Relative B cell abundances in PBMCs', use_duplicates = TRUE)\n",
    "\n",
    "print(y1_fig)\n",
    "print(y2_fig)"
   ]
  }
 ],
 "metadata": {
  "kernelspec": {
   "display_name": "R (PBMC Flow)",
   "language": "R",
   "name": "pbmc_flow_r_env"
  },
  "language_info": {
   "codemirror_mode": "r",
   "file_extension": ".r",
   "mimetype": "text/x-r-source",
   "name": "R",
   "pygments_lexer": "r",
   "version": "4.3.3"
  }
 },
 "nbformat": 4,
 "nbformat_minor": 5
}
