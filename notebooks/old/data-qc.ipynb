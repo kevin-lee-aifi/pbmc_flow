{
 "cells": [
  {
   "cell_type": "code",
   "execution_count": 1,
   "id": "6bd79034-e2a5-44b7-a0a4-81cd97960aa5",
   "metadata": {},
   "outputs": [],
   "source": [
    "suppressPackageStartupMessages(library(ggplot2))\n",
    "suppressPackageStartupMessages(library(ggalluvial))\n",
    "suppressPackageStartupMessages(library(dplyr))\n",
    "suppressPackageStartupMessages(library(RColorBrewer))\n",
    "suppressPackageStartupMessages(library(gridExtra))\n",
    "suppressPackageStartupMessages(library(rlang))\n",
    "suppressPackageStartupMessages(library(tidyr))\n",
    "suppressPackageStartupMessages(library(patchwork))"
   ]
  },
  {
   "cell_type": "code",
   "execution_count": null,
   "id": "d6fd6050-5176-437a-bc77-76eb7f11c339",
   "metadata": {},
   "outputs": [],
   "source": []
  },
  {
   "cell_type": "code",
   "execution_count": 2,
   "id": "d529e965-232d-4c01-aaf3-ab2af1d05027",
   "metadata": {},
   "outputs": [
    {
     "ename": "ERROR",
     "evalue": "Error in fread(file.path(home, path)): could not find function \"fread\"\n",
     "output_type": "error",
     "traceback": [
      "Error in fread(file.path(home, path)): could not find function \"fread\"\nTraceback:\n"
     ]
    }
   ],
   "source": [
    "home <- \"/home/workspace/\"\n",
    "path <- \"pbmc_flow/data/T Cell PBMC data_final_counts, % viable cells(in).csv\"\n",
    "\n",
    "data <- fread(file.path(home, path))\n",
    "\n",
    "timepoints_per_subject <- aggregate(Visit ~ Subject, data, function(x) length(unique(x)))\n",
    "names(timepoints_per_subject)[2] <- \"num_timepoints\"\n",
    "\n",
    "print(timepoints_per_subject)"
   ]
  }
 ],
 "metadata": {
  "kernelspec": {
   "display_name": "R (PBMC Flow)",
   "language": "R",
   "name": "pbmc_flow_r_env"
  },
  "language_info": {
   "codemirror_mode": "r",
   "file_extension": ".r",
   "mimetype": "text/x-r-source",
   "name": "R",
   "pygments_lexer": "r",
   "version": "4.3.3"
  }
 },
 "nbformat": 4,
 "nbformat_minor": 5
}
